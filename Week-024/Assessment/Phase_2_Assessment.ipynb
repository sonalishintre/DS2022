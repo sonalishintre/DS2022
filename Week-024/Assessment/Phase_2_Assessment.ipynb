{
 "cells": [
  {
   "cell_type": "markdown",
   "id": "32293a4e",
   "metadata": {},
   "source": [
    "# Phase 2 Assessment "
   ]
  },
  {
   "cell_type": "code",
   "execution_count": 3,
   "id": "f2601321",
   "metadata": {},
   "outputs": [],
   "source": [
    "import numpy as np\n",
    "import pandas as pd\n",
    "import matplotlib.pyplot as plt"
   ]
  },
  {
   "cell_type": "markdown",
   "id": "0a4099ae",
   "metadata": {},
   "source": [
    "#### Section 1 --- Python Fundamentals"
   ]
  },
  {
   "cell_type": "markdown",
   "id": "8af25370",
   "metadata": {},
   "source": [
    "Question 1:\n",
    "\n",
    "    Given an array of N length, return the object in the array that appears most frequently. In the case of a tie, return the object that appears first in the array.\n",
    "\n",
    "    If every object appears at the same frequency, return None.\n",
    "\n",
    "    Only the standard library and while and for loops should be used.\n",
    "\n",
    "    I.E.\n",
    "\n",
    "\n",
    "    [1,2,3,4] -> None\n",
    "\n",
    "    [1,1,2,2,3,4,5] -> 1. Even though 1 and 2 appear the same amount of times, 1 appears first.\n",
    "\n",
    "    [1,1,2,2,2,] -> 2"
   ]
  },
  {
   "cell_type": "code",
   "execution_count": null,
   "id": "5edfff17",
   "metadata": {},
   "outputs": [],
   "source": [
    "def most_frequent(arr):\n",
    "    ...\n",
    "\n",
    "try:\n",
    "    assert( most_frequent([1,2,3,4,5]) == None)\n",
    "    assert( most_frequent([1,2,3,4,5,\"a\",\"b\",\"a\"]) == \"a\")\n",
    "    assert( most_frequent([1,2,3,4,-5,\"a\",100,6,\"b\",-5]) == -5)\n",
    "    print(\"Correct\")\n",
    "except AssertionError:\n",
    "    print(\"Incorrect\")"
   ]
  },
  {
   "attachments": {},
   "cell_type": "markdown",
   "id": "3060ced8",
   "metadata": {},
   "source": [
    "Question 2:\n",
    "\n",
    "    Bubblesort works as follows.\n",
    "    \n",
    "    \n",
    "    It will compare an object in the array with the next object in the array. If the current object is larger than the next object, it will swap the two elements. It will do this until the array is sorted.\n",
    "    \n",
    "    \n",
    "    https://upload.wikimedia.org/wikipedia/commons/5/54/Sorting_bubblesort_anim.gif\n",
    "    https://upload.wikimedia.org/wikipedia/commons/0/06/Bubble-sort.gif\n",
    "    \n",
    "    \n",
    "    Implement Bubble Sort.\n",
    "    Explain the Time Complexity of your implementation, and the space complexity of your implementation.\n",
    "    While optimization is prefered, it is not necessary.\n",
    "    "
   ]
  },
  {
   "cell_type": "code",
   "execution_count": null,
   "id": "f4b72092",
   "metadata": {},
   "outputs": [],
   "source": []
  },
  {
   "cell_type": "markdown",
   "id": "cb14ab51",
   "metadata": {},
   "source": [
    "#### Section 2 --- Pandas Fundamentals"
   ]
  },
  {
   "cell_type": "markdown",
   "id": "e73a5b85",
   "metadata": {},
   "source": [
    "Question 1:\n",
    "    \n",
    "    Write your answers in the code blocks below.\n",
    "    \n",
    "    \n",
    "    \n",
    "    a) What are the two fundamental data structures in Pandas. How are they related?  \n",
    "    b) What is Vectorization?"
   ]
  },
  {
   "cell_type": "code",
   "execution_count": null,
   "id": "eb9e6566",
   "metadata": {},
   "outputs": [],
   "source": [
    "#A"
   ]
  },
  {
   "cell_type": "code",
   "execution_count": null,
   "id": "95fa9206",
   "metadata": {},
   "outputs": [],
   "source": [
    "#B"
   ]
  },
  {
   "cell_type": "markdown",
   "id": "6c3e9088",
   "metadata": {},
   "source": [
    "Question 2:\n",
    "\n",
    "    Using Pandas, return these values from the Titanic Dataframe.\n",
    "    \n",
    "    a) The Average Age\n",
    "    b) The amount of Null Ages\n",
    "    c) The count of all women that survived\n",
    "    d) The Passenger who survived with the longest name.\n",
    "    "
   ]
  },
  {
   "cell_type": "code",
   "execution_count": 6,
   "id": "d22fe1fd",
   "metadata": {},
   "outputs": [],
   "source": [
    "# Use this cell to import the Titanic CSV. Either use the weblink, or the csv that is in the Week 24 Folder.\n"
   ]
  },
  {
   "cell_type": "code",
   "execution_count": 3,
   "id": "a6e872bf",
   "metadata": {},
   "outputs": [],
   "source": [
    "## A\n"
   ]
  },
  {
   "cell_type": "code",
   "execution_count": 4,
   "id": "f927d8c7",
   "metadata": {},
   "outputs": [],
   "source": [
    "## B"
   ]
  },
  {
   "cell_type": "code",
   "execution_count": 5,
   "id": "603dff83",
   "metadata": {},
   "outputs": [],
   "source": [
    "## C"
   ]
  },
  {
   "cell_type": "code",
   "execution_count": 6,
   "id": "b1fd2a57",
   "metadata": {},
   "outputs": [],
   "source": [
    "## D"
   ]
  },
  {
   "cell_type": "markdown",
   "id": "60f38fee",
   "metadata": {},
   "source": [
    "#### Section 3 --- Numpy and Matplotlib"
   ]
  },
  {
   "cell_type": "markdown",
   "id": "17cdddcb",
   "metadata": {},
   "source": [
    "Question 1:\n",
    "\n",
    "    a)What is the basic data structrure in Numpy?\n",
    "    b)What are the characteristics of it?\n",
    "    c)Why does Numpy prefer this Data Structure?\n",
    "    d)What are two examples of Data Structures built out of this Data Structure?"
   ]
  },
  {
   "cell_type": "code",
   "execution_count": null,
   "id": "dd6a8f2a",
   "metadata": {},
   "outputs": [],
   "source": [
    "#A "
   ]
  },
  {
   "cell_type": "code",
   "execution_count": null,
   "id": "21f4a346",
   "metadata": {},
   "outputs": [],
   "source": [
    "#B"
   ]
  },
  {
   "cell_type": "code",
   "execution_count": null,
   "id": "c7780ba9",
   "metadata": {},
   "outputs": [],
   "source": [
    "#C"
   ]
  },
  {
   "cell_type": "code",
   "execution_count": null,
   "id": "6891d0f3",
   "metadata": {},
   "outputs": [],
   "source": [
    "#C"
   ]
  },
  {
   "cell_type": "markdown",
   "id": "8fb8cb0d",
   "metadata": {},
   "source": [
    "Question 2:"
   ]
  },
  {
   "cell_type": "markdown",
   "id": "5bdb6c80",
   "metadata": {},
   "source": [
    "Using the Titanic dataset, create a histogram that compares the amount of women who survived against the amount of men who survived."
   ]
  },
  {
   "cell_type": "code",
   "execution_count": null,
   "id": "43e3a1f9",
   "metadata": {},
   "outputs": [],
   "source": []
  }
 ],
 "metadata": {
  "kernelspec": {
   "display_name": "Python 3",
   "language": "python",
   "name": "python3"
  },
  "language_info": {
   "codemirror_mode": {
    "name": "ipython",
    "version": 3
   },
   "file_extension": ".py",
   "mimetype": "text/x-python",
   "name": "python",
   "nbconvert_exporter": "python",
   "pygments_lexer": "ipython3",
   "version": "3.9.1"
  }
 },
 "nbformat": 4,
 "nbformat_minor": 5
}

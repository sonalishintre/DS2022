{
  "nbformat": 4,
  "nbformat_minor": 0,
  "metadata": {
    "colab": {
      "name": "flask_code_along.ipynb",
      "provenance": []
    },
    "kernelspec": {
      "name": "python3",
      "display_name": "Python 3"
    },
    "language_info": {
      "name": "python"
    }
  },
  "cells": [
    {
      "cell_type": "code",
      "metadata": {
        "id": "K4-fUGEWcKy2"
      },
      "source": [
        "from flask import Flask, redirect, url_for\n",
        "\n",
        "app = Flask(__name__)\n",
        "\n",
        "@app.route('/')\n",
        "def home():\n",
        "    message = '''\n",
        "    <html>\n",
        "    <head>\n",
        "        <title>Home Page</title>\n",
        "        </head>\n",
        "        <body>\n",
        "            <h1>Welcome to TKH!</h1>\n",
        "             <h2>\n",
        "             <br>\n",
        "             We are looking forward to meeting you.\n",
        "             </h2>\n",
        "         </body>\n",
        "     </html>'''\n",
        "\n",
        "    return message\n",
        "\n",
        "fellow = False\n",
        "\n",
        "@app.route(\"/admin\")\n",
        "def admin():\n",
        "    if fellow:\n",
        "        return redirect(url_for(\"fellow\"))\n",
        "    else:\n",
        "        return '<h1>Welcome, admin!</h1>'\n",
        "\n",
        "@app.route('/user')\n",
        "def user():\n",
        "    return f'Hello user!'\n",
        "\n",
        "if __name__ == '__main__':\n",
        "    app.run(debug=True)"
      ],
      "execution_count": null,
      "outputs": []
    }
  ]
}
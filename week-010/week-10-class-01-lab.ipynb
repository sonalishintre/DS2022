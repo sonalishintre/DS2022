{
  "nbformat": 4,
  "nbformat_minor": 0,
  "metadata": {
    "colab": {
      "name": "MongoDB Atlas Lab",
      "provenance": []
    },
    "kernelspec": {
      "name": "python3",
      "display_name": "Python 3"
    },
    "language_info": {
      "name": "python"
    }
  },
  "cells": [
    {
      "cell_type": "markdown",
      "metadata": {
        "id": "Y_bCE67biNDy"
      },
      "source": [
        "# Lab Exercises"
      ]
    },
    {
      "cell_type": "markdown",
      "metadata": {
        "id": "sS3PiLbbiXYJ"
      },
      "source": [
        "# Exercise 1"
      ]
    },
    {
      "cell_type": "markdown",
      "metadata": {
        "id": "CEXxUZntiZyA"
      },
      "source": [
        "In the 'sample_training' database, look through the 'companies' collection and show the name, month, day, and year of all the companies that were founded in 2005.  Sort by name, ascending. Paste the filter, project, and sort queries."
      ]
    },
    {
      "cell_type": "markdown",
      "metadata": {
        "id": "4-rdl2ywibz8"
      },
      "source": [
        "# Exercise 2"
      ]
    },
    {
      "cell_type": "markdown",
      "metadata": {
        "id": "dFGsvzSOiekv"
      },
      "source": [
        "I used to go to a restaurant in Brooklyn that had Chinese cuisine. It has the word \"Noodles\" in its name and a number. What's the number? "
      ]
    },
    {
      "cell_type": "markdown",
      "metadata": {
        "id": "a8Qs_N8sihXW"
      },
      "source": [
        "# Exercise 3"
      ]
    },
    {
      "cell_type": "markdown",
      "metadata": {
        "id": "BJJ7TLNDijHJ"
      },
      "source": [
        "I want an airbnb that has 6 bedrooms, 6 beds, and \"no smoking\" in its house rules. What's the listing_url of that airbnb?"
      ]
    },
    {
      "cell_type": "markdown",
      "metadata": {
        "id": "fuRmJLKuinJl"
      },
      "source": [
        "# Exercise 4"
      ]
    },
    {
      "cell_type": "markdown",
      "metadata": {
        "id": "spV9ZasFirgq"
      },
      "source": [
        "In the sample_training database, look through the 'zips' collection. Which zip code has the highest population? "
      ]
    },
    {
      "cell_type": "markdown",
      "metadata": {
        "id": "j2dvCW7HitUj"
      },
      "source": [
        "# Exercise 5 (Challenge)"
      ]
    },
    {
      "cell_type": "markdown",
      "metadata": {
        "id": "nPhwvXMxixfr"
      },
      "source": [
        " I remember seeing a poster for a 'SpongeBob' movie that had multiple SpongeBob characters. Look through the 'movies' collection in the 'sample_mflix\" database and name all the characters in that poster. "
      ]
    }
  ]
}
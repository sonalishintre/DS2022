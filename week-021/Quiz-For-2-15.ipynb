{
 "cells": [
  {
   "cell_type": "markdown",
   "metadata": {},
   "source": [
    "# Exercise 1\n",
    "\n",
    "Create a function that will take in a list. It should sum up all the values of the integers in the list. Non-Integers should not be included in the sum."
   ]
  },
  {
   "cell_type": "code",
   "execution_count": null,
   "metadata": {},
   "outputs": [],
   "source": [
    "def get_sum():\n",
    "    pass\n",
    "\n",
    "\n",
    "try:\n",
    "    assert( get_sum([1,2,3,4,5]) == 15)\n",
    "    assert( get_sum([1,2,3,4,5,\"a\"]) == 15)\n",
    "    assert( get_sum([1,2,3,4,-5,\"a\",100,6,\"b\",5]) == 116)\n",
    "    print(\"Correct\")\n",
    "except AssertionError:\n",
    "    print(\"Incorrect\")"
   ]
  },
  {
   "cell_type": "markdown",
   "metadata": {},
   "source": [
    "# Exercise 2\n",
    "\n",
    "Create a function that will take any amount of arguments. It should return a dictionary whoose key,value pairs should be a string that refers to the type of the object, along with the count of the object. For this exercise, your function should only need to handle 3 types, Bools, Ints, and Strings, it should ignore the rest.\n",
    "\n",
    "\n",
    "\n",
    "    EX.\n",
    "\n",
    "    input:\n",
    "    [\"hello\",1,2,3,True]\n",
    "\n",
    "\n",
    "    output:\n",
    "    {\"strings\":1,\"ints\":3,\"booleans\":1}\n",
    "\n",
    "    input:\n",
    "    [1,2,3,4,5]\n",
    "    \n",
    "    output:\n",
    "    {\"strings\":0,\"ints\":5,\"booleans\":0}"
   ]
  },
  {
   "cell_type": "code",
   "execution_count": null,
   "metadata": {},
   "outputs": [],
   "source": [
    "def get_counts():\n",
    "    pass    "
   ]
  },
  {
   "cell_type": "markdown",
   "metadata": {},
   "source": [
    "# Exercise 3\n",
    "\n",
    "Using List Comprehension, create a list that contains all of the numbers between 1 and 100 that are divisible by 3 and 5."
   ]
  },
  {
   "cell_type": "code",
   "execution_count": null,
   "metadata": {},
   "outputs": [],
   "source": []
  },
  {
   "cell_type": "markdown",
   "metadata": {},
   "source": [
    "# Exercise 4\n",
    "\n",
    "Using the Base Class Person, create a Child Class Adult that inherits from the child class, but takes in an extra argument called career.\n",
    "\n",
    "    Override the print_me() method in the Adult class so that it prints \n",
    "    \"My name is {name} and I work as a {career}\"."
   ]
  },
  {
   "cell_type": "code",
   "execution_count": null,
   "metadata": {},
   "outputs": [],
   "source": [
    "class Person():\n",
    "    def __init__(self,name,age):\n",
    "        self.name = name\n",
    "        self.age = age\n",
    "\n",
    "    def print_me(self):\n",
    "        print(f\"Hello my name is {self.name}\")\n",
    "\n",
    "\n",
    "class Adult():"
   ]
  },
  {
   "cell_type": "markdown",
   "metadata": {},
   "source": [
    "# Exercise 5\n",
    "    Create a function that takes in a string. The function should return the string reversed.\n",
    "    You can use any solution except for the reveresed function.\n",
    "\n",
    "    "
   ]
  },
  {
   "cell_type": "code",
   "execution_count": null,
   "metadata": {},
   "outputs": [],
   "source": [
    "def reverse_string():\n",
    "    pass\n",
    "\n",
    "try:\n",
    "    assert(reverse_string(\"Hello\") == \"olleH\")\n",
    "    assert(reverse_string(\"ABBA\") == \"ABBA\")\n",
    "    assert(reverse_string(\"Wowza\") == \"azwoW\")\n",
    "    print(\"Correct\")\n",
    "except AssertionError:\n",
    "    print(\"Incorrect\")"
   ]
  }
 ],
 "metadata": {
  "interpreter": {
   "hash": "6b8157b6fa1ebbaed96c1c1d9635dcd49016c43deea78ac8da8888d62b60131e"
  },
  "kernelspec": {
   "display_name": "Python 3.9.1 64-bit",
   "language": "python",
   "name": "python3"
  },
  "language_info": {
   "codemirror_mode": {
    "name": "ipython",
    "version": 3
   },
   "file_extension": ".py",
   "mimetype": "text/x-python",
   "name": "python",
   "nbconvert_exporter": "python",
   "pygments_lexer": "ipython3",
   "version": "3.9.1"
  },
  "orig_nbformat": 4
 },
 "nbformat": 4,
 "nbformat_minor": 2
}

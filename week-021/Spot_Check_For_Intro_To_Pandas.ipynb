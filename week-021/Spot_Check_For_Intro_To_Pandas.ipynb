{
 "cells": [
  {
   "cell_type": "markdown",
   "id": "e48d1f08",
   "metadata": {},
   "source": [
    "# Let's work on reviewing/working through some of the methods we just learned.\n",
    "\n",
    "https://pandas.pydata.org/docs/getting_started/intro_tutorials/01_table_oriented.html\n",
    "https://pandas.pydata.org/docs/getting_started/intro_tutorials/02_read_write.html\n",
    "https://pandas.pydata.org/docs/getting_started/intro_tutorials/03_subset_data.html\n",
    "\n",
    "https://pandas.pydata.org/pandas-docs/stable/reference/index.html"
   ]
  },
  {
   "cell_type": "markdown",
   "id": "8a08bdaa",
   "metadata": {},
   "source": [
    "# Exercise 1:\n",
    "    \n",
    "    Please import the pandas library and the titanic csv into Pandas.\n",
    "    "
   ]
  },
  {
   "cell_type": "code",
   "execution_count": null,
   "id": "8c806827",
   "metadata": {},
   "outputs": [],
   "source": []
  },
  {
   "cell_type": "markdown",
   "id": "6d36142a",
   "metadata": {},
   "source": [
    "# Exercise 2:\n",
    "\n",
    "    Using the methods built into pandas, please answer the following questions.\n",
    "    \n",
    "    1. How many rows are in the Titanic CSV?\n",
    "    2. How many columns are in the CSV?\n",
    "    3. What is the index being used for the rows?\n",
    "    4. What are the column names (hint: we didn't go over this, look this up in the docs)\n",
    "    5. What Datatypes are in our data frame?\n",
    "    6. Which column has the highest number of Null Values?\n",
    "    "
   ]
  },
  {
   "cell_type": "code",
   "execution_count": null,
   "id": "e16cfe0e",
   "metadata": {},
   "outputs": [],
   "source": []
  },
  {
   "cell_type": "code",
   "execution_count": null,
   "id": "b491bc19",
   "metadata": {},
   "outputs": [],
   "source": []
  },
  {
   "cell_type": "code",
   "execution_count": null,
   "id": "04d24bb3",
   "metadata": {},
   "outputs": [],
   "source": []
  },
  {
   "cell_type": "code",
   "execution_count": null,
   "id": "37f44428",
   "metadata": {},
   "outputs": [],
   "source": []
  },
  {
   "cell_type": "code",
   "execution_count": null,
   "id": "75f6af17",
   "metadata": {},
   "outputs": [],
   "source": []
  },
  {
   "cell_type": "code",
   "execution_count": null,
   "id": "9ba0b051",
   "metadata": {},
   "outputs": [],
   "source": []
  },
  {
   "cell_type": "markdown",
   "id": "3ad65c79",
   "metadata": {},
   "source": [
    "# Exercise 3:\n",
    "\n",
    "    Using pandas, create the following DataFrames from our existing DataFrame.\n",
    "    \n",
    "    1.Create a DataFrame that contains only the passengers that were from Ages 10 to 20, and that did not surive.\n",
    "    \n",
    "    2.Create a DataFrame that contains only the passengers whoose ages ARE null. (Hint we didn't go over this, but negation is in the docs)\n",
    "    \n",
    "    3.Create a DataFrame that contains only the rows from the DataFrame rows 1-100 that contain a name that starts with A. \n",
    "    (This one is challenging, you might need to do a bit of googling to see how to do this.)\n",
    "    "
   ]
  },
  {
   "cell_type": "code",
   "execution_count": null,
   "id": "6a82096e",
   "metadata": {},
   "outputs": [],
   "source": []
  },
  {
   "cell_type": "code",
   "execution_count": null,
   "id": "6593f50f",
   "metadata": {},
   "outputs": [],
   "source": []
  },
  {
   "cell_type": "code",
   "execution_count": null,
   "id": "fdb0a720",
   "metadata": {},
   "outputs": [],
   "source": []
  },
  {
   "cell_type": "markdown",
   "id": "5b2818b9",
   "metadata": {},
   "source": [
    "# Exercise 4:\n",
    "\n",
    "    Using pandas apply the following transormations to the DataFrame.\n",
    "    REMEMBER, THESE ARE DESTRUCTIVE CHANGES. RELOAD YOUR \"CLEAN\" TITANIC CSV IN EACH BUBBLE SO YOUR PREVIOUS CHANGES AREN'T KEPT\n",
    "    \n",
    "    1. Change all of the null values in the Age Column to 0s. (You'll need some google-fu for this)\n",
    "    \n",
    "    2. Create a new dataframe that has all of the People with no Cabin removed.\n",
    "    \n",
    "    3. Create a new DataFrame that shows all of the Women who survived who were over 40. Display their Age, Names, and their PClass.\n",
    "    \n",
    "    4. Change every Males name to Bill Billiamson.\n",
    "    "
   ]
  },
  {
   "cell_type": "code",
   "execution_count": null,
   "id": "3e673f22",
   "metadata": {},
   "outputs": [],
   "source": []
  },
  {
   "cell_type": "code",
   "execution_count": null,
   "id": "c4a4a968",
   "metadata": {},
   "outputs": [],
   "source": []
  },
  {
   "cell_type": "code",
   "execution_count": null,
   "id": "626587c9",
   "metadata": {},
   "outputs": [],
   "source": []
  },
  {
   "cell_type": "code",
   "execution_count": null,
   "id": "46119d7d",
   "metadata": {},
   "outputs": [],
   "source": []
  }
 ],
 "metadata": {
  "kernelspec": {
   "display_name": "Python 3",
   "language": "python",
   "name": "python3"
  },
  "language_info": {
   "codemirror_mode": {
    "name": "ipython",
    "version": 3
   },
   "file_extension": ".py",
   "mimetype": "text/x-python",
   "name": "python",
   "nbconvert_exporter": "python",
   "pygments_lexer": "ipython3",
   "version": "3.9.1"
  }
 },
 "nbformat": 4,
 "nbformat_minor": 5
}

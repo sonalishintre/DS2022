{
 "cells": [
  {
   "cell_type": "code",
   "execution_count": 33,
   "id": "67143bdf",
   "metadata": {},
   "outputs": [],
   "source": [
    "import sqlite3"
   ]
  },
  {
   "cell_type": "markdown",
   "id": "d21073bc",
   "metadata": {},
   "source": [
    "# Question 1 "
   ]
  },
  {
   "cell_type": "markdown",
   "id": "02226227",
   "metadata": {},
   "source": [
    "    What are three different ways we can check for a linear relationship between two variables?\n",
    "    (hint one is numerical, two are visual)"
   ]
  },
  {
   "cell_type": "code",
   "execution_count": null,
   "id": "28c25b01",
   "metadata": {},
   "outputs": [],
   "source": []
  },
  {
   "cell_type": "markdown",
   "id": "bc572fa7",
   "metadata": {},
   "source": [
    "# Question 2 "
   ]
  },
  {
   "cell_type": "markdown",
   "id": "ab01c245",
   "metadata": {},
   "source": [
    "    Using the supplied database, create helper functions that will do the following\n",
    "    (The table to work with is called cleaned_data)"
   ]
  },
  {
   "cell_type": "markdown",
   "id": "27189604",
   "metadata": {},
   "source": [
    "#### RETURN ROWS BY BOROUGH"
   ]
  },
  {
   "cell_type": "code",
   "execution_count": null,
   "id": "000a96b5",
   "metadata": {},
   "outputs": [],
   "source": [
    "def return_by_borough():"
   ]
  },
  {
   "cell_type": "markdown",
   "id": "503d1139",
   "metadata": {},
   "source": [
    "#### RETURN ROWS BY NEIGHBORHOOD"
   ]
  },
  {
   "cell_type": "code",
   "execution_count": null,
   "id": "8a73be26",
   "metadata": {},
   "outputs": [],
   "source": [
    "def return_by_neighborhood():"
   ]
  },
  {
   "cell_type": "markdown",
   "id": "6b2431ba",
   "metadata": {},
   "source": [
    "### *BONUS*  RETURN ROWS BY DATE"
   ]
  },
  {
   "cell_type": "code",
   "execution_count": null,
   "id": "ecea8e78",
   "metadata": {},
   "outputs": [],
   "source": []
  },
  {
   "cell_type": "markdown",
   "id": "2cfb004b",
   "metadata": {},
   "source": [
    "# Question 3"
   ]
  },
  {
   "cell_type": "markdown",
   "id": "2fc895e7",
   "metadata": {},
   "source": [
    "    Answer these questions about the dataset."
   ]
  },
  {
   "cell_type": "markdown",
   "id": "0bee0eba",
   "metadata": {},
   "source": [
    "### Which borough has the highest number of evictions over the past 5 years?"
   ]
  },
  {
   "cell_type": "code",
   "execution_count": null,
   "id": "fed1c51f",
   "metadata": {},
   "outputs": [],
   "source": []
  },
  {
   "cell_type": "markdown",
   "id": "f199969b",
   "metadata": {},
   "source": [
    "### Which agent has the highest number of evictions over the past 5 years?"
   ]
  },
  {
   "cell_type": "code",
   "execution_count": null,
   "id": "a1a3e938",
   "metadata": {},
   "outputs": [],
   "source": []
  }
 ],
 "metadata": {
  "kernelspec": {
   "display_name": "Python 3",
   "language": "python",
   "name": "python3"
  },
  "language_info": {
   "codemirror_mode": {
    "name": "ipython",
    "version": 3
   },
   "file_extension": ".py",
   "mimetype": "text/x-python",
   "name": "python",
   "nbconvert_exporter": "python",
   "pygments_lexer": "ipython3",
   "version": "3.9.1"
  }
 },
 "nbformat": 4,
 "nbformat_minor": 5
}

{
 "cells": [
  {
   "cell_type": "markdown",
   "metadata": {},
   "source": [
    "<div style=\"background: #000;\n",
    "            color: #FFF;\n",
    "            margin: 0px;\n",
    "                padding: 10px 0px 20px 0px;\n",
    "            text-align: center; \n",
    "                \">\n",
    "    <h1>Week 7 - Class 2 - 10/26</h1>\n",
    "</div>\n",
    "\n",
    "## Objectives for this week:\n",
    "* Modules in Python\n",
    "* Calling Modules, Exporting Modules\n",
    "* File Structures\n",
    "\n",
    "## Todays Agenda\n",
    "* Homework Presentations\n",
    "* Working on our own Module\n",
    "* Exporting Modules"
   ]
  },
  {
   "cell_type": "code",
   "execution_count": 1,
   "metadata": {},
   "outputs": [
    {
     "name": "stdout",
     "output_type": "stream",
     "text": [
      "24.0\n",
      "None\n",
      "True\n",
      "False\n",
      "None\n"
     ]
    }
   ],
   "source": [
    "class SafeFloat:\n",
    "    def __init__(self, num):\n",
    "        self.num = num\n",
    "        self.to_float() \n",
    "    \n",
    "    def to_float(self):\n",
    "        self.num_as_float = None\n",
    "        if not isinstance(self.num, str):\n",
    "            self.num_as_float = float(self.num)\n",
    "    \n",
    "    def check_type(self):\n",
    "        self.to_float()\n",
    "        if isinstance(self.num_as_float, (float)):\n",
    "            return True\n",
    "        return False\n",
    "    \n",
    "    def __add__(self, other):\n",
    "        if isinstance(other, SafeFloat):\n",
    "            if self.check_type() and other.check_type():\n",
    "            #if self.num_as_float and other.num_as_float:\n",
    "                return self.num_as_float + other.num_as_float\n",
    "            \n",
    "    \n",
    "    # replace pass with your code\n",
    "\n",
    "# test with ints, floats, bools and strings\n",
    "e = SafeFloat(24)\n",
    "f = SafeFloat('string')\n",
    "print(e.num_as_float)\n",
    "print(f.num_as_float)\n",
    "print(e.check_type())\n",
    "print(f.check_type())\n",
    "print(e + f)"
   ]
  },
  {
   "cell_type": "markdown",
   "metadata": {},
   "source": [
    "# Review:"
   ]
  },
  {
   "cell_type": "markdown",
   "metadata": {},
   "source": [
    "Data Types (that we deal with):\n",
    "* `int`\n",
    "* `str`\n",
    "* `bool`\n",
    "* `float`"
   ]
  },
  {
   "cell_type": "markdown",
   "metadata": {},
   "source": [
    "Data Structures (that we deal with):\n",
    "* `list`\n",
    "* `tuple`\n",
    "* `set`\n",
    "* `dict`"
   ]
  },
  {
   "cell_type": "markdown",
   "metadata": {},
   "source": [
    "Control Structures:\n",
    "* `if`/`elif`/`else`\n",
    "* `for`\n",
    "* `while`\n",
    "* `with`"
   ]
  },
  {
   "cell_type": "markdown",
   "metadata": {},
   "source": [
    "### Functions"
   ]
  },
  {
   "cell_type": "code",
   "execution_count": null,
   "metadata": {},
   "outputs": [],
   "source": [
    "# function with no arguments and no return\n",
    "def example_1():\n",
    "    print(\"hello\")\n",
    "    \n",
    "example_1()"
   ]
  },
  {
   "cell_type": "code",
   "execution_count": null,
   "metadata": {},
   "outputs": [],
   "source": [
    "# function with 1 argument and 1 return\n",
    "def example_2(arg):\n",
    "    print(arg)\n",
    "    \n",
    "example_2('string')"
   ]
  },
  {
   "cell_type": "code",
   "execution_count": null,
   "metadata": {},
   "outputs": [],
   "source": [
    "# function with arbitrary number of arguments and 1 return\n",
    "def example_3(*args):\n",
    "    return args\n",
    "\n",
    "example_3(3,4,5)"
   ]
  },
  {
   "cell_type": "code",
   "execution_count": null,
   "metadata": {},
   "outputs": [],
   "source": [
    "def example_4(**kwargs):\n",
    "    return kwargs\n",
    "\n",
    "example_4(a=1, b=2)"
   ]
  },
  {
   "cell_type": "code",
   "execution_count": null,
   "metadata": {},
   "outputs": [],
   "source": [
    "def example_5():\n",
    "    return 0, 1\n",
    "\n",
    "example_5()"
   ]
  },
  {
   "cell_type": "code",
   "execution_count": null,
   "metadata": {},
   "outputs": [],
   "source": [
    "def example_6():\n",
    "    pass\n",
    "\n",
    "example_6()"
   ]
  },
  {
   "cell_type": "markdown",
   "metadata": {},
   "source": [
    "### Classes:"
   ]
  },
  {
   "cell_type": "code",
   "execution_count": null,
   "metadata": {},
   "outputs": [],
   "source": [
    "# instance attribute\n",
    "class Example:\n",
    "    def __init__(self):\n",
    "        self.value = 0\n",
    "        \n",
    "e = Example()\n",
    "e.value\n",
    "#Example.value"
   ]
  },
  {
   "cell_type": "code",
   "execution_count": null,
   "metadata": {},
   "outputs": [],
   "source": [
    "# class attribute\n",
    "\n",
    "class Example:\n",
    "    value = 0\n",
    "    \n",
    "e = Example()\n",
    "e.value\n",
    "# Example.value"
   ]
  },
  {
   "cell_type": "code",
   "execution_count": null,
   "metadata": {},
   "outputs": [],
   "source": [
    "# class attribute `value`\n",
    "# becomes instance attribute\n",
    "\n",
    "class Example:\n",
    "    value = 0\n",
    "    def __init__(self, val):\n",
    "        self.value = val\n",
    "        \n",
    "e = Example(\"string\")\n",
    "e.value\n",
    "#Example.value"
   ]
  },
  {
   "cell_type": "code",
   "execution_count": null,
   "metadata": {},
   "outputs": [],
   "source": [
    "# instance attribute \n",
    "# with default `val`\n",
    "\n",
    "class Example:\n",
    "    def __init__(self, val=45):\n",
    "        self.value = val\n",
    "        \n",
    "e = Example(46)\n",
    "e.value\n",
    "#Example.value"
   ]
  },
  {
   "cell_type": "markdown",
   "metadata": {},
   "source": [
    "# Library module"
   ]
  },
  {
   "cell_type": "markdown",
   "metadata": {},
   "source": [
    "## Let's create your own `library.py` file\n",
    "\n",
    "### open \"library.py\" in your text editor and then enter the following function:\n",
    "\n",
    "```python\n",
    "    def hello_world():\n",
    "        print(\"hello world\")\n",
    "```"
   ]
  },
  {
   "cell_type": "code",
   "execution_count": null,
   "metadata": {},
   "outputs": [],
   "source": [
    "import library\n",
    "\n",
    "library.hello_world()"
   ]
  },
  {
   "cell_type": "markdown",
   "metadata": {},
   "source": [
    "# Reloading Modules"
   ]
  },
  {
   "cell_type": "code",
   "execution_count": null,
   "metadata": {},
   "outputs": [],
   "source": [
    "import library"
   ]
  },
  {
   "cell_type": "code",
   "execution_count": null,
   "metadata": {},
   "outputs": [],
   "source": [
    "library.hello_world()"
   ]
  },
  {
   "cell_type": "code",
   "execution_count": null,
   "metadata": {},
   "outputs": [],
   "source": [
    "import importlib\n",
    "\n",
    "importlib.reload(library)"
   ]
  },
  {
   "cell_type": "code",
   "execution_count": null,
   "metadata": {},
   "outputs": [],
   "source": [
    "library.hello_world()"
   ]
  },
  {
   "cell_type": "markdown",
   "metadata": {},
   "source": [
    "## Executing modules as scripts"
   ]
  },
  {
   "cell_type": "code",
   "execution_count": null,
   "metadata": {},
   "outputs": [],
   "source": [
    "# function defined in module\n",
    "def func(arg):\n",
    "    return 100 * arg"
   ]
  },
  {
   "cell_type": "markdown",
   "metadata": {},
   "source": [
    "Add this to the module file.\n",
    "\n",
    "```python\n",
    "    if __name__ == \"__main__\":\n",
    "        func(100)\n",
    "```"
   ]
  },
  {
   "cell_type": "code",
   "execution_count": null,
   "metadata": {},
   "outputs": [],
   "source": [
    "import sys\n",
    "\n",
    "sys.argv"
   ]
  },
  {
   "cell_type": "markdown",
   "metadata": {},
   "source": [
    "```python\n",
    "    if __name__ == \"__main__\":\n",
    "        import sys\n",
    "        func(sys.argv[0])\n",
    "```"
   ]
  }
 ],
 "metadata": {
  "kernelspec": {
   "display_name": "Python 3",
   "language": "python",
   "name": "python3"
  },
  "language_info": {
   "codemirror_mode": {
    "name": "ipython",
    "version": 3
   },
   "file_extension": ".py",
   "mimetype": "text/x-python",
   "name": "python",
   "nbconvert_exporter": "python",
   "pygments_lexer": "ipython3",
   "version": "3.7.4"
  }
 },
 "nbformat": 4,
 "nbformat_minor": 4
}

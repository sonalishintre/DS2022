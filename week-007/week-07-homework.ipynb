{
 "cells": [
  {
   "cell_type": "markdown",
   "metadata": {},
   "source": [
    "<div style=\"background: #000;\n",
    "            color: #FFF;\n",
    "            margin: 0px;\n",
    "                padding: 10px 0px 20px 0px;\n",
    "            text-align: center; \n",
    "                \">\n",
    "    <h1>Week 7 - Homework</h1>\n",
    "</div>"
   ]
  },
  {
   "cell_type": "markdown",
   "metadata": {},
   "source": [
    "# Exercise 1\n",
    "\n",
    "Submit below a screenshot of your PyPi account as well as a copy of your username:"
   ]
  },
  {
   "cell_type": "markdown",
   "metadata": {},
   "source": [
    "# Exercise 2\n",
    "\n",
    "Please review the below link and provide a one paragraph (5 sentences) summary of the content (how do you install packages in Python? what is the purpose? etc)\n",
    "\n",
    "Python Packaging User Guide\n",
    "https://packaging.python.org/tutorials/installing-packages/\n"
   ]
  },
  {
   "cell_type": "markdown",
   "metadata": {},
   "source": [
    "# Exercise 3\n",
    "\n",
    "Please review the below link and provide a one paragraph (5 sentences) summary of the content (how should you structure a project? give an example etc.)\n",
    "\n",
    "Packaging Python Project\n",
    "https://packaging.python.org/tutorials/packaging-projects/ \n",
    "\n"
   ]
  },
  {
   "cell_type": "markdown",
   "metadata": {},
   "source": [
    "# Exercise 4\n",
    "\n",
    "Please review the below link and provide a one paragraph (5 sentences) summary of the content (what is a style document? what are important things it highlights? etc)\n",
    "\n",
    "PPEP 8 - https://www.python.org/dev/peps/pep-0008/#introduction "
   ]
  }
 ],
 "metadata": {
  "kernelspec": {
   "display_name": "Python 3",
   "language": "python",
   "name": "python3"
  },
  "language_info": {
   "codemirror_mode": {
    "name": "ipython",
    "version": 3
   },
   "file_extension": ".py",
   "mimetype": "text/x-python",
   "name": "python",
   "nbconvert_exporter": "python",
   "pygments_lexer": "ipython3",
   "version": "3.7.4"
  }
 },
 "nbformat": 4,
 "nbformat_minor": 4
}

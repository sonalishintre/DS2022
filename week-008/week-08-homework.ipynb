{
 "cells": [
  {
   "cell_type": "markdown",
   "metadata": {},
   "source": [
    "<div style=\"background: #000;\n",
    "            color: #FFF;\n",
    "            margin: 0px;\n",
    "                padding: 10px 0px 20px 0px;\n",
    "            text-align: center; \n",
    "                \">\n",
    "    <h1>Week 8 - Homework</h1>\n",
    "</div>\n",
    "\n",
    "<pre style=\"text-align:center;\">\n",
    "Exercise 1,2 and 3 are due Tuesday Novemeber 9th\n",
    "</pre>"
   ]
  },
  {
   "cell_type": "markdown",
   "metadata": {},
   "source": [
    "# Exercise 1\n",
    "\n",
    "Create a class called `Person`.\n",
    "\n",
    "Then create two classes, one called `Child` and one called `Adult` that inherit from the Person Class.  \n",
    "\n",
    "These methods should be available to all classes. \n",
    "<br>`print_age`\n",
    "<br>`print_name`\n",
    "\n",
    "\n",
    "\n",
    "These methods should only be available to the `Child` Class\n",
    "<br>`age_until_adult`\n",
    "<br>`current_school`\n",
    "\n",
    "\n",
    "\n",
    "\n",
    "\n",
    "These methods should only be available to the `Adult Class`\n",
    "<br>`age_until_senior`\n",
    "<br>`current_job`\n",
    "\n",
    "\n",
    "Create an instance of all 3 classes, and prove that all functions work for every class"
   ]
  },
  {
   "cell_type": "markdown",
   "metadata": {},
   "source": [
    "# Exercise 2\n",
    "\n",
    "Create a class called `Animal`.\n",
    "\n",
    "It should have the following attributes:\n",
    "<br>\n",
    "<br>`name` which is a string that contains its name\n",
    "<br>`has_hair` which is a bool\n",
    "<br>`has_feathers` which is a bool\n",
    "<br>`age` which is an integer\n",
    "<br>`diet` which is a string containing a food that it's diet. Either Grain or Pellets.\n",
    "\n",
    "____________\n",
    "Animals should have the following functions available to them\n",
    "\n",
    "`description` which prints out its name and age in a line.\n",
    "____________\n",
    "\n",
    "Create two classes that inherit from `Animal`.\n",
    "\n",
    "`Cow` and `Chicken`. Chickens eat pellets, Cows eat Grain. \n",
    "____________\n",
    "\n",
    "Cows should have the following attribute\n",
    "\n",
    "`times_milked` which is starts at 0\n",
    "\n",
    "Cows should have the functions\n",
    "\n",
    "`milk` which increases the times_milked by 1. Cows under 1 year old cannot be milked.\n",
    "\n",
    "____________\n",
    "Chickens should have the attribute\n",
    "\n",
    "`eggs_laid` which is starts at 0\n",
    "\n",
    "Chickens should have the function \n",
    "\n",
    "`lay_egg` which increases egg_laid by 5. Chickens under 6 months cannot lay eggs.\n",
    "\n",
    "____________\n",
    "\n"
   ]
  },
  {
   "cell_type": "markdown",
   "metadata": {},
   "source": [
    "# Exercise 3\n",
    "\n",
    "Create a class called `Car`.\n",
    "\n",
    "It should contain a private attribute called `fuel`. Fuel `ALWAYS` starts at 50.\n",
    "\n",
    "Use setter and getter functions to protect our attribute. When a user tries to change `fuel`, it should raise a ValueError if Fuel is < 0 or > 100\n",
    "\n"
   ]
  },
  {
   "cell_type": "markdown",
   "metadata": {},
   "source": [
    "# Question 1\n",
    "\n",
    "What is a class?\n"
   ]
  },
  {
   "cell_type": "markdown",
   "metadata": {},
   "source": [
    "# Question 2\n",
    "\n",
    "<br>What is a the difference between a Parent Class and a Child Class?\n",
    "\n",
    "\n"
   ]
  },
  {
   "cell_type": "markdown",
   "metadata": {},
   "source": [
    "# Question 3\n",
    "How does inheritance help us as programmers?\n"
   ]
  }
 ],
 "metadata": {
  "interpreter": {
   "hash": "6b8157b6fa1ebbaed96c1c1d9635dcd49016c43deea78ac8da8888d62b60131e"
  },
  "kernelspec": {
   "display_name": "Python 3.9.1 64-bit",
   "name": "python3"
  },
  "language_info": {
   "codemirror_mode": {
    "name": "ipython",
    "version": 3
   },
   "file_extension": ".py",
   "mimetype": "text/x-python",
   "name": "python",
   "nbconvert_exporter": "python",
   "pygments_lexer": "ipython3",
   "version": "3.9.1"
  }
 },
 "nbformat": 4,
 "nbformat_minor": 4
}

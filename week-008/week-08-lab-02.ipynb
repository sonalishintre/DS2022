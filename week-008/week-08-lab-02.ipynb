{
 "cells": [
  {
   "cell_type": "markdown",
   "metadata": {},
   "source": [
    "<div style=\"background: #000;\n",
    "            color: #FFF;\n",
    "            margin: 0px;\n",
    "                padding: 10px 0px 20px 0px;\n",
    "            text-align: center; \n",
    "                \">\n",
    "    <h1>Week 8 - Lab</h1>\n",
    "</div>\n"
   ]
  },
  {
   "cell_type": "markdown",
   "metadata": {},
   "source": [
    "# Exercise 1\n",
    "\n",
    "Create a class called `Person`.\n",
    "Make an attribute for the class called `x` and set it equal to 5.\n",
    "\n",
    "Create an instance of the `Person` class.\n",
    "Print out the `x` attribute of the instance."
   ]
  },
  {
   "cell_type": "markdown",
   "metadata": {},
   "source": [
    "# Excerise 2\n",
    "\n",
    "Create a class called `Student` with  the following attributes \n",
    "<br>`first_name`\n",
    "<br>`last_name`\n",
    "<br>`age`\n",
    "<br>`hw_grades` \n",
    "# `THINK ABOUT WHAT DATA STRUCTURE WE SHOULD BE USING FOR HW GRADES`\n",
    "# `THINK ABOUT THE DATA STRUCTURES WE KNOW. WHAT SEEMS APPROPRIATE? LISTS, DICTS, TUPLES OR SETS?`\n",
    "\n",
    "Create methods that:\n",
    "<br>Print the full name of the student\n",
    "<br>Adds a grade to the attribute `hw_grades` \n",
    "<br>Calculates the Student's average hw grade\n",
    "\n",
    "Create an instance of the class and ensure that all the methods works."
   ]
  },
  {
   "cell_type": "markdown",
   "metadata": {},
   "source": [
    "# Exercise 3:\n",
    "Create a class called `Square` that overloads the addition operator by adding the area of two squares. You will need at least an attribute for length, a method for calculating area and the overloaded + operator method.\n",
    "\n",
    "e.g. Square(3) + Square(4) == 25"
   ]
  },
  {
   "cell_type": "markdown",
   "metadata": {},
   "source": [
    "\n",
    "# Exercise 4:\n",
    "Create a class called `Store` with an attribute called `inventory` that stores key value pairs which represent a product and its count.\n",
    "<br> `{\"oranges\":100,'apples':20}`\n",
    "\n",
    "Create a `buy` method that decrements from a key's value whenever an item is \"bought\"\n",
    "\n",
    "Create a method that lists the products for sale.\n",
    "<br>Create a method that allows you to add more products to the store's inventory.\n",
    "\n",
    "\n",
    "When you're finished, create an instance of Store and demonstrate that your methods/code work. Bonus points for addtional methods/functionality."
   ]
  }
 ],
 "metadata": {
  "kernelspec": {
   "display_name": "Python 3",
   "language": "python",
   "name": "python3"
  },
  "language_info": {
   "codemirror_mode": {
    "name": "ipython",
    "version": 3
   },
   "file_extension": ".py",
   "mimetype": "text/x-python",
   "name": "python",
   "nbconvert_exporter": "python",
   "pygments_lexer": "ipython3",
   "version": "3.8.6"
  }
 },
 "nbformat": 4,
 "nbformat_minor": 4
}

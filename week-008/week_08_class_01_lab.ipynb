{
  "nbformat": 4,
  "nbformat_minor": 0,
  "metadata": {
    "kernelspec": {
      "display_name": "Python 3",
      "language": "python",
      "name": "python3"
    },
    "language_info": {
      "codemirror_mode": {
        "name": "ipython",
        "version": 3
      },
      "file_extension": ".py",
      "mimetype": "text/x-python",
      "name": "python",
      "nbconvert_exporter": "python",
      "pygments_lexer": "ipython3",
      "version": "3.7.4"
    },
    "colab": {
      "name": "week-08-class-01-lab.ipynb",
      "provenance": [],
      "collapsed_sections": []
    }
  },
  "cells": [
    {
      "cell_type": "markdown",
      "metadata": {
        "id": "zndGg0rNFH7b"
      },
      "source": [
        "<div style=\"background: #000;\n",
        "            color: #FFF;\n",
        "            margin: 0px;\n",
        "                padding: 10px 0px 20px 0px;\n",
        "            text-align: center; \n",
        "                \">\n",
        "    <h1>Week 8 - Lab 1</h1>\n",
        "</div>"
      ]
    },
    {
      "cell_type": "markdown",
      "metadata": {
        "id": "_no9KBSAFH7e"
      },
      "source": [
        "# Question 1\n",
        "\n",
        "What is the use of read() function in Python? Why it is important?"
      ]
    },
    {
      "cell_type": "markdown",
      "metadata": {
        "id": "KV1pFuS8FH7e"
      },
      "source": [
        "# Exercise 1\n",
        "\n",
        "Create a txt file (file extention .txt) and title it reading_python.ipynb. In the txt file, write: \"It's time to read in python!\".\n",
        "\n",
        "Open the txt file in Visual Studio Code using read() .\n",
        "\n",
        "Insert that screenshot below showing you were successful:"
      ]
    },
    {
      "cell_type": "markdown",
      "metadata": {
        "id": "fzpO6jPxFH7f"
      },
      "source": [
        "# Exercise 2\n",
        "\n",
        "From the helloworld.html file from the lesson, use Python to update the webpage to display an image of your choice. Upload your code and a screenshot of your updated webpage.\n",
        "\n"
      ]
    },
    {
      "cell_type": "code",
      "metadata": {
        "id": "GaJ9r_AO7ANd"
      },
      "source": [
        ""
      ],
      "execution_count": null,
      "outputs": []
    },
    {
      "cell_type": "markdown",
      "metadata": {
        "id": "QtFmSH8zIP4z"
      },
      "source": [
        "### **Bonus**\n",
        "\n",
        "---\n",
        "\n",
        "\n",
        "when using the open() function/parameters what are the 6 available file mode's that can be used? please give a  brief description of what these modes do.\n",
        "\n",
        "\n"
      ]
    }
  ]
}
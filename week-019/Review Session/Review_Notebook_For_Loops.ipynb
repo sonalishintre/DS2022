{
 "cells": [
  {
   "cell_type": "code",
   "execution_count": null,
   "id": "cd2d03f3",
   "metadata": {},
   "outputs": [],
   "source": [
    "while True:\n",
    "    print(\"Wuh woh\")"
   ]
  },
  {
   "cell_type": "markdown",
   "id": "a0c6767a",
   "metadata": {},
   "source": [
    "    while  << expr >> :\n",
    "        do << statement >>"
   ]
  },
  {
   "cell_type": "markdown",
   "id": "273c958d",
   "metadata": {},
   "source": [
    "We set a static expression. We rarely if ever want to use a static expression. We want to kee our expression dynamic.\n",
    "How can we make a dynamic expression?\n"
   ]
  },
  {
   "cell_type": "code",
   "execution_count": 4,
   "id": "7c663096",
   "metadata": {},
   "outputs": [
    {
     "name": "stdout",
     "output_type": "stream",
     "text": [
      "Commence Eating Oreoes\n",
      "Enacting enjoyment protocol\n",
      "Enacting enjoyment protocol\n",
      "Enacting enjoyment protocol\n",
      "Enacting enjoyment protocol\n",
      "Enacting enjoyment protocol\n",
      "Commence sadness Protocol\n"
     ]
    }
   ],
   "source": [
    "x = 5 \n",
    "\n",
    "print(\"Commence Eating Oreoes\")\n",
    "\n",
    "while x > 0 :\n",
    "    \n",
    "    print(\"Enacting enjoyment protocol\")\n",
    "    x = x - 1\n",
    "    \n",
    "print(\"Commence sadness Protocol\")"
   ]
  },
  {
   "cell_type": "code",
   "execution_count": 6,
   "id": "43301147",
   "metadata": {},
   "outputs": [
    {
     "name": "stdout",
     "output_type": "stream",
     "text": [
      "Commence Eating Oreos\n",
      "Enacting enjoyment protocol\n",
      "Enacting enjoyment protocol\n",
      "Enacting enjoyment protocol\n",
      "Enacting enjoyment protocol\n",
      "Enacting enjoyment protocol\n",
      "Commence sadness protocol\n"
     ]
    }
   ],
   "source": [
    "'''\n",
    "x = 5 \n",
    "\n",
    "print(\"Commence Eating Oreoes\")\n",
    "\n",
    "while x > 0 :\n",
    "    \n",
    "    print(\"Enacting enjoyment protocol\")\n",
    "    x = x - 1\n",
    "    \n",
    "print(\"Commence sadness Protocol\")\n",
    "'''\n",
    "\n",
    "\n",
    "print(\"Commence Eating Oreos\")\n",
    "for x in range(0,5):\n",
    "    print(\"Enacting enjoyment protocol\")\n",
    "print(\"Commence sadness protocol\")"
   ]
  },
  {
   "cell_type": "markdown",
   "id": "30535d24",
   "metadata": {},
   "source": [
    "    for << obj >> in <<iterable >> :\n",
    "        do << statement >>"
   ]
  },
  {
   "cell_type": "code",
   "execution_count": 24,
   "id": "3516f310",
   "metadata": {},
   "outputs": [
    {
     "name": "stdout",
     "output_type": "stream",
     "text": [
      "apple\n",
      "bananas\n"
     ]
    }
   ],
   "source": [
    "fruits = [\"apple\",\"bananas\"]\n",
    "\n",
    "for fruit in fruits:\n",
    "    print(fruit)"
   ]
  },
  {
   "cell_type": "code",
   "execution_count": 25,
   "id": "ba35e126",
   "metadata": {},
   "outputs": [
    {
     "name": "stdout",
     "output_type": "stream",
     "text": [
      "Neato\n"
     ]
    }
   ],
   "source": [
    "##Test/Grab only certain elements.\n",
    "\n",
    "for fruit in fruits:\n",
    "    if fruit == \"apple\":\n",
    "        print(\"Neato\")"
   ]
  },
  {
   "cell_type": "code",
   "execution_count": 31,
   "id": "2c160162",
   "metadata": {},
   "outputs": [
    {
     "name": "stdout",
     "output_type": "stream",
     "text": [
      "['Apples', 'Kiwis', 'Bananas']\n"
     ]
    }
   ],
   "source": [
    "#Transform elements in a list\n",
    "\n",
    "fruits = [\"apples\",\"kiwis\",\"bananas\"]\n",
    "fruits_capitalized = []\n",
    "\n",
    "for fruit in fruits:\n",
    "    \n",
    "    fruits_capitalized.append(fruit.capitalize())\n",
    "    \n",
    "print(fruits_capitalized)"
   ]
  },
  {
   "cell_type": "code",
   "execution_count": 51,
   "id": "31831fd7",
   "metadata": {},
   "outputs": [
    {
     "name": "stdout",
     "output_type": "stream",
     "text": [
      "10 is being added to 100\n",
      "20 is being added to 110\n",
      "30 is being added to 130\n",
      "40 is being added to 160\n",
      "50 is being added to 200\n",
      "250\n"
     ]
    }
   ],
   "source": [
    "x = [10,20,30,40,50]\n",
    "#sum(x)\n",
    "\n",
    "\n",
    "#How we get the sum of a list of INTEGERS\n",
    "\n",
    "total = 100\n",
    "for i in x:\n",
    "      print(f'{i} is being added to {total}')\n",
    "      total = total + i\n",
    "print(total)"
   ]
  },
  {
   "cell_type": "code",
   "execution_count": 57,
   "id": "df61da90",
   "metadata": {},
   "outputs": [
    {
     "data": {
      "text/plain": [
       "-1"
      ]
     },
     "execution_count": 57,
     "metadata": {},
     "output_type": "execute_result"
    }
   ],
   "source": [
    "i = [-3,-4,-2,-5,-1]\n",
    "\n",
    "\n",
    "list_max = i[0]\n",
    "\n",
    "for element in i:\n",
    "    if element > list_max:\n",
    "        list_max = element\n",
    "        \n",
    "list_max\n",
    "\n",
    "\n",
    "\n",
    "max(i)"
   ]
  },
  {
   "cell_type": "code",
   "execution_count": 60,
   "id": "d5edfc62",
   "metadata": {},
   "outputs": [
    {
     "data": {
      "text/plain": [
       "1"
      ]
     },
     "execution_count": 60,
     "metadata": {},
     "output_type": "execute_result"
    }
   ],
   "source": [
    "i = [1,2,3,4,5]\n",
    "\n",
    "list_max = i[0]\n",
    "\n",
    "for element in i:\n",
    "    if element < list_max:\n",
    "        list_max = element\n",
    "        \n",
    "list_max\n",
    "\n",
    "min(i)"
   ]
  },
  {
   "cell_type": "code",
   "execution_count": 68,
   "id": "96b6f1fa",
   "metadata": {},
   "outputs": [
    {
     "name": "stdout",
     "output_type": "stream",
     "text": [
      "Oreos\n",
      "Bananas Oreos\n",
      "Fried Oreos\n"
     ]
    }
   ],
   "source": [
    "cart = [\"Oreos\",\"Bananas Oreos\",\"Waffles\",\"Poptarts\",\"Fried Oreos\"]\n",
    "\n",
    "## HOW CAN I MAKE A FOR LOOP THAT PRINTS THE ELEMENT \n",
    "##ONLY IF THE STRING CONTAINS OREOES?\n",
    "##How we can do things to only certain elements\n",
    "\n",
    "for food in cart:\n",
    "    if \"O\" in food:\n",
    "        print(food)"
   ]
  },
  {
   "cell_type": "code",
   "execution_count": 74,
   "id": "9d1afc31",
   "metadata": {},
   "outputs": [
    {
     "name": "stdout",
     "output_type": "stream",
     "text": [
      "Oreos\n",
      "Bananas Oreos\n",
      "Fried Oreos\n"
     ]
    }
   ],
   "source": [
    "cart = [\"Oreos\",\"Bananas Oreos\",\"Waffles\",\"Poptarts\",\"Fried Oreos\"]\n",
    "\n",
    "\n",
    "## how can I use the while loop to implement to for loop?\n",
    "\n",
    "i = 0\n",
    "x = len(cart)\n",
    "while i < x:\n",
    "    if \"Oreos\" in cart[i]:\n",
    "        print(cart[i])    \n",
    "    i = i + 1"
   ]
  },
  {
   "cell_type": "code",
   "execution_count": 93,
   "id": "07a2480b",
   "metadata": {},
   "outputs": [
    {
     "data": {
      "text/plain": [
       "[12, 100, 5]"
      ]
     },
     "execution_count": 93,
     "metadata": {},
     "output_type": "execute_result"
    }
   ],
   "source": [
    "##Dictionary\n",
    "## Dictionary is an iterable\n",
    "## Dictionary is a collection Key-Value pairs\n",
    "\n",
    "x = {\"Wowza\":12,\"Food\":100,\"EZPZ\":5}\n",
    "\n",
    "\n",
    "#Iterate through the keys of a dictionary\n",
    "#for key in x:\n",
    "#    print(key)\n",
    "\n",
    "\n",
    "#iterate through the VALUES of a dictionary\n",
    "#for key in x:\n",
    "#    print(x[key])\n",
    "    \n",
    "\n",
    "#How can we sum up all of the values in a dictionary???\n",
    "\n",
    "#values = 0\n",
    "#for key in x:\n",
    "#    values += x[key]\n",
    "#values\n",
    "\n",
    "\n",
    "#How could we create a list that contains all of the keys in a dictionary?\n",
    "\n",
    "keys = []\n",
    "for key in x:  \n",
    "    keys.append(key)\n",
    "keys\n",
    "\n",
    "\n",
    "#How can we create a list that contains all the values in a dictionary?\n",
    "\n",
    "x = {\"Wowza\":12,\"Food\":100,\"EZPZ\":5}\n",
    "\n",
    "values = []\n",
    "\n",
    "for key in x:\n",
    "    values.append(x[key])\n",
    "\n",
    "values"
   ]
  },
  {
   "cell_type": "code",
   "execution_count": null,
   "id": "ad45c8d9",
   "metadata": {},
   "outputs": [],
   "source": []
  }
 ],
 "metadata": {
  "kernelspec": {
   "display_name": "Python 3",
   "language": "python",
   "name": "python3"
  },
  "language_info": {
   "codemirror_mode": {
    "name": "ipython",
    "version": 3
   },
   "file_extension": ".py",
   "mimetype": "text/x-python",
   "name": "python",
   "nbconvert_exporter": "python",
   "pygments_lexer": "ipython3",
   "version": "3.9.1"
  }
 },
 "nbformat": 4,
 "nbformat_minor": 5
}

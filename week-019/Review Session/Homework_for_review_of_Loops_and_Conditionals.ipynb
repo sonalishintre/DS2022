{
 "cells": [
  {
   "cell_type": "markdown",
   "id": "a828e7d7",
   "metadata": {},
   "source": [
    "# Exercise 1:\n",
    "\n",
    "    Identify the following parts of the next 3 code blocks. \n",
    "    The << expression>>, the <<obj>>, the << statement >>, and the \n",
    "    << iterable >>.\n",
    "    Not all code blocks will contain all of these pieces.\n",
    "\n"
   ]
  },
  {
   "cell_type": "code",
   "execution_count": null,
   "id": "095b95b1",
   "metadata": {},
   "outputs": [],
   "source": [
    "x = [1,2,3,4,5]\n",
    "\n",
    "for number in x:\n",
    "    print(number)\n",
    "    \n"
   ]
  },
  {
   "cell_type": "code",
   "execution_count": null,
   "id": "c4f3f486",
   "metadata": {},
   "outputs": [],
   "source": [
    "i = 10\n",
    "\n",
    "while i > 0 :\n",
    "    print(\"Nom nom\")\n",
    "    i = i-1\n"
   ]
  },
  {
   "cell_type": "code",
   "execution_count": null,
   "id": "718d0394",
   "metadata": {},
   "outputs": [],
   "source": [
    "z = {\"apples\":10,\"bananas\":20,\"cocoa\":30}\n",
    "\n",
    "for key in z:\n",
    "    print(key)"
   ]
  },
  {
   "cell_type": "markdown",
   "id": "372934d9",
   "metadata": {},
   "source": [
    "# Exercise 2:\n",
    "\n",
    "    Complete the following code block to print out all of the values in a dictionary.\n",
    "    \n"
   ]
  },
  {
   "cell_type": "code",
   "execution_count": null,
   "id": "4fa97fee",
   "metadata": {},
   "outputs": [],
   "source": [
    "z = {\"apples\":10,\"bananas\":20,\"cocoa\":30}\n",
    "\n",
    "for BLANK in BLANK:\n",
    "    print(BLANK)"
   ]
  },
  {
   "cell_type": "markdown",
   "id": "680ae46f",
   "metadata": {},
   "source": [
    "# Exercise 3:\n",
    "\n",
    "    Create a while loop that will print hello 10 times"
   ]
  },
  {
   "cell_type": "code",
   "execution_count": null,
   "id": "a9f5bf63",
   "metadata": {},
   "outputs": [],
   "source": []
  },
  {
   "cell_type": "markdown",
   "id": "2effde4c",
   "metadata": {},
   "source": [
    "# Exercise 4:\n",
    "\n",
    "    Create a while loop that will iterate through list_to_fix. It will add to the updated_list list all elements that do not contain the string apple.\n",
    "\n",
    "    "
   ]
  },
  {
   "cell_type": "code",
   "execution_count": null,
   "id": "4c4feb2e",
   "metadata": {},
   "outputs": [],
   "source": [
    "list_to_fix = [\"apple\",1,\"apple\",2,\"apple\",\"wow\",\"apple\",\"applepie\",100,300,\"fire\"]\n",
    "updated_list = []"
   ]
  },
  {
   "cell_type": "markdown",
   "id": "5960e5bb",
   "metadata": {},
   "source": [
    "# Exercise 5:\n",
    "\n",
    "    Create a while loop that will add to the list all the integers from 1 to 100 that are divisible by 3 and 5."
   ]
  },
  {
   "cell_type": "code",
   "execution_count": null,
   "id": "82c66ca3",
   "metadata": {},
   "outputs": [],
   "source": [
    "list_of_numbers = []"
   ]
  },
  {
   "cell_type": "markdown",
   "id": "b5abe4f4",
   "metadata": {},
   "source": [
    "# Exercise 6:\n",
    "\n",
    "    "
   ]
  },
  {
   "cell_type": "code",
   "execution_count": null,
   "id": "fdcb8544",
   "metadata": {},
   "outputs": [],
   "source": []
  },
  {
   "cell_type": "markdown",
   "id": "3cbdeae9",
   "metadata": {},
   "source": [
    "# Bonus Exercise 1:\n",
    "\n",
    "    Write a while loop that will iterate through a dictionary. It should add to the new_dictionary any key,value pairs that don't have the string \"teehee\" appearing in either the key or the value."
   ]
  },
  {
   "cell_type": "code",
   "execution_count": null,
   "id": "2e0664aa",
   "metadata": {},
   "outputs": [],
   "source": [
    "old_dict = {\"teehee\":10,\"apples\":5,100:\"teehee\",\"teehee\":\"teehee\",\"tehe\":\"hehe\",\"100\":True,\"100\":\"teehee\",\"Oreos\":1000,\"I eat teehees\":\"Do you?\"}\n",
    "new_dict = {}"
   ]
  },
  {
   "cell_type": "markdown",
   "id": "0196c465",
   "metadata": {},
   "source": [
    "# Bonus Exercise 2:\n",
    "\n",
    "    Using ONLY while loops, for loops, and if statements to find the 2 dictionaries that have a matching value.\n",
    "\n",
    "    Print the Index of the 2 dictionaries that have the same value and print the value match that it found.\n",
    "    \n",
    "    You should not nor do you need to use built in methods for this. \n",
    "    \n"
   ]
  },
  {
   "cell_type": "code",
   "execution_count": null,
   "id": "81f24aa9",
   "metadata": {},
   "outputs": [],
   "source": [
    "list_of_dictionaries_to_search = [ \n",
    "    {\"key1\":100,\"key3\":\"Wowza\",\"Wowza\":\"Tofu\"},  \n",
    "    {\"carpool\":\"eww\",\"waffles\":\"you_found_me\",1000:10000},   \n",
    "    {100:\"key1\",200:\"key2\",300:\"key3\"},\n",
    "    {100:32312431,200:200,300:300},\n",
    "    {\"key1\":600,\"key5\":\"key8\"},\n",
    "    {\"cake\":\"you_found_me\",},\n",
    "    {\"disguise\":\"zorro\",\"hehehe\":\"don't look\",\"i said\":\"stop looking!\"},    \n",
    "]\n",
    "\n"
   ]
  },
  {
   "cell_type": "markdown",
   "id": "9de68210",
   "metadata": {},
   "source": [
    "# Bonus Exercise 3:\n",
    "    Using loops, write a program that will reverse a given string.\n"
   ]
  },
  {
   "cell_type": "code",
   "execution_count": null,
   "id": "eed629e7",
   "metadata": {},
   "outputs": [],
   "source": []
  },
  {
   "cell_type": "code",
   "execution_count": null,
   "id": "2c88de7b",
   "metadata": {},
   "outputs": [],
   "source": []
  }
 ],
 "metadata": {
  "kernelspec": {
   "display_name": "Python 3",
   "language": "python",
   "name": "python3"
  },
  "language_info": {
   "codemirror_mode": {
    "name": "ipython",
    "version": 3
   },
   "file_extension": ".py",
   "mimetype": "text/x-python",
   "name": "python",
   "nbconvert_exporter": "python",
   "pygments_lexer": "ipython3",
   "version": "3.9.1"
  }
 },
 "nbformat": 4,
 "nbformat_minor": 5
}

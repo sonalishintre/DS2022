{
 "cells": [
  {
   "cell_type": "code",
   "execution_count": 2,
   "id": "59d8227b",
   "metadata": {},
   "outputs": [],
   "source": [
    "\n",
    "# [7,6,5,4,3,2,1]"
   ]
  },
  {
   "cell_type": "code",
   "execution_count": 9,
   "id": "769303b0",
   "metadata": {},
   "outputs": [
    {
     "name": "stdout",
     "output_type": "stream",
     "text": [
      "[7, 6, 5, 4, 3, 2, 1]\n"
     ]
    }
   ],
   "source": [
    "x = [1,2,3,4,5,6,7]\n",
    "y = []\n",
    "last_element = len(x) - 1\n",
    "i = 0\n",
    "\n",
    "while i <= last_element:\n",
    "    y.append(x[last_element-i])\n",
    "    i = i+1\n",
    "print(y)"
   ]
  },
  {
   "cell_type": "code",
   "execution_count": 28,
   "id": "0c9a8be9",
   "metadata": {},
   "outputs": [
    {
     "data": {
      "text/plain": [
       "[5, 4, 3, 2, 1]"
      ]
     },
     "execution_count": 28,
     "metadata": {},
     "output_type": "execute_result"
    }
   ],
   "source": [
    "x = [1,2,3,4,5]\n",
    "\n",
    "number_of_flips = int(len(x)/2)\n",
    "i = 0\n",
    "end_of_list = len(x)-1\n",
    "\n",
    "while i < number_of_flips:\n",
    "    x[i] , x[end_of_list] = x[end_of_list] , x[i]\n",
    "    i+=1\n",
    "    end_of_list-=1\n",
    "\n",
    "x\n",
    "    \n",
    "    "
   ]
  },
  {
   "cell_type": "code",
   "execution_count": null,
   "id": "1adb10bf",
   "metadata": {},
   "outputs": [],
   "source": []
  }
 ],
 "metadata": {
  "kernelspec": {
   "display_name": "Python 3",
   "language": "python",
   "name": "python3"
  },
  "language_info": {
   "codemirror_mode": {
    "name": "ipython",
    "version": 3
   },
   "file_extension": ".py",
   "mimetype": "text/x-python",
   "name": "python",
   "nbconvert_exporter": "python",
   "pygments_lexer": "ipython3",
   "version": "3.9.1"
  }
 },
 "nbformat": 4,
 "nbformat_minor": 5
}

{
 "cells": [
  {
   "cell_type": "markdown",
   "id": "5e38fb90",
   "metadata": {},
   "source": [
    "### Quotes about Software Design\n",
    "\n",
    " \"... with proper design, the features come cheaply. This approach is arduous, but continues to succeed.\"\n",
    " \n",
    " \n",
    " \n",
    " \n",
    " \n",
    "     -- Dennis Ritchie ( Creator of C and Unix)\n",
    "     \n",
    "     \n",
    "     \n",
    "     \n",
    "     \n",
    "     \n",
    "     \n",
    "  \"Good judgment is the result of experience … Experience is the result of bad judgment.\"\n",
    "  \n",
    "  \n",
    "  \n",
    "  \n",
    "  \n",
    "      \n",
    "      -- Fred Brooks ( Developer of System/360 Computers and the OS/360 Software for IBM)\n",
    "      \n",
    "   \n",
    "   \n",
    "   \n",
    "   \n",
    "   \n",
    "   \n",
    "  \"… with the right value system, making good short-term decisions leads to good long-term results. … I think that is the purpose of a value system. We need to figure out the way to live so that when we are in the middle of life we “do the right thing.” When our neighbor comes over to argue with us, we are not going to start thinking about how this will effect our life ten years from now, but we react according to the way we were taught, and the way we taught ourselves. \"\n",
    "  \n",
    "  \n",
    "      \n",
    "      -- Ralph Johnson ( Author of Design Patterns: Elements of Reusable Object-Oriented Software)\n",
    "   \n",
    "     "
   ]
  },
  {
   "cell_type": "markdown",
   "id": "b5e07a04",
   "metadata": {},
   "source": [
    "Programming isn't just lines of code. There is an art to it. An expression of yourself, and of you mind, that can come through when you program. What we aim to do, is to not just tell you, this is how to do something, do this. I am not one to stifle imagination, and so I want to hear how, and why you think. There will be multiple approaches to everything, and multiple correct answers, and though some might be better than others, I want to see the way you got to your answers. I think that understanding yourself, and the way you think, is what unlocks your true potential. Being able to challenge yourself, and push yourself, and the way you think, so that you can see problems from other perspectives, and tackle things from new and fresh perspectives."
   ]
  },
  {
   "cell_type": "markdown",
   "id": "3cd9bc3a",
   "metadata": {},
   "source": [
    "We're here to give you a tool kit. A tool box of how to do some of the basic things. We cannot, and will not be the ones to tell you how you have to use these tools to express yourself and your ideas. That much is on you. It will require practice, and dilligence in programming. You will have to push yourself with new problems, push yourself to do things in new ways, and push yourself to review and remake your solutions. All that we ask, is that in that growth and in that learning, that you ask us, the teaching staff for help, if you want more, or if you need support."
   ]
  },
  {
   "cell_type": "code",
   "execution_count": null,
   "id": "3353c0e9",
   "metadata": {},
   "outputs": [],
   "source": []
  },
  {
   "cell_type": "markdown",
   "id": "0825f134",
   "metadata": {},
   "source": [
    "We will start our review with condtional statements. These are the bread and butter statements for applying \"Logic\" to code. What does it mean for code to contain logic? Let's start with that.\n",
    "\n",
    "Logic in programming means that our code is doing something if and only if some condition is being met.\n",
    "What is a condition? It's a True or False statement.\n",
    "The True or False statement dictates whether or not our program executes some code.\n",
    "\n"
   ]
  },
  {
   "cell_type": "code",
   "execution_count": null,
   "id": "be67247f",
   "metadata": {},
   "outputs": [],
   "source": [
    "if True:\n",
    "    print(\"Hello\")\n"
   ]
  },
  {
   "cell_type": "markdown",
   "id": "9f788f13",
   "metadata": {},
   "source": [
    "Let's break down this seemingly simple code block.\n",
    "\n",
    "We start with the **if** statement.\n",
    "\n",
    "\n",
    "The if statements allows us to apply logic into Python. It must be followed be an expression.\n",
    "\n",
    "An expression is **ANYTHING**  that can equal True or False. This is also known as our conditional.\n",
    "\n",
    "Python applies the following logic.\n",
    "<br>\n",
    "if  **expr**: <br>\n",
    "  &nbsp;&nbsp;&nbsp;&nbsp; do <statement(s)>\n",
    "  \n",
    "  \n",
    "If the expresion evaluates to TRUE, it will DO, or EXECUTE, the statement.\n"
   ]
  },
  {
   "cell_type": "markdown",
   "id": "4c5ceaf8",
   "metadata": {},
   "source": [
    "\n",
    "    if True:\n",
    "        print(\"Hello\")\n",
    "    \n",
    "In our case we are telling python, if our Conditional evaluates to True, it should print(\"Hello\")\n"
   ]
  },
  {
   "cell_type": "markdown",
   "id": "99213c3e",
   "metadata": {},
   "source": [
    "Here we ask ourselves, does True equate to True? The Answer is yes! Python sees that and then decides to run the code after it.\n"
   ]
  },
  {
   "cell_type": "code",
   "execution_count": null,
   "id": "24f8ba70",
   "metadata": {},
   "outputs": [],
   "source": [
    "if True:\n",
    "    print(\"Hello\")"
   ]
  },
  {
   "cell_type": "code",
   "execution_count": null,
   "id": "c4b793a7",
   "metadata": {},
   "outputs": [],
   "source": [
    "#What would happen if we did?\n",
    "\n",
    "if False:\n",
    "    print(\"Hello\")"
   ]
  },
  {
   "cell_type": "markdown",
   "id": "e18ac097",
   "metadata": {},
   "source": [
    "That's correct! Nothing would happen. Why is that? It is because our condition equated to False."
   ]
  },
  {
   "cell_type": "markdown",
   "id": "ddb4138e",
   "metadata": {},
   "source": [
    "I keep saying that it has to EQUATE to false. What does that mean?\n"
   ]
  },
  {
   "cell_type": "code",
   "execution_count": null,
   "id": "da06b8e5",
   "metadata": {},
   "outputs": [],
   "source": [
    "#What will happen if I do this?\n",
    "if \"Hello\":\n",
    "    print(\"Wow\")"
   ]
  },
  {
   "cell_type": "markdown",
   "id": "7380c6a0",
   "metadata": {},
   "source": [
    "It printed Wow! What does that mean about strings? It means that they equate to True."
   ]
  },
  {
   "cell_type": "markdown",
   "id": "af6076ea",
   "metadata": {},
   "source": [
    "Here are a few other \"special\" cases.\n"
   ]
  },
  {
   "cell_type": "code",
   "execution_count": null,
   "id": "13aa991b",
   "metadata": {},
   "outputs": [],
   "source": [
    "if 0:\n",
    "    print(\"Wow\")"
   ]
  },
  {
   "cell_type": "code",
   "execution_count": null,
   "id": "f547d5ec",
   "metadata": {},
   "outputs": [],
   "source": [
    "if 1:\n",
    "    print(\"Wow\")"
   ]
  },
  {
   "cell_type": "markdown",
   "id": "2de943b0",
   "metadata": {},
   "source": [
    "This is great and everything, but next let's combine this with variables. Remember, any expression that can equate to a True or False Boolean is valid input.\n"
   ]
  },
  {
   "cell_type": "code",
   "execution_count": null,
   "id": "e39b2a1e",
   "metadata": {},
   "outputs": [],
   "source": [
    "x = 5\n",
    "y = 5\n",
    "\n",
    "if x + y > 10:\n",
    "    print(\"Axl is cool\")"
   ]
  },
  {
   "cell_type": "markdown",
   "id": "0ef70d5f",
   "metadata": {},
   "source": [
    "What was our conditional? It was\n",
    "\n",
    "x + y > 10\n",
    "\n",
    "What does that equate to?\n",
    "False.\n",
    "Because it equated to False, that means that our code under it won't execute.\n"
   ]
  },
  {
   "cell_type": "markdown",
   "id": "6e14cd96",
   "metadata": {},
   "source": [
    "We can do more complicated logic inside of our if statement. Let's see that in action.\n",
    "\n",
    "\n"
   ]
  },
  {
   "cell_type": "code",
   "execution_count": null,
   "id": "1a5b5d27",
   "metadata": {},
   "outputs": [],
   "source": [
    "if x+y == 10 and y > x:\n",
    "    print(\"Free cupcakes for everyone!\")\n",
    "    \n",
    "if x+y == 10 or y > x:\n",
    "    print(\"Axl gets all the cupcakes!\")   "
   ]
  },
  {
   "cell_type": "markdown",
   "id": "4512ca8a",
   "metadata": {},
   "source": [
    "the AND is a logic operator. It helps us with more complicated logic. It allows us check multiple things at once. In order for the expression to equate to True, the expresison to the left and the expression to the right both have to be True. \n",
    "\n",
    "OR is another logic operator. It says return True, if the left expression OR the right expression equates to True. \n",
    "\n"
   ]
  },
  {
   "cell_type": "code",
   "execution_count": null,
   "id": "307ef7c7",
   "metadata": {},
   "outputs": [],
   "source": [
    "if not False:\n",
    "    print(\"Hello\")"
   ]
  },
  {
   "cell_type": "markdown",
   "id": "cef19d54",
   "metadata": {},
   "source": [
    "What is the not doing? It's NEGATING the expression after it. It's flipping it. If the expression would normally return True, not True, returns False.\n"
   ]
  },
  {
   "cell_type": "markdown",
   "id": "cceada64",
   "metadata": {},
   "source": [
    "We can do some really complicated logic if we combine all of these logical operators.\n",
    "Let's stay away from that though. Let's try to keep our programs as simple as possible to follow, and as easy to read to follow. With higher level logic, programs can spiral out of control.\n"
   ]
  },
  {
   "cell_type": "markdown",
   "id": "76e27381",
   "metadata": {},
   "source": [
    "What if we need to handle more than one case? We can use the Else Statement."
   ]
  },
  {
   "cell_type": "code",
   "execution_count": null,
   "id": "1f2528b7",
   "metadata": {},
   "outputs": [],
   "source": [
    "x = 5\n",
    "y = 10\n",
    "\n",
    "if x + y > 15:\n",
    "    print(\"We're going to Disneyland!\")\n",
    "else:\n",
    "    print(\"We're going Bowling!\")"
   ]
  },
  {
   "cell_type": "markdown",
   "id": "82f98f17",
   "metadata": {},
   "source": [
    "The else statement handles the \"other\" cases so to speak. In the case that our first statement isn't being \"hit\" or \"executed\" we can do something DIFFERENT."
   ]
  },
  {
   "cell_type": "markdown",
   "id": "41acc8f8",
   "metadata": {},
   "source": [
    "Lastly, we can incorporate the elif. the elif allows us to make branching \"trees\" of logic. It allows us to handle many cases.\n",
    "\n"
   ]
  },
  {
   "cell_type": "code",
   "execution_count": null,
   "id": "a09c8c84",
   "metadata": {},
   "outputs": [],
   "source": [
    "x  = 5\n",
    "y = 10\n",
    "\n",
    "if x+y > 10:\n",
    "    print(\"I'm in here\")\n",
    "elif x+y > 12:\n",
    "    print(\"Here I am!\")\n",
    "else:\n",
    "    print(\"Nope, I'm here\")"
   ]
  },
  {
   "cell_type": "markdown",
   "id": "2a457b12",
   "metadata": {},
   "source": [
    "Remember, that our If/elif/else tree STOPS as soon as it gets one of these things being true. Even though x+y is greater than\n",
    "12, it already exited the tree. Important to keep this type of logic in mind. Python is dumb, and so it will only do what we tell it to do"
   ]
  },
  {
   "cell_type": "markdown",
   "id": "8078c2b6",
   "metadata": {},
   "source": [
    "These next bits are conjecture.\n",
    "\n",
    "Keep Logic Checks to a minimum. If you're having to check a ton of base cases, think of the approach you are taking. Can you simplify another part of your program?\n",
    "\n",
    "Do not use ANDs ORs or NOTs if they aren't clear. They can make logic very hard to follow, and they can make things a pain to read.\n",
    "\n",
    "When using conditionals that contain VARIABLES, try to make sure your VARIABLE names are easy to understand. Try to make your conditionals read like english if possible\n",
    "\n",
    "\n"
   ]
  },
  {
   "cell_type": "markdown",
   "id": "e2dd4288",
   "metadata": {},
   "source": [
    "We can combine logic now with some powerful statements to produce higher level code."
   ]
  }
 ],
 "metadata": {
  "kernelspec": {
   "display_name": "Python 3",
   "language": "python",
   "name": "python3"
  },
  "language_info": {
   "codemirror_mode": {
    "name": "ipython",
    "version": 3
   },
   "file_extension": ".py",
   "mimetype": "text/x-python",
   "name": "python",
   "nbconvert_exporter": "python",
   "pygments_lexer": "ipython3",
   "version": "3.9.1"
  }
 },
 "nbformat": 4,
 "nbformat_minor": 5
}

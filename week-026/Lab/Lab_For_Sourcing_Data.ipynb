{
 "cells": [
  {
   "cell_type": "markdown",
   "id": "5d382291",
   "metadata": {},
   "source": [
    "# Lab on sourcing Data\n"
   ]
  },
  {
   "cell_type": "markdown",
   "id": "006bcb88",
   "metadata": {},
   "source": [
    "#### This is going to be an independent lab.\n",
    "#### Every person is reponsible for their own submission and their own codebase. \n",
    "#### Collaboration is fine, but visualizations should be unique, and specific functions and methods should be your own work."
   ]
  },
  {
   "cell_type": "code",
   "execution_count": 1,
   "id": "a1577903",
   "metadata": {},
   "outputs": [],
   "source": [
    "\n",
    "# You are going to select an API ENDPOINT.\n",
    "# Your goal is to make a call to the API.\n",
    "# You are going to then take the data returned and store it in a Database.\n",
    "# You are going to take the raw data and make a new table from it that contains the data in a more workable format\n",
    "# You are going to build out at least 3 helper functions that help you access data from your DB, or transforms your data into a specific format.\n",
    "# Using your helper functions, create 2 visualizations that from the data you sourced.\n",
    "# 2 Visualizations minimum."
   ]
  },
  {
   "cell_type": "markdown",
   "id": "d4be84b2",
   "metadata": {},
   "source": [
    "### Insert your code below for accessing the API endpoint and getting the data."
   ]
  },
  {
   "cell_type": "code",
   "execution_count": null,
   "id": "319a0f03",
   "metadata": {},
   "outputs": [],
   "source": []
  },
  {
   "cell_type": "markdown",
   "id": "46ebaef0",
   "metadata": {},
   "source": [
    "### Insert your code below that stores the raw data that you pulled into a database.\n"
   ]
  },
  {
   "cell_type": "code",
   "execution_count": null,
   "id": "f6bffca4",
   "metadata": {},
   "outputs": [],
   "source": []
  },
  {
   "cell_type": "markdown",
   "id": "fff0a556",
   "metadata": {},
   "source": [
    "### Insert your code below that takes the raw data and transforms it into a more useable format."
   ]
  },
  {
   "cell_type": "code",
   "execution_count": null,
   "id": "915b14c4",
   "metadata": {},
   "outputs": [],
   "source": []
  },
  {
   "cell_type": "markdown",
   "id": "93e5858b",
   "metadata": {},
   "source": [
    "### Insert your code below that contains your three helper functions for accessing and working with your database."
   ]
  },
  {
   "cell_type": "code",
   "execution_count": null,
   "id": "a3e7daca",
   "metadata": {},
   "outputs": [],
   "source": []
  },
  {
   "cell_type": "code",
   "execution_count": null,
   "id": "be2db06d",
   "metadata": {},
   "outputs": [],
   "source": []
  },
  {
   "cell_type": "code",
   "execution_count": null,
   "id": "af222b31",
   "metadata": {},
   "outputs": [],
   "source": []
  },
  {
   "cell_type": "markdown",
   "id": "6955b310",
   "metadata": {},
   "source": [
    "### Insert your code below that takes the data you sourced, and creates 2 visualizations from that data."
   ]
  },
  {
   "cell_type": "code",
   "execution_count": null,
   "id": "1a35a49b",
   "metadata": {},
   "outputs": [],
   "source": []
  }
 ],
 "metadata": {
  "kernelspec": {
   "display_name": "Python 3",
   "language": "python",
   "name": "python3"
  },
  "language_info": {
   "codemirror_mode": {
    "name": "ipython",
    "version": 3
   },
   "file_extension": ".py",
   "mimetype": "text/x-python",
   "name": "python",
   "nbconvert_exporter": "python",
   "pygments_lexer": "ipython3",
   "version": "3.9.1"
  }
 },
 "nbformat": 4,
 "nbformat_minor": 5
}

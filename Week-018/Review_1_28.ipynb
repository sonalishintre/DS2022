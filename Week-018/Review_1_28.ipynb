{
 "cells": [
  {
   "cell_type": "code",
   "execution_count": null,
   "id": "aac2849e",
   "metadata": {},
   "outputs": [],
   "source": [
    "import pandas as pd\n",
    "\n"
   ]
  },
  {
   "cell_type": "code",
   "execution_count": null,
   "id": "84ed0f75",
   "metadata": {},
   "outputs": [],
   "source": [
    "df = pd.read_csv(\"Data_to_work_through.csv\")"
   ]
  },
  {
   "cell_type": "code",
   "execution_count": null,
   "id": "8c9b656a",
   "metadata": {
    "scrolled": true
   },
   "outputs": [],
   "source": [
    "df = df.rename(\n",
    "    columns=   {\n",
    "                    \"Name\":\"NAME\",\n",
    "                    \"ASSIGNMENT NAME\":\"ASSIGNMENT_NAME\",\n",
    "                    \"Time Studied\":\"TIME_STUDIED\"\n",
    "                }\n",
    "              )\n",
    "df"
   ]
  },
  {
   "cell_type": "code",
   "execution_count": null,
   "id": "11850fe0",
   "metadata": {},
   "outputs": [],
   "source": [
    "def change_name(column_value):\n",
    "    return column_value.capitalize()\n",
    "df[\"NAME\"] = df[\"NAME\"].apply(change_name)"
   ]
  },
  {
   "cell_type": "code",
   "execution_count": null,
   "id": "be1ac98b",
   "metadata": {},
   "outputs": [],
   "source": [
    "df = df.set_index(\"NAME\")"
   ]
  },
  {
   "cell_type": "code",
   "execution_count": null,
   "id": "9884c6ce",
   "metadata": {},
   "outputs": [],
   "source": [
    "df_names = dict()\n",
    "\n",
    "for k,v in df.groupby(\"NAME\"):\n",
    "    df_names[k]= v\n",
    "\n",
    "for k in df_names:\n",
    "    print(df_names[k])\n",
    "    \n"
   ]
  },
  {
   "cell_type": "code",
   "execution_count": null,
   "id": "850f4168",
   "metadata": {},
   "outputs": [],
   "source": [
    "def change_assignment_name(column_value):\n",
    "    column_value = column_value.lower()\n",
    "    if \"geo\" in column_value:\n",
    "        return \"Geography_Test_1\"\n",
    "    elif \"math\" in column_value:\n",
    "        return \"Math_Assignment_1\"\n",
    "    elif \"programming\" in column_value:\n",
    "        return \"Programming_Assignment_1\"\n",
    "    elif \"writing\" in column_value:\n",
    "        return \"Writing_Assignment_1\"\n",
    "    else:\n",
    "        return \"Error Here\"\n",
    "\n",
    "    \n",
    "for k in df_names:\n",
    "    df_to_edit = df_names[k]\n",
    "    df_to_edit[\"ASSIGNMENT_NAME\"] = df_to_edit[\"ASSIGNMENT_NAME\"].apply(change_assignment_name)\n",
    "    df_names[k] = df_to_edit\n",
    "    \n"
   ]
  },
  {
   "cell_type": "code",
   "execution_count": null,
   "id": "60d9494c",
   "metadata": {},
   "outputs": [],
   "source": [
    "new_data_frame = pd.concat(df_names)"
   ]
  },
  {
   "cell_type": "code",
   "execution_count": null,
   "id": "b420d6ec",
   "metadata": {},
   "outputs": [],
   "source": [
    "new_data_frame.reset_index(inplace=True)"
   ]
  },
  {
   "cell_type": "code",
   "execution_count": null,
   "id": "5a091dea",
   "metadata": {},
   "outputs": [],
   "source": [
    "new_data_frame.set_index(\"NAME\",inplace=True)"
   ]
  },
  {
   "cell_type": "code",
   "execution_count": null,
   "id": "8c5f57e4",
   "metadata": {},
   "outputs": [],
   "source": [
    "new_data_frame.drop('level_0',axis=1,inplace=True)"
   ]
  },
  {
   "cell_type": "code",
   "execution_count": null,
   "id": "7bfd9d63",
   "metadata": {},
   "outputs": [],
   "source": [
    "new_data_frame.reset_index(inplace=True)"
   ]
  },
  {
   "cell_type": "code",
   "execution_count": null,
   "id": "9f160b62",
   "metadata": {},
   "outputs": [],
   "source": [
    "new_data_frame"
   ]
  },
  {
   "cell_type": "code",
   "execution_count": null,
   "id": "a787f698",
   "metadata": {},
   "outputs": [],
   "source": []
  }
 ],
 "metadata": {
  "kernelspec": {
   "display_name": "Python 3",
   "language": "python",
   "name": "python3"
  },
  "language_info": {
   "codemirror_mode": {
    "name": "ipython",
    "version": 3
   },
   "file_extension": ".py",
   "mimetype": "text/x-python",
   "name": "python",
   "nbconvert_exporter": "python",
   "pygments_lexer": "ipython3",
   "version": "3.9.1"
  }
 },
 "nbformat": 4,
 "nbformat_minor": 5
}

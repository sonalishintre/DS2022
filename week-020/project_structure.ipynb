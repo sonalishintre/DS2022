{
 "cells": [
  {
   "cell_type": "markdown",
   "id": "11ee2828-ef4a-4109-b060-b6ee774ac2bd",
   "metadata": {},
   "source": [
    "# <center> Dataset Cleaning w/ Pandas\n"
   ]
  },
  {
   "cell_type": "markdown",
   "id": "eb581cac-fb35-49f6-955a-d048c2684639",
   "metadata": {},
   "source": [
    "## Section 1: Purpose\n",
    "### Use this section to describe the purpose of this exercise/notebook\n",
    "### The purpose of this notebook is to blah blah blah\n",
    "### The proper usage of this notebook is blah blah blah"
   ]
  },
  {
   "cell_type": "markdown",
   "id": "4f283533-e83c-48f7-aa4e-e066a75a09a9",
   "metadata": {},
   "source": [
    "## Section 2: Requirements and Structure\n",
    "## Use this section to describe to the reader/coder how your project is structured (directories/files), where your custom functions live, as well as the requirements.txt\n",
    "### The packages required in order to run this process are ______\n",
    "### The structure of this project is __________"
   ]
  },
  {
   "cell_type": "markdown",
   "id": "eca7d4e3-f672-42e9-a8bb-5285c26b2be2",
   "metadata": {},
   "source": [
    "## Section 3: Example Dataset Description\n",
    "### Use this section to describe the dataset you are cleaning as the example. Where you got it from, number of columns, number of rows, data types of columns, etc.\n",
    "### Also use this section to describe how the dataset could be used in the future once the dataset is clean (purpose of the dataset)\n",
    "### In this example, I am using the ____ dataset which can be found at _______\n",
    "### Once the data is clean, it could be used to forecast/predict ________ or have analysis performed on it to determine _______"
   ]
  },
  {
   "cell_type": "markdown",
   "id": "bad7a4f3-13e9-437b-9d58-a170ee88e03c",
   "metadata": {},
   "source": [
    "## Section 4: Custom Functions\n",
    "### Use this section to describe what functions you made, reiterate where they live, and explain how to import/use them. Explain why you chose to make them. Explain their limits, etc."
   ]
  },
  {
   "cell_type": "markdown",
   "id": "d45404e8-35d1-40c6-b377-89d10ca1a21e",
   "metadata": {},
   "source": [
    "## Section 5: Descriptive Statistics\n",
    "### Use this section to perform intial statistics, find the different measures of center for different columns, histograms/counts/tables of other categorical values, etc. However you want to intially describe your dataset."
   ]
  },
  {
   "cell_type": "markdown",
   "id": "e51f6440-3b19-4f4e-8abe-63e8f08ceb41",
   "metadata": {},
   "source": [
    "## Section 6: Future Work/Improvements\n",
    "### Use this section to describe how you would improve your functions/notebook/processes in the future\n",
    "### Use this section to describe how you could build from here or apply data science to the dataset, etc."
   ]
  },
  {
   "cell_type": "code",
   "execution_count": null,
   "id": "bd506946-1b6e-436b-9743-fa46ba58ce9e",
   "metadata": {},
   "outputs": [],
   "source": []
  }
 ],
 "metadata": {
  "kernelspec": {
   "display_name": "Python 3",
   "language": "python",
   "name": "python3"
  },
  "language_info": {
   "codemirror_mode": {
    "name": "ipython",
    "version": 3
   },
   "file_extension": ".py",
   "mimetype": "text/x-python",
   "name": "python",
   "nbconvert_exporter": "python",
   "pygments_lexer": "ipython3",
   "version": "3.8.8"
  }
 },
 "nbformat": 4,
 "nbformat_minor": 5
}

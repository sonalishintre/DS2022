{
 "cells": [
  {
   "cell_type": "markdown",
   "id": "22b1f309",
   "metadata": {},
   "source": [
    "# Exercise 1:\n",
    "\n",
    "    Create a function that will take 1 argument n. It should print out the string \"Hello world\" n times."
   ]
  },
  {
   "cell_type": "code",
   "execution_count": null,
   "id": "4360acf9",
   "metadata": {},
   "outputs": [],
   "source": []
  },
  {
   "cell_type": "markdown",
   "id": "e9591514",
   "metadata": {},
   "source": [
    "# Exercise 2:\n",
    "    \n",
    "    Create a function that will take in a list list_to_change. It should return the list with each element capitalized if it is a string."
   ]
  },
  {
   "cell_type": "code",
   "execution_count": null,
   "id": "bb3275f1",
   "metadata": {},
   "outputs": [],
   "source": []
  },
  {
   "cell_type": "markdown",
   "id": "016ef70d",
   "metadata": {},
   "source": [
    "# Exercise 3:\n",
    "    Create a function that will take in two sets. If the two sets contain all of the same elements, the function should return True, else it should return false."
   ]
  },
  {
   "cell_type": "code",
   "execution_count": null,
   "id": "a1dcae3b",
   "metadata": {},
   "outputs": [],
   "source": []
  },
  {
   "cell_type": "markdown",
   "id": "ea6d5f48",
   "metadata": {},
   "source": [
    "# Exercise 4:\n",
    "\n",
    "    Create a function that will take one argument, a list of tuple pairs. The function should return a dictionary, where each key is the first element in the tuple pair, and each value is the value of the tuple pair.\n",
    "    \n",
    "    \n",
    "    \n",
    "    Example.\n",
    "    \n",
    "    some_function([(1,2),(2,3)])\n",
    "    \n",
    "    should return\n",
    "    \n",
    "    {1:2,2:3}"
   ]
  },
  {
   "cell_type": "code",
   "execution_count": null,
   "id": "7b8778be",
   "metadata": {},
   "outputs": [],
   "source": []
  },
  {
   "cell_type": "markdown",
   "id": "49c55e72",
   "metadata": {},
   "source": [
    "# Exercise 5:\n",
    "    Create a function that should take any number of arguments. It should return a list of all the arguments."
   ]
  },
  {
   "cell_type": "code",
   "execution_count": null,
   "id": "f202b607",
   "metadata": {},
   "outputs": [],
   "source": []
  },
  {
   "cell_type": "markdown",
   "id": "53eaeef9",
   "metadata": {},
   "source": [
    "# Exercise 6:\n",
    "\n",
    "    Create a class called Student. \n",
    "    The Student class should expect 3 arguments. \n",
    "    It should take in a name, an age, and a school."
   ]
  },
  {
   "cell_type": "code",
   "execution_count": null,
   "id": "6205bccb",
   "metadata": {},
   "outputs": [],
   "source": []
  },
  {
   "cell_type": "markdown",
   "id": "f91c9955",
   "metadata": {},
   "source": [
    "# Exercise 7:\n",
    "\n",
    "    Create a class called Human.\n",
    "    It should expect 1 argument, name.\n",
    "    \n",
    "    Create a method called print_name, which should print the Human's name.\n"
   ]
  },
  {
   "cell_type": "code",
   "execution_count": null,
   "id": "87efecba",
   "metadata": {},
   "outputs": [],
   "source": []
  },
  {
   "cell_type": "markdown",
   "id": "db435dcc",
   "metadata": {},
   "source": [
    "# Exercise 8:\n",
    "\n",
    "    Using the human class you created in the previous example, create an Adult class that inherits from it.\n",
    "    The adult class should expect 3 arguments, a name, an age, and a career.\n",
    "    \n",
    "    Create a method in the adult class called print_job, which should print the job of the Adult.\n",
    "    "
   ]
  },
  {
   "cell_type": "code",
   "execution_count": null,
   "id": "07f85a9d",
   "metadata": {},
   "outputs": [],
   "source": []
  },
  {
   "cell_type": "markdown",
   "id": "c9b65e9b",
   "metadata": {},
   "source": [
    "# Exercise 9:\n",
    "\n",
    "\n",
    "    Using the human class, create a new class called child which inherits from it. It should take in 2 arguments\n",
    "    a name, and an age.\n",
    "    \n",
    "    Override the print_name method, so that it prints \"Hello little {name}\". \n",
    "    "
   ]
  },
  {
   "cell_type": "markdown",
   "id": "6dfc3c8b",
   "metadata": {},
   "source": [
    "# Exercise 10:\n",
    "\n",
    "    https://www.visual-paradigm.com/guide/uml-unified-modeling-language/uml-class-diagram-tutorial/\n",
    "        \n",
    "        \n",
    "    Read the Class Diagram guide here.\n",
    "    \n",
    "    Using this knowledge, build out a class diagram for a vet's office."
   ]
  },
  {
   "cell_type": "code",
   "execution_count": null,
   "id": "6f211b40",
   "metadata": {},
   "outputs": [],
   "source": []
  }
 ],
 "metadata": {
  "kernelspec": {
   "display_name": "Python 3",
   "language": "python",
   "name": "python3"
  },
  "language_info": {
   "codemirror_mode": {
    "name": "ipython",
    "version": 3
   },
   "file_extension": ".py",
   "mimetype": "text/x-python",
   "name": "python",
   "nbconvert_exporter": "python",
   "pygments_lexer": "ipython3",
   "version": "3.9.1"
  }
 },
 "nbformat": 4,
 "nbformat_minor": 5
}

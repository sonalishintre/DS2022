{
 "cells": [
  {
   "cell_type": "code",
   "execution_count": 1,
   "id": "2b58be8a",
   "metadata": {},
   "outputs": [
    {
     "name": "stdout",
     "output_type": "stream",
     "text": [
      "Goodbye World\n"
     ]
    }
   ],
   "source": [
    "#Question 1\n",
    "#Which print statement is going to be executed? \n",
    "#Why?\n",
    "\n",
    "x = 10\n",
    "y = 5\n",
    "\n",
    "\n",
    "if x - y < 5:\n",
    "    print(\"Hello World\")\n",
    "else:\n",
    "    print(\"Goodbye World\")"
   ]
  },
  {
   "cell_type": "code",
   "execution_count": null,
   "id": "22e0c338",
   "metadata": {},
   "outputs": [],
   "source": [
    "#Question 2\n",
    "#Control Flow Diagram\n",
    "#Please create a control flow diagram for the following if statement\n",
    "\n",
    "\n",
    "z = 15\n",
    "\n",
    "if z >= 15:\n",
    "    print(\"The world is mine!\")\n",
    "else:\n",
    "    print(\"I could use a bit more sleep\")"
   ]
  },
  {
   "cell_type": "code",
   "execution_count": 2,
   "id": "1818b03d",
   "metadata": {},
   "outputs": [
    {
     "name": "stdout",
     "output_type": "stream",
     "text": [
      "I'm alright\n"
     ]
    }
   ],
   "source": [
    "##Question 3\n",
    "## Which statement is going to execute, and why?\n",
    "x = 100\n",
    "\n",
    "\n",
    "if x % 2 == 0 and x < 100:\n",
    "    print(\"I'm the greatest\")\n",
    "elif x % 2 == 0 and x > 100:\n",
    "    print(\"I'm the 2nd best\")\n",
    "else:\n",
    "    print(\"I'm alright\")"
   ]
  },
  {
   "cell_type": "code",
   "execution_count": 3,
   "id": "c000b394",
   "metadata": {},
   "outputs": [
    {
     "name": "stdout",
     "output_type": "stream",
     "text": [
      "We're getting Burger King\n"
     ]
    }
   ],
   "source": [
    "##Question 4\n",
    "## Which statment is going to execute and why?\n",
    "\n",
    "x = 50 \n",
    "y = 25\n",
    "\n",
    "if not(x % 5 == 0 and y % 5 == 0):\n",
    "    print(\"We're getting McDonalds!\")\n",
    "elif (x % 5 ==0 or y % 3 == 0):\n",
    "    print(\"We're getting Burger King\") \n",
    "else:\n",
    "    print(\"We're getting Popeyes\")"
   ]
  },
  {
   "cell_type": "code",
   "execution_count": null,
   "id": "15dafd47",
   "metadata": {},
   "outputs": [],
   "source": [
    "### Question 5\n",
    "### Which 2 statements are functionally equivalent? \n",
    "\n",
    "x = 100\n",
    "\n",
    "A) if x==100 and x%2==0:\n",
    "    print(\"x\")\n",
    "    \n",
    "B) if x=!100 or x==100:\n",
    "    print(\"x\")\n",
    "    \n",
    "C) if not(x=!100 or x > 100):\n",
    "    print(\"x\")\n",
    "    \n",
    "D) if x==100:\n",
    "    if x%2==0:\n",
    "        print(\"x\")"
   ]
  },
  {
   "cell_type": "code",
   "execution_count": null,
   "id": "bbc6b7f0",
   "metadata": {},
   "outputs": [],
   "source": [
    "### Question 6\n",
    "### Write out the truth tables for NAND and NOR\n"
   ]
  }
 ],
 "metadata": {
  "kernelspec": {
   "display_name": "Python 3",
   "language": "python",
   "name": "python3"
  },
  "language_info": {
   "codemirror_mode": {
    "name": "ipython",
    "version": 3
   },
   "file_extension": ".py",
   "mimetype": "text/x-python",
   "name": "python",
   "nbconvert_exporter": "python",
   "pygments_lexer": "ipython3",
   "version": "3.9.1"
  }
 },
 "nbformat": 4,
 "nbformat_minor": 5
}

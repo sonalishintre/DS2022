{
 "cells": [
  {
   "cell_type": "markdown",
   "id": "ec2d5311",
   "metadata": {},
   "source": [
    "# Exercise 1:\n",
    "\n",
    "    List the features of each data set.\n",
    "    \n",
    "    Lists, Tuples, Sets, and Dictionaries."
   ]
  },
  {
   "cell_type": "code",
   "execution_count": null,
   "id": "3d7bb4c2",
   "metadata": {},
   "outputs": [],
   "source": []
  },
  {
   "cell_type": "markdown",
   "id": "c68b6ac8",
   "metadata": {},
   "source": [
    "# Exercise 2 :\n",
    "\n",
    "    Write a program that will check to see whether or not two lists are equal to each other. If they both contain an element\n",
    "    that matches, the program should return True. If they don't, it should return False."
   ]
  },
  {
   "cell_type": "code",
   "execution_count": null,
   "id": "f9740473",
   "metadata": {},
   "outputs": [],
   "source": [
    "list_1 = [1,2,3,4,5,6,7,8,9]\n",
    "list_2 = [\"wow\",4,True,False]\n"
   ]
  },
  {
   "cell_type": "markdown",
   "id": "37066b90",
   "metadata": {},
   "source": [
    "# Exercise 3:\n",
    "\n",
    "    Write a program that will create a dict from a list. The dictionaries keys should be the index of the element in the list."
   ]
  },
  {
   "cell_type": "code",
   "execution_count": null,
   "id": "fa13b8a9",
   "metadata": {},
   "outputs": [],
   "source": [
    "list_to_convert = {1,2,3,4,5,6,7,8,9,10}"
   ]
  },
  {
   "cell_type": "markdown",
   "id": "4f0d139f",
   "metadata": {},
   "source": [
    "# Exercise 4:\n",
    "\n",
    "    Write a program that will create a list of all the values that are divisible by 20 between 1 and 10000."
   ]
  },
  {
   "cell_type": "code",
   "execution_count": 5,
   "id": "57d15416",
   "metadata": {},
   "outputs": [],
   "source": [
    "\n"
   ]
  },
  {
   "cell_type": "markdown",
   "id": "553a49e9",
   "metadata": {},
   "source": [
    "# Exercise 5:\n",
    "    Write a program that will create a new dictionary from an old dictionary.\n",
    "    The new dictionary should contain the same values, but the keys should be the old keys multiplied by 20."
   ]
  },
  {
   "cell_type": "code",
   "execution_count": null,
   "id": "1ba264bc",
   "metadata": {},
   "outputs": [],
   "source": [
    "old_dict = {1:20,2:30,3:40,4:50,5:60,7:70}"
   ]
  },
  {
   "cell_type": "markdown",
   "id": "45922493",
   "metadata": {},
   "source": [
    "# Exercise 6:\n",
    "\n",
    "    Write a program that will print all contiguous sublists of a list.\n",
    "    \n",
    "    For example:\n",
    "    \n",
    "    [1,2,3,4]\n",
    "    \n",
    "    Should print:\n",
    "    \n",
    "    [[1,2,3,4],[1,2,3],[2,3,4],[1,2],[2,3],[3,4],[1],[2],[3],[4]]\n",
    "    \n",
    "    Order doesn't matter.\n",
    "    "
   ]
  },
  {
   "cell_type": "code",
   "execution_count": null,
   "id": "9216505d",
   "metadata": {},
   "outputs": [],
   "source": []
  }
 ],
 "metadata": {
  "kernelspec": {
   "display_name": "Python 3",
   "language": "python",
   "name": "python3"
  },
  "language_info": {
   "codemirror_mode": {
    "name": "ipython",
    "version": 3
   },
   "file_extension": ".py",
   "mimetype": "text/x-python",
   "name": "python",
   "nbconvert_exporter": "python",
   "pygments_lexer": "ipython3",
   "version": "3.9.1"
  }
 },
 "nbformat": 4,
 "nbformat_minor": 5
}

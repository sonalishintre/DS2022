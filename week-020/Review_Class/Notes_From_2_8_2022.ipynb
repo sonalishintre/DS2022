{
 "cells": [
  {
   "cell_type": "markdown",
   "id": "396fba7b",
   "metadata": {},
   "source": [
    "# Set\n",
    "\n",
    "    A collection of unordered and unique elements. The elements themselves cannot be iterables. "
   ]
  },
  {
   "cell_type": "code",
   "execution_count": 6,
   "id": "75f3aeb2",
   "metadata": {},
   "outputs": [
    {
     "name": "stdout",
     "output_type": "stream",
     "text": [
      "{100, 20, 300}\n"
     ]
    }
   ],
   "source": [
    "x = {100,20,300}\n",
    "print(x)"
   ]
  },
  {
   "cell_type": "code",
   "execution_count": 7,
   "id": "86e65190",
   "metadata": {},
   "outputs": [
    {
     "ename": "TypeError",
     "evalue": "'set' object is not subscriptable",
     "output_type": "error",
     "traceback": [
      "\u001b[1;31m---------------------------------------------------------------------------\u001b[0m",
      "\u001b[1;31mTypeError\u001b[0m                                 Traceback (most recent call last)",
      "\u001b[1;32m<ipython-input-7-d7a2e9ba0266>\u001b[0m in \u001b[0;36m<module>\u001b[1;34m\u001b[0m\n\u001b[0;32m      1\u001b[0m \u001b[0mx\u001b[0m \u001b[1;33m=\u001b[0m \u001b[1;33m{\u001b[0m\u001b[1;36m100\u001b[0m\u001b[1;33m,\u001b[0m\u001b[1;36m20\u001b[0m\u001b[1;33m,\u001b[0m\u001b[1;36m300\u001b[0m\u001b[1;33m}\u001b[0m\u001b[1;33m\u001b[0m\u001b[1;33m\u001b[0m\u001b[0m\n\u001b[1;32m----> 2\u001b[1;33m \u001b[0mprint\u001b[0m\u001b[1;33m(\u001b[0m\u001b[0mx\u001b[0m\u001b[1;33m[\u001b[0m\u001b[1;36m0\u001b[0m\u001b[1;33m]\u001b[0m\u001b[1;33m)\u001b[0m\u001b[1;33m\u001b[0m\u001b[1;33m\u001b[0m\u001b[0m\n\u001b[0m",
      "\u001b[1;31mTypeError\u001b[0m: 'set' object is not subscriptable"
     ]
    }
   ],
   "source": [
    "x = {100,20,300}\n",
    "print(x[0])"
   ]
  },
  {
   "cell_type": "code",
   "execution_count": 8,
   "id": "287680ac",
   "metadata": {},
   "outputs": [
    {
     "name": "stdout",
     "output_type": "stream",
     "text": [
      "{100, 20, 300}\n"
     ]
    }
   ],
   "source": [
    "x = {100,20,300,100}\n",
    "print(x)"
   ]
  },
  {
   "cell_type": "code",
   "execution_count": 9,
   "id": "fcb38f8a",
   "metadata": {},
   "outputs": [
    {
     "ename": "TypeError",
     "evalue": "'set' object does not support item assignment",
     "output_type": "error",
     "traceback": [
      "\u001b[1;31m---------------------------------------------------------------------------\u001b[0m",
      "\u001b[1;31mTypeError\u001b[0m                                 Traceback (most recent call last)",
      "\u001b[1;32m<ipython-input-9-bc7c6f4101f3>\u001b[0m in \u001b[0;36m<module>\u001b[1;34m\u001b[0m\n\u001b[0;32m      1\u001b[0m \u001b[0mx\u001b[0m \u001b[1;33m=\u001b[0m \u001b[1;33m{\u001b[0m\u001b[1;36m100\u001b[0m\u001b[1;33m,\u001b[0m\u001b[1;36m20\u001b[0m\u001b[1;33m,\u001b[0m\u001b[1;36m300\u001b[0m\u001b[1;33m,\u001b[0m\u001b[1;36m100\u001b[0m\u001b[1;33m}\u001b[0m\u001b[1;33m\u001b[0m\u001b[1;33m\u001b[0m\u001b[0m\n\u001b[1;32m----> 2\u001b[1;33m \u001b[0mx\u001b[0m\u001b[1;33m[\u001b[0m\u001b[1;36m4\u001b[0m\u001b[1;33m]\u001b[0m \u001b[1;33m=\u001b[0m \u001b[1;36m20\u001b[0m\u001b[1;33m\u001b[0m\u001b[1;33m\u001b[0m\u001b[0m\n\u001b[0m",
      "\u001b[1;31mTypeError\u001b[0m: 'set' object does not support item assignment"
     ]
    }
   ],
   "source": [
    "x = {100,20,300,100}\n",
    "x[4] = 20"
   ]
  },
  {
   "cell_type": "code",
   "execution_count": 12,
   "id": "5697b818",
   "metadata": {},
   "outputs": [
    {
     "ename": "TypeError",
     "evalue": "unhashable type: 'set'",
     "output_type": "error",
     "traceback": [
      "\u001b[1;31m---------------------------------------------------------------------------\u001b[0m",
      "\u001b[1;31mTypeError\u001b[0m                                 Traceback (most recent call last)",
      "\u001b[1;32m<ipython-input-12-15e3d2a7646b>\u001b[0m in \u001b[0;36m<module>\u001b[1;34m\u001b[0m\n\u001b[1;32m----> 1\u001b[1;33m \u001b[0mx\u001b[0m \u001b[1;33m=\u001b[0m \u001b[1;33m{\u001b[0m\u001b[1;36m100\u001b[0m\u001b[1;33m,\u001b[0m\u001b[1;36m20\u001b[0m\u001b[1;33m,\u001b[0m\u001b[1;36m300\u001b[0m\u001b[1;33m,\u001b[0m\u001b[1;36m100\u001b[0m\u001b[1;33m,\u001b[0m\u001b[1;33m{\u001b[0m\u001b[1;36m20\u001b[0m\u001b[1;33m}\u001b[0m\u001b[1;33m}\u001b[0m\u001b[1;33m\u001b[0m\u001b[1;33m\u001b[0m\u001b[0m\n\u001b[0m",
      "\u001b[1;31mTypeError\u001b[0m: unhashable type: 'set'"
     ]
    }
   ],
   "source": [
    "x = {100,20,300,100}"
   ]
  },
  {
   "cell_type": "code",
   "execution_count": 13,
   "id": "da45dd91",
   "metadata": {},
   "outputs": [
    {
     "data": {
      "text/plain": [
       "{20, 100, 200, 300}"
      ]
     },
     "execution_count": 13,
     "metadata": {},
     "output_type": "execute_result"
    }
   ],
   "source": [
    "x = {100,20,300,100}\n",
    "x.add(200)\n",
    "x"
   ]
  },
  {
   "cell_type": "code",
   "execution_count": 16,
   "id": "5b08dc22",
   "metadata": {},
   "outputs": [
    {
     "data": {
      "text/plain": [
       "{20, 100, 200, 300, 400}"
      ]
     },
     "execution_count": 16,
     "metadata": {},
     "output_type": "execute_result"
    }
   ],
   "source": [
    "x = {100,20,300,100}\n",
    "x.update([200,400])\n",
    "x"
   ]
  },
  {
   "cell_type": "code",
   "execution_count": 19,
   "id": "8eef98da",
   "metadata": {},
   "outputs": [],
   "source": [
    "x = {100,20,300}\n",
    "x.discard(5)"
   ]
  },
  {
   "cell_type": "code",
   "execution_count": 22,
   "id": "6a97bb37",
   "metadata": {},
   "outputs": [
    {
     "data": {
      "text/plain": [
       "{20, 300}"
      ]
     },
     "execution_count": 22,
     "metadata": {},
     "output_type": "execute_result"
    }
   ],
   "source": [
    "x = {100,20,300}\n",
    "x.remove(100)\n",
    "x"
   ]
  },
  {
   "cell_type": "code",
   "execution_count": 26,
   "id": "75c5eab8",
   "metadata": {},
   "outputs": [
    {
     "data": {
      "text/plain": [
       "{300}"
      ]
     },
     "execution_count": 26,
     "metadata": {},
     "output_type": "execute_result"
    }
   ],
   "source": [
    "x = {100,20,300}\n",
    "x.pop()\n",
    "x\n",
    "x.pop()\n",
    "x"
   ]
  },
  {
   "cell_type": "code",
   "execution_count": 27,
   "id": "e4a4e284",
   "metadata": {},
   "outputs": [
    {
     "data": {
      "text/plain": [
       "{1, 2, 3, 4, 5}"
      ]
     },
     "execution_count": 27,
     "metadata": {},
     "output_type": "execute_result"
    }
   ],
   "source": [
    "my_set = {1,2,3}\n",
    "your_set = {3,4,5}\n",
    "\n",
    "my_set | your_set\n",
    "\n",
    "#Union "
   ]
  },
  {
   "cell_type": "code",
   "execution_count": 29,
   "id": "0f579336",
   "metadata": {},
   "outputs": [
    {
     "data": {
      "text/plain": [
       "{3, 6}"
      ]
     },
     "execution_count": 29,
     "metadata": {},
     "output_type": "execute_result"
    }
   ],
   "source": [
    "my_set = {1,2,3,6}\n",
    "your_set = {3,4,5,6}\n",
    "\n",
    "my_set & your_set\n",
    "\n",
    "# Intersection"
   ]
  },
  {
   "cell_type": "code",
   "execution_count": 32,
   "id": "53e3466f",
   "metadata": {},
   "outputs": [
    {
     "data": {
      "text/plain": [
       "{5}"
      ]
     },
     "execution_count": 32,
     "metadata": {},
     "output_type": "execute_result"
    }
   ],
   "source": [
    "my_set = {3,4,5}\n",
    "your_set = {3,4}\n",
    "\n",
    "\n",
    "my_set - your_set\n",
    "# Difference "
   ]
  },
  {
   "cell_type": "code",
   "execution_count": 33,
   "id": "67e2b9ca",
   "metadata": {},
   "outputs": [
    {
     "data": {
      "text/plain": [
       "{1, 2, 4, 5}"
      ]
     },
     "execution_count": 33,
     "metadata": {},
     "output_type": "execute_result"
    }
   ],
   "source": [
    "my_set = {1,2,3}\n",
    "your_set = {3,4,5}\n",
    "\n",
    "my_set ^ your_set\n",
    "\n",
    "#Symmetric Difference"
   ]
  },
  {
   "cell_type": "code",
   "execution_count": null,
   "id": "71c4d92c",
   "metadata": {},
   "outputs": [],
   "source": []
  },
  {
   "cell_type": "code",
   "execution_count": null,
   "id": "3763fe3a",
   "metadata": {},
   "outputs": [],
   "source": []
  },
  {
   "cell_type": "markdown",
   "id": "faa34883",
   "metadata": {},
   "source": [
    "# Functions \n",
    "\n",
    "    Repeatable code that we can pass arguments into\n",
    "    \n",
    "    << def >> <<function_name>> ( <<arguments >>):\n",
    "        "
   ]
  },
  {
   "cell_type": "code",
   "execution_count": 36,
   "id": "a35d8fec",
   "metadata": {},
   "outputs": [
    {
     "name": "stdout",
     "output_type": "stream",
     "text": [
      "Hello\n"
     ]
    }
   ],
   "source": [
    "def function_name():\n",
    "    print(\"Hello\")\n",
    "\n",
    "function_name()"
   ]
  },
  {
   "cell_type": "code",
   "execution_count": 49,
   "id": "048e1482",
   "metadata": {},
   "outputs": [
    {
     "name": "stdout",
     "output_type": "stream",
     "text": [
      "0 Hello\n",
      "1 Hello\n",
      "2 Hello\n",
      "3 Hello\n",
      "4 Hello\n"
     ]
    }
   ],
   "source": [
    "def function_name(n):\n",
    " \n",
    "    for i in range(0,n):\n",
    "        print(str(i) + \" Hello\")\n",
    "    \n",
    "function_name(5)\n",
    "\n"
   ]
  },
  {
   "cell_type": "code",
   "execution_count": 84,
   "id": "dafe025a",
   "metadata": {},
   "outputs": [],
   "source": [
    "def greeting(name):\n",
    "    return 'Hello ' + name"
   ]
  },
  {
   "cell_type": "markdown",
   "id": "0967c001",
   "metadata": {},
   "source": [
    "Why? \n",
    "\n",
    "We use functions when we want to have code that can be reused\n"
   ]
  },
  {
   "cell_type": "markdown",
   "id": "e22ca580",
   "metadata": {},
   "source": [
    "# Object Oriented Programming\n",
    "\n",
    "    In OOP languages everything is an object\n",
    "    \n",
    "    \n",
    "    Rules for Objects\n",
    "    \n",
    "        What data they contain (attributes)\n",
    "        \n",
    "        What can be done with their data (methods)\n",
    "        \n",
    "        How to create an object(initializer)\n",
    "    \n"
   ]
  },
  {
   "cell_type": "code",
   "execution_count": 189,
   "id": "cb7e1915",
   "metadata": {},
   "outputs": [],
   "source": [
    "class Person(): \n",
    "    def __init__(self,name,age):\n",
    "        self.name = name\n",
    "        self.age = age\n",
    "    \n",
    "    def print_name(self):\n",
    "        print(self.name)\n",
    "    \n",
    "\n",
    "class Adult(Person):    \n",
    "    def __init__(self,name,age,career):\n",
    "        super().__init__(name,age)\n",
    "        self.career = career\n",
    "    \n",
    "    def print_career(self):\n",
    "        print(self.career)\n",
    "    \n",
    "\n",
    "class Amazon_Employee(Adult):\n",
    "    def __init__(self,name,age,career=\"Amazon Programmer\"):\n",
    "        super().__init__(name,age,career)\n",
    "        \n",
    "    def print_career(self):\n",
    "        print(\"I love working at Amazon!\")\n",
    "        \n",
    "\n",
    "class Children(Person):    \n",
    "    def __init__(self,name,age,school):\n",
    "        super().__init__(name,age)\n",
    "        self.school = school"
   ]
  },
  {
   "cell_type": "code",
   "execution_count": 190,
   "id": "c23f2b7c",
   "metadata": {},
   "outputs": [],
   "source": [
    "#inheritance"
   ]
  },
  {
   "cell_type": "code",
   "execution_count": 192,
   "id": "a985412a",
   "metadata": {},
   "outputs": [
    {
     "name": "stdout",
     "output_type": "stream",
     "text": [
      "Antone\n",
      "I love working at Amazon!\n"
     ]
    }
   ],
   "source": [
    "z = Amazon_Employee(\"Antone\",18)\n",
    "z.print_name()\n",
    "z.print_career()"
   ]
  },
  {
   "cell_type": "code",
   "execution_count": 233,
   "id": "ea1f0c31",
   "metadata": {},
   "outputs": [],
   "source": [
    "class Vector():\n",
    "    \n",
    "    def __init__(self,x,y):\n",
    "        self.x = x\n",
    "        self.y = y\n",
    "\n",
    "    \n",
    "    def __add__(self,other):\n",
    "        return Vector(self.x + other.x,self.y+other.y)\n",
    "    \n",
    "    \n",
    "    def __repr__(self):\n",
    "        return f\"Vector{self.x,self.y}\"\n",
    "\n",
    "    "
   ]
  },
  {
   "cell_type": "code",
   "execution_count": 234,
   "id": "bf204a3e",
   "metadata": {},
   "outputs": [
    {
     "data": {
      "text/plain": [
       "Vector(35, 55)"
      ]
     },
     "execution_count": 234,
     "metadata": {},
     "output_type": "execute_result"
    }
   ],
   "source": [
    "x = Vector(10,20)\n",
    "y = Vector(20,30)\n",
    "z = x + y\n",
    "\n",
    "a = Vector(5,5)\n",
    "\n",
    "z + a\n"
   ]
  },
  {
   "cell_type": "code",
   "execution_count": 209,
   "id": "6d20090e",
   "metadata": {},
   "outputs": [
    {
     "name": "stdout",
     "output_type": "stream",
     "text": [
      "Wowza\n"
     ]
    }
   ],
   "source": []
  },
  {
   "cell_type": "code",
   "execution_count": null,
   "id": "70ff5578",
   "metadata": {},
   "outputs": [],
   "source": []
  }
 ],
 "metadata": {
  "kernelspec": {
   "display_name": "Python 3",
   "language": "python",
   "name": "python3"
  },
  "language_info": {
   "codemirror_mode": {
    "name": "ipython",
    "version": 3
   },
   "file_extension": ".py",
   "mimetype": "text/x-python",
   "name": "python",
   "nbconvert_exporter": "python",
   "pygments_lexer": "ipython3",
   "version": "3.9.1"
  }
 },
 "nbformat": 4,
 "nbformat_minor": 5
}

{
 "cells": [
  {
   "cell_type": "markdown",
   "id": "208b4375",
   "metadata": {},
   "source": [
    "# What are data structures?\n"
   ]
  },
  {
   "cell_type": "markdown",
   "id": "a7c6a152",
   "metadata": {},
   "source": [
    "    Data structures are ways or organizing and stucturing data methodically. It's important to note these key words. \n",
    "    Organiziation and methodically.\n",
    "    \n",
    "    What we have to do is manage the organization of data, and then add and build out methods that help that organization of data."
   ]
  },
  {
   "cell_type": "markdown",
   "id": "db708455",
   "metadata": {},
   "source": [
    "# What are the key Data Structures?\n",
    "\n",
    "### Lists, Dictionaries, Linked Lists, Queues, Stacks, Trees, Heaps, Graphs, Sets, Tuples"
   ]
  },
  {
   "cell_type": "markdown",
   "id": "f75aec7c",
   "metadata": {},
   "source": [
    "We could not possibly cover all of these in the span of 1 day, so we are going to pull out the most important ones.\n",
    "\n",
    "The list, the dictionary, the set and the Tuple.\n",
    "\n",
    "\n",
    "Let's define them, and then let's work through.\n",
    "\n"
   ]
  },
  {
   "cell_type": "markdown",
   "id": "017446a2",
   "metadata": {},
   "source": [
    "# The List"
   ]
  },
  {
   "cell_type": "code",
   "execution_count": null,
   "id": "73bb60b2",
   "metadata": {},
   "outputs": [],
   "source": [
    "#The list is a data stucture that is initialized like this.\n",
    "\n",
    "x = list()\n",
    "print(x)"
   ]
  },
  {
   "cell_type": "code",
   "execution_count": null,
   "id": "7d9bc2dd",
   "metadata": {},
   "outputs": [],
   "source": [
    "#Alternatively it can be initialized like this.\n",
    "x = []\n",
    "print(x)"
   ]
  },
  {
   "cell_type": "markdown",
   "id": "326e907e",
   "metadata": {},
   "source": [
    "The List is made up of two parts. It has individual elements, and it has the index."
   ]
  },
  {
   "cell_type": "code",
   "execution_count": null,
   "id": "3129b22c",
   "metadata": {},
   "outputs": [],
   "source": [
    "x = [\"Waffle\", 100, True, [10], None]\n",
    "\n",
    "\n",
    "#As we can see, python allows ANY object to be a valid member of a list.\n",
    "#To access the index of an object, we use the name of the element.\n",
    "\n",
    "x.index(None)\n",
    "#We use the .index() method ON our list, and then we pass the argument "
   ]
  },
  {
   "cell_type": "code",
   "execution_count": null,
   "id": "425a2db1",
   "metadata": {},
   "outputs": [],
   "source": [
    "#Now here's a downside to the index method.\n",
    "x = [\"Waffle\", 100, True, [10], None,None]\n",
    "x.index(None)"
   ]
  },
  {
   "cell_type": "markdown",
   "id": "6b05dd27",
   "metadata": {},
   "source": [
    "As you can see, it only returns the index of the first match that it finds. If we want to find all the indexes, we have to program it."
   ]
  },
  {
   "cell_type": "markdown",
   "id": "12020d60",
   "metadata": {},
   "source": [
    "The way we can do INDEX based operations easily in python is with the enumerate function. When we pass an iterable to the enumerate function, it allows us to unpack two objects, the index, and the object. Let's take a look at what it does.\n"
   ]
  },
  {
   "cell_type": "code",
   "execution_count": null,
   "id": "4c912d75",
   "metadata": {},
   "outputs": [],
   "source": [
    "x = [\"Waffle\", 100, True, [10], None,None]\n",
    "x = enumerate(x)\n",
    "print(x)"
   ]
  },
  {
   "cell_type": "markdown",
   "id": "6c2d07c6",
   "metadata": {},
   "source": [
    "We can see that it is an enumerate object now, and not a list. This is not an error, but rather a consequence of calling enumerate. Python doesn't know how to print an enumerate, so it might be hard to see what an enumerate truly is. One way we can get a better glimpse is by typecasting enumerate back into a list.\n"
   ]
  },
  {
   "cell_type": "code",
   "execution_count": null,
   "id": "ed03709d",
   "metadata": {},
   "outputs": [],
   "source": [
    "x = [\"Waffle\", 100, True, [10], None,None]\n",
    "x = enumerate(x)\n",
    "print(list(x))"
   ]
  },
  {
   "cell_type": "markdown",
   "id": "a07f7234",
   "metadata": {},
   "source": [
    "Now we can see what python does to the object when it is enumerated. It creates tuple pairs, where the index is the first value in the tuple pair, and the object is the second item in the tuple pair. This is super useful to us, because now it allows us to do index based operations more easily."
   ]
  },
  {
   "cell_type": "code",
   "execution_count": null,
   "id": "7daa48da",
   "metadata": {},
   "outputs": [],
   "source": [
    "# Enumerate _in_ an iterable data structure, and so we can use the for loop on it.\n",
    "# We have to unpack BOTH values though, as each tuple pair has a first element, and a second one.\n",
    "\n",
    "x = [\"Waffle\", 100, True, [10], None,None]\n",
    "x = enumerate(x)\n",
    "\n",
    "for index,element in x:\n",
    "    print(element)\n"
   ]
  },
  {
   "cell_type": "code",
   "execution_count": null,
   "id": "1c0758a6",
   "metadata": {},
   "outputs": [],
   "source": [
    "x = [\"Waffle\", 100, True, [10], None,None]\n",
    "x = enumerate(x)\n",
    "\n",
    "for index,element in x:\n",
    "    print(index)\n"
   ]
  },
  {
   "cell_type": "code",
   "execution_count": null,
   "id": "3d8ce62f",
   "metadata": {},
   "outputs": [],
   "source": [
    "x = [\"Waffle\", 100, True, [10], None,None]\n",
    "x = enumerate(x)\n",
    "for index,element in x:\n",
    "    print(f'the index of the element is {index}, and the value at it is {element}')"
   ]
  },
  {
   "cell_type": "code",
   "execution_count": null,
   "id": "64d53daf",
   "metadata": {},
   "outputs": [],
   "source": [
    "#This let's us clealy iterate through iterables while accessing indexes.\n",
    "#Now, let's get every index that matches the target value\n",
    "\n",
    "target_match = None\n",
    "index_of_matches = []\n",
    "x = [\"Waffle\", 100, True, [10], None,None]\n",
    "\n",
    "\n",
    "for index,element in enumerate(x):\n",
    "    if element == target_match:\n",
    "        index_of_matches.append(index)\n",
    "\n",
    "print(index_of_matches)"
   ]
  },
  {
   "cell_type": "code",
   "execution_count": null,
   "id": "626a2d22",
   "metadata": {},
   "outputs": [],
   "source": [
    "#This saves us some of the time of writing our for loop to implement an index counter.\n"
   ]
  },
  {
   "cell_type": "code",
   "execution_count": null,
   "id": "af158a1f",
   "metadata": {},
   "outputs": [],
   "source": [
    "#Let's go over the specific rules of Lists though.\n",
    "#The elements in a list are said to be ordered. That rings true, because they have an index. \n",
    "#They are _mutable_ (changeable). We can add and subtract to a list, and shift the elements in a list.\n"
   ]
  },
  {
   "cell_type": "code",
   "execution_count": null,
   "id": "14755beb",
   "metadata": {},
   "outputs": [],
   "source": [
    "#Here are the common methods/function you'll need."
   ]
  },
  {
   "cell_type": "code",
   "execution_count": null,
   "id": "b97a530e",
   "metadata": {},
   "outputs": [],
   "source": [
    "x = [\"wow\",\"Hello\",True]\n",
    "\n",
    "\n",
    "x[0],x[1],x[2]\n",
    "\n",
    "#This is how to access the value at the INDEX."
   ]
  },
  {
   "cell_type": "code",
   "execution_count": null,
   "id": "1c26939d",
   "metadata": {},
   "outputs": [],
   "source": [
    "x = [\"wow\",\"Hello\",True]\n",
    "\n",
    "\n",
    "x[-1],x[-2],x[-3]\n",
    "\n",
    "#You can also use negative indexes to start from the back."
   ]
  },
  {
   "cell_type": "code",
   "execution_count": null,
   "id": "0e4feac1",
   "metadata": {},
   "outputs": [],
   "source": [
    "###List comprehension\n",
    "### This is a powerful feature unique to python that lets us create lists on the fly\n",
    "\n",
    "\n",
    "test = [x for x in range(10)]\n",
    "test"
   ]
  },
  {
   "cell_type": "code",
   "execution_count": null,
   "id": "72168562",
   "metadata": {},
   "outputs": [],
   "source": [
    "test = [x for x in range(10) if x%2==0]\n",
    "test"
   ]
  },
  {
   "cell_type": "code",
   "execution_count": null,
   "id": "9702c453",
   "metadata": {},
   "outputs": [],
   "source": [
    "fruits = [\"kiwi\",\"waffles\",\"tofu\",\"cheese\"]\n",
    "new_list = [item for item in fruits if item!=\"kiwi\"]\n",
    "new_list\n"
   ]
  },
  {
   "cell_type": "code",
   "execution_count": null,
   "id": "1cb09dfa",
   "metadata": {},
   "outputs": [],
   "source": [
    "##newlist = [expression for item in iterable if condition == True]\n",
    "\n",
    "\n",
    "fruits = [\"kiwi\",\"waffles\",\"tofu\",\"cheese\"]\n",
    "new_list = [x.upper() for x in fruits]\n",
    "new_list"
   ]
  },
  {
   "cell_type": "code",
   "execution_count": null,
   "id": "75bb7f53",
   "metadata": {
    "scrolled": true
   },
   "outputs": [],
   "source": [
    "fruits = [\"kiwi\",\"waffles\",\"tofu\",\"cheese\"]\n",
    "new_list = [item for item in fruits if not(item==\"kiwi\") and not(item==\"tofu\")]\n",
    "new_list\n"
   ]
  },
  {
   "cell_type": "code",
   "execution_count": null,
   "id": "12777daa",
   "metadata": {},
   "outputs": [],
   "source": [
    "fruits = [\"kiwi\",\"waffles\",\"tofu\",\"cheese\"]\n",
    "\n",
    "del fruits[0]\n",
    "\n",
    "fruits\n",
    "\n",
    "del fruits[0:2]\n",
    "\n",
    "fruits"
   ]
  },
  {
   "cell_type": "markdown",
   "id": "488e8432",
   "metadata": {},
   "source": [
    "# Tuples\n",
    "\n",
    "    While they might seem similar to the List data structure, there are two key differences. One is that Tuples themselves are immuatable(though their elements might not be) and second is that tuples tend to be UNPACKED rather than iterated over, or accessed with indexes. Best practice is that Lists contain types that are homogenous, while Tuples contain types that are heterogeneous"
   ]
  },
  {
   "cell_type": "code",
   "execution_count": null,
   "id": "b8b4f22e",
   "metadata": {},
   "outputs": [],
   "source": [
    "wowza = 12345,1234,\"Hello\"\n",
    "print(wowza)\n",
    "print(wowza[0])\n"
   ]
  },
  {
   "cell_type": "code",
   "execution_count": null,
   "id": "20e9ef4c",
   "metadata": {
    "scrolled": true
   },
   "outputs": [],
   "source": [
    "wowza = 12345,1234,\"Hello\"\n",
    "wowza[0] = 100"
   ]
  },
  {
   "cell_type": "code",
   "execution_count": null,
   "id": "0491e1c8",
   "metadata": {},
   "outputs": [],
   "source": [
    "wowza = 12345,1234,\"Hello\"\n",
    "z,y,x = wowza\n",
    "print(z)\n",
    "print(y)\n",
    "print(x)\n",
    "\n",
    "\n",
    "for x in wowza:\n",
    "    print(x)"
   ]
  },
  {
   "cell_type": "code",
   "execution_count": null,
   "id": "45e88d4e",
   "metadata": {
    "scrolled": true
   },
   "outputs": [],
   "source": [
    "for x in wowza:\n",
    "    print(x)"
   ]
  },
  {
   "cell_type": "markdown",
   "id": "6e2b346f",
   "metadata": {},
   "source": [
    "# Dictionaries\n",
    "    \n",
    "    Dictionaries are a powerful data structure built out of key:value pairs. It's always best to think about these two objects being bound to each other. In order for one to exist, the other must as well. Keys must be unique, while you might not get an error in reassignment, you will see that it wil overwrite what the previous value of that key value pair was."
   ]
  },
  {
   "cell_type": "code",
   "execution_count": null,
   "id": "f6cf4269",
   "metadata": {},
   "outputs": [],
   "source": [
    "fun_times = {\"wow\":100,'teal':200,\"nice\":300}\n",
    "print(fun_times[\"wow\"])\n",
    "print(fun_times)\n",
    "\n",
    "print(fun_times.keys())\n",
    "print(fun_times.values())\n",
    "\n",
    "del fun_times[\"wow\"]\n",
    "print(fun_times)\n",
    "\n",
    "print(list(fun_times))\n",
    "\n",
    "print(\"teal\" in fun_times)\n",
    "print(\"wow\" in fun_times)\n",
    "\n",
    "\n",
    "fun_times[\"Food\"] = 400\n",
    "\n",
    "print(fun_times)"
   ]
  },
  {
   "cell_type": "code",
   "execution_count": null,
   "id": "18abd426",
   "metadata": {},
   "outputs": [],
   "source": [
    "#Looping through \n",
    "\n",
    "\n",
    "test = {1:100,2:200,3:300}\n",
    "\n",
    "for key in test:\n",
    "    if test[key] == 100:\n",
    "        print(\"Wow\")\n",
    "\n",
    "for value in test.items():\n",
    "    if value == 100:\n",
    "        print(\"Wow\")\n",
    "        \n",
    "for value in test.items():\n",
    "    if value == 100:\n",
    "        print(\"Wow\")"
   ]
  },
  {
   "cell_type": "code",
   "execution_count": null,
   "id": "e8556f12",
   "metadata": {},
   "outputs": [],
   "source": [
    "for i in reversed(range(1, 10, 2)):\n",
    "    print(i)"
   ]
  },
  {
   "cell_type": "code",
   "execution_count": null,
   "id": "4464c089",
   "metadata": {},
   "outputs": [],
   "source": [
    "questions = ['name', 'quest', 'favorite color']\n",
    "answers = ['lancelot', 'the holy grail', 'blue']\n",
    "for q, a in zip(questions, answers):\n",
    "    print('What is your {0}?  It is {1}.'.format(q, a))"
   ]
  },
  {
   "cell_type": "code",
   "execution_count": null,
   "id": "dbd7f9d1",
   "metadata": {},
   "outputs": [],
   "source": [
    "Go Over Zip\n"
   ]
  },
  {
   "cell_type": "markdown",
   "id": "86288723",
   "metadata": {},
   "source": [
    "# Sets\n",
    "\n",
    "    This is the last useful data structure. It is a datastructure that holds only unique elements in an unsorted manner."
   ]
  },
  {
   "cell_type": "code",
   "execution_count": null,
   "id": "bc29360e",
   "metadata": {},
   "outputs": [],
   "source": [
    "basket = {'apple', 'orange', 'apple', 'pear', 'orange', 'banana'}\n",
    "basket"
   ]
  },
  {
   "cell_type": "code",
   "execution_count": null,
   "id": "d220776d",
   "metadata": {},
   "outputs": [],
   "source": [
    "a = set('abracadabra')\n",
    "b = set('alacazam')\n",
    "\n",
    "\n",
    "\n",
    "\n",
    "\n",
    "a ^ b                              # letters in a or b but not both\n"
   ]
  },
  {
   "cell_type": "code",
   "execution_count": null,
   "id": "306407fe",
   "metadata": {},
   "outputs": [],
   "source": [
    "a = set('abracadabra')\n",
    "b = set('alacazam')\n",
    "\n",
    "a # unique letters in a"
   ]
  },
  {
   "cell_type": "code",
   "execution_count": null,
   "id": "117e0b6f",
   "metadata": {},
   "outputs": [],
   "source": [
    "a - b                              # letters in a but not in b"
   ]
  },
  {
   "cell_type": "code",
   "execution_count": null,
   "id": "a2dc53ce",
   "metadata": {},
   "outputs": [],
   "source": [
    "a | b                              # letters in a or b or both"
   ]
  },
  {
   "cell_type": "code",
   "execution_count": null,
   "id": "81fc3650",
   "metadata": {},
   "outputs": [],
   "source": [
    "a & b                              # letters in both a and b"
   ]
  },
  {
   "cell_type": "code",
   "execution_count": null,
   "id": "29454343",
   "metadata": {},
   "outputs": [],
   "source": [
    "a ^ b                              # letters in a or b but not both"
   ]
  },
  {
   "cell_type": "markdown",
   "id": "d0d4601b",
   "metadata": {},
   "source": [
    "# Functions\n",
    "\n",
    "    These are generecized code blocks. They take in objects, and then do something to those objects. Once it is done doing something to those objects, it returns something.\n",
    "    \n",
    "    "
   ]
  },
  {
   "cell_type": "code",
   "execution_count": null,
   "id": "30e52cfd",
   "metadata": {},
   "outputs": [],
   "source": [
    "def printHello():\n",
    "    i = 0\n",
    "    while i < 10:\n",
    "        print(\"Hello\")\n",
    "        i+=1"
   ]
  },
  {
   "cell_type": "code",
   "execution_count": null,
   "id": "2675a6ed",
   "metadata": {},
   "outputs": [],
   "source": [
    "printHello()"
   ]
  },
  {
   "cell_type": "markdown",
   "id": "93d9876c",
   "metadata": {},
   "source": [
    "### Let's look over the structure of a function\n",
    "    def function_name(arguments):\n",
    "        "
   ]
  },
  {
   "cell_type": "markdown",
   "id": "3057742b",
   "metadata": {},
   "source": [
    "The function name can be anything that we want it to be. We should stay away from using already existing method and function names. Our arguments are special. No arguments can be passed, arguments that have any name can be passed, and any amount of them can be passed.\n",
    "\n",
    "Let's look at the special cases.\n"
   ]
  },
  {
   "cell_type": "code",
   "execution_count": null,
   "id": "19e77d82",
   "metadata": {},
   "outputs": [],
   "source": [
    "def sum_up(*args):\n",
    "    sum = 0\n",
    "    for x in args:\n",
    "        sum+=x\n",
    "    return sum\n",
    "\n",
    "sum_up(100,200,300)\n",
    "sum_up()\n",
    "sum_up(100,200)\n",
    " \n",
    "    \n",
    "    \n",
    "# The asterisk in front of an argument name signifies that it should expect any amount of elements\n",
    "# These elements should be stored into the list args.\n",
    "# This is the args arguments. Args can be anyting, it's the asterisk that makes it special."
   ]
  },
  {
   "cell_type": "code",
   "execution_count": null,
   "id": "46fb896c",
   "metadata": {},
   "outputs": [],
   "source": [
    "def sum_up(*woosh):\n",
    "    sum = 0\n",
    "    for x in woosh:\n",
    "        sum+=x\n",
    "    return sum\n",
    "\n",
    "sum_up(100,200,300)\n",
    "sum_up()\n",
    "sum_up(100,200)"
   ]
  },
  {
   "cell_type": "code",
   "execution_count": null,
   "id": "6d8a7a82",
   "metadata": {},
   "outputs": [],
   "source": [
    "def print_keys_and_dicts(**kwargs):\n",
    "    for key in kwargs:\n",
    "        print(f'Key is {key} : Value is {kwargs[key]}')\n",
    "        \n",
    "print_keys_and_dicts(arg3=3, arg2=\"two\", arg1=5)\n",
    "\n",
    "\n",
    "#The ** let's us use keyworded arguments. You pass it key worded arguments and it stores those into\n",
    "# a dictionary. This dictionary has the keyword pass as the key, and the value passed as the value\n",
    "# in the key value pairs."
   ]
  },
  {
   "cell_type": "code",
   "execution_count": null,
   "id": "5d81ded6",
   "metadata": {},
   "outputs": [],
   "source": [
    "#The last special case is the default cased\n",
    "\n",
    "def print_hello(n=10):\n",
    "    i = 0\n",
    "    while i < n:\n",
    "        print(\"Hello\")\n",
    "        i+=1\n",
    "\n",
    "print_hello()\n"
   ]
  },
  {
   "cell_type": "code",
   "execution_count": null,
   "id": "d64608aa",
   "metadata": {},
   "outputs": [],
   "source": [
    "print_hello(4)"
   ]
  },
  {
   "cell_type": "code",
   "execution_count": null,
   "id": "2a84d323",
   "metadata": {},
   "outputs": [],
   "source": [
    "print_hello(1)"
   ]
  },
  {
   "cell_type": "code",
   "execution_count": null,
   "id": "6c332c45",
   "metadata": {},
   "outputs": [],
   "source": [
    "# This allows us to create a function that will have a default value to run with if none is passed.\n"
   ]
  },
  {
   "cell_type": "markdown",
   "id": "93cdce98",
   "metadata": {},
   "source": [
    "We should be using default values in most scenarios, where we do not the program to fail, or do nothing when we are passed nothing. \n",
    "\n",
    "\n",
    "\n",
    "We should be using * when we do not care about what we're being passed, we are generally going to do the same thing to all of them. \n",
    "\n",
    "\n",
    "The ** is the most difficult to use, and in honesty should rarely if ever be used. There is one more common use case that is powerful, and we'll go over it when we get to OOP\n"
   ]
  },
  {
   "cell_type": "markdown",
   "id": "7532a584",
   "metadata": {},
   "source": [
    "# Practice time\n",
    "\n"
   ]
  },
  {
   "cell_type": "code",
   "execution_count": null,
   "id": "038d54ac",
   "metadata": {},
   "outputs": [],
   "source": []
  }
 ],
 "metadata": {
  "kernelspec": {
   "display_name": "Python 3",
   "language": "python",
   "name": "python3"
  },
  "language_info": {
   "codemirror_mode": {
    "name": "ipython",
    "version": 3
   },
   "file_extension": ".py",
   "mimetype": "text/x-python",
   "name": "python",
   "nbconvert_exporter": "python",
   "pygments_lexer": "ipython3",
   "version": "3.9.1"
  }
 },
 "nbformat": 4,
 "nbformat_minor": 5
}

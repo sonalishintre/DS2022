{
 "cells": [
  {
   "cell_type": "markdown",
   "id": "3b6c1e4d",
   "metadata": {},
   "source": [
    "# Exercise 1:\n",
    "\n",
    "    What are the differences between a List and a Tuple?\n",
    "    \n"
   ]
  },
  {
   "cell_type": "code",
   "execution_count": null,
   "id": "1bdd13c4",
   "metadata": {},
   "outputs": [],
   "source": [
    "\n"
   ]
  },
  {
   "cell_type": "markdown",
   "id": "09e5a970",
   "metadata": {},
   "source": [
    "# Exercise 2:\n",
    "\n",
    "    Please intialize a list, and then initialize a tuple."
   ]
  },
  {
   "cell_type": "code",
   "execution_count": null,
   "id": "210c366b",
   "metadata": {},
   "outputs": [],
   "source": []
  },
  {
   "cell_type": "markdown",
   "id": "74990156",
   "metadata": {},
   "source": [
    "# Exercise 3:\n",
    "    \n",
    "    Print a list, that contains all the indexes of elements with the value 100."
   ]
  },
  {
   "cell_type": "code",
   "execution_count": null,
   "id": "5b19f060",
   "metadata": {},
   "outputs": [],
   "source": [
    "list_to_iterate = [3, 45, 21, 85, 9, 20, 23,\n",
    "                   9, 3, 96, 34, 69, 70, 90, 67, 60, \n",
    "                   34, 51, 52, 20, 29, 23, 54, 84, 55, \n",
    "                   82, 32, 8, 44, 30, 8, 94, 71, 62, 100, \n",
    "                   69, 36, 73, 81, 19, 38, 22, 84, 1, 26, 80\n",
    "                   , 73, 95, 53, 54, 25, 4, 43, 84, 72, 17, 53\n",
    "                   , 84, 41, 37, 18, 50, 37, 90, 64, 17, 58, 12, \n",
    "                   70, 67, 6, 76, 67, 20, 75, 16, 82, 26, 83, 10, \n",
    "                   99, 64, 21, 65, 7, 45, 23, 12, 11, 80, 37, 10, 87,\n",
    "                   66, 14, 8, 70, 21, 40]\n"
   ]
  },
  {
   "cell_type": "markdown",
   "id": "0beb8120",
   "metadata": {},
   "source": [
    "# Exercise 4\n",
    "\n",
    "    Using List Comprehension, create a list that contains all the values between 1 and 100 that are divisible by both 3 and 5."
   ]
  },
  {
   "cell_type": "code",
   "execution_count": null,
   "id": "1eb614c6",
   "metadata": {},
   "outputs": [],
   "source": []
  },
  {
   "cell_type": "markdown",
   "id": "1665fd16",
   "metadata": {},
   "source": [
    "# Exercise 5\n",
    "\n",
    "    Iterate through the dictionary, and return the count of all values that contain the string \n",
    "    \"RGB\""
   ]
  },
  {
   "cell_type": "code",
   "execution_count": null,
   "id": "e74d38bb",
   "metadata": {},
   "outputs": [],
   "source": [
    "dict_to_iterate = {\n",
    "    \"RGeeBee\":100,\n",
    "    \"Yellow\":200,\n",
    "    \"Red\":300,\n",
    "    \"Teal\":400,\n",
    "    \"rgb\":500,\n",
    "    600:\"RGB\",\n",
    "    300:\"Waffles\",\n",
    "    \"HiddenFigures\":\"Orange\",\n",
    "    \"Wowza\":\"RGB\"  \n",
    "}"
   ]
  },
  {
   "cell_type": "markdown",
   "id": "ef29621b",
   "metadata": {},
   "source": [
    "# Exercise 6\n",
    "    \n",
    "    Create a list using list comprehension that produces a 2D Array that looks like the following\n",
    "        [[1,2,3],[4,5,6],[7,8,9]]"
   ]
  },
  {
   "cell_type": "code",
   "execution_count": null,
   "id": "30a47779",
   "metadata": {},
   "outputs": [],
   "source": [
    "new = [ [i+(3*j) for i in range(1,4)] for j in range(0,3)] \n",
    "new"
   ]
  },
  {
   "cell_type": "markdown",
   "id": "abf64340",
   "metadata": {},
   "source": [
    "# Exercise 7\n",
    "\n",
    "    Using list comprehension, create a new list from the existing list that capitalizes every element."
   ]
  },
  {
   "cell_type": "code",
   "execution_count": null,
   "id": "2b5365c7",
   "metadata": {},
   "outputs": [],
   "source": [
    "old = [\"what\",\"how\",100,True,\"who\",\"where\",[100],'why']\n",
    "new = [i.capitalize() for i in old if type(i) == str]\n"
   ]
  },
  {
   "cell_type": "markdown",
   "id": "b334cbc8",
   "metadata": {},
   "source": [
    "# Exercise 8\n",
    "\n",
    "    Create a new dictionary from the exisiting dictionary that only contains the key value pairs, whoose sum is equal to 100"
   ]
  },
  {
   "cell_type": "code",
   "execution_count": null,
   "id": "ea6215c9",
   "metadata": {},
   "outputs": [],
   "source": [
    "old = {100:1,99:20,50:100,30:70,22:91,55:92,202:-102,89:11}\n",
    "new = {}"
   ]
  },
  {
   "cell_type": "markdown",
   "id": "86e6cd53",
   "metadata": {},
   "source": [
    "# Bonus Exercise 1\n",
    "\n",
    "    Given a list of strings strs, group the anagrams together. You can return the answer in any order.\n",
    "\n",
    "    An Anagram is a word or phrase formed by rearranging the letters of a different word or \n",
    "    phrase, typically using all the original letters exactly once.\n",
    "    \n",
    "    EX:\n",
    "    Input: strs = [\"eat\",\"tea\",\"tan\",\"ate\",\"nat\",\"bat\"]\n",
    "    Output: [[\"bat\"],[\"nat\",\"tan\"],[\"ate\",\"eat\",\"tea\"]]"
   ]
  },
  {
   "cell_type": "code",
   "execution_count": null,
   "id": "552a1b9e",
   "metadata": {},
   "outputs": [],
   "source": []
  },
  {
   "cell_type": "markdown",
   "id": "00e7cf37",
   "metadata": {},
   "source": [
    "# Bonus Exercise 2\n",
    "\n",
    "    Given an integer array nums, find the contiguous subarray (containing at least one number) which has the largest sum and return its sum.\n",
    "    \n",
    "    A subarray is a contiguous part of an array."
   ]
  },
  {
   "cell_type": "code",
   "execution_count": null,
   "id": "c92cb6ea",
   "metadata": {},
   "outputs": [],
   "source": []
  },
  {
   "cell_type": "markdown",
   "id": "78375924",
   "metadata": {},
   "source": [
    "# Bonus Exercise 3\n",
    "    \n",
    "    Given an integer array nums, return true if any value appears at least twice in the array, and return false if every element is distinct."
   ]
  },
  {
   "cell_type": "code",
   "execution_count": null,
   "id": "563da390",
   "metadata": {},
   "outputs": [],
   "source": []
  }
 ],
 "metadata": {
  "kernelspec": {
   "display_name": "Python 3",
   "language": "python",
   "name": "python3"
  },
  "language_info": {
   "codemirror_mode": {
    "name": "ipython",
    "version": 3
   },
   "file_extension": ".py",
   "mimetype": "text/x-python",
   "name": "python",
   "nbconvert_exporter": "python",
   "pygments_lexer": "ipython3",
   "version": "3.9.1"
  }
 },
 "nbformat": 4,
 "nbformat_minor": 5
}

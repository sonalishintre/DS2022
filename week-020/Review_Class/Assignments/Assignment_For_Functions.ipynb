{
 "cells": [
  {
   "cell_type": "markdown",
   "id": "c6e44769",
   "metadata": {},
   "source": [
    "# Exercise 1:\n",
    "\n",
    "    Create a function that is going to take in one input, a string called word.\n",
    "    \n",
    "    The function should return the \"middle\" character of the string. \n",
    "    If the word's length is odd, it is going to return the middle character, if it is even, it should return the middle two.\n"
   ]
  },
  {
   "cell_type": "code",
   "execution_count": null,
   "id": "65208872",
   "metadata": {},
   "outputs": [],
   "source": [
    "def get_middle(word):\n",
    "    pass\n",
    "    \n",
    "      \n",
    "try:   \n",
    "    assert(get_middle(\"test\") == \"es\")\n",
    "    assert(get_middle(\"testing\") == \"t\")\n",
    "    assert(get_middle(\"middle\") == \"dd\")\n",
    "    assert(get_middle(\"A\") == \"A\")\n",
    "    assert(get_middle(\"of\") == \"of\")\n",
    "    print('Correct')\n",
    "    \n",
    "except AssertionError:\n",
    "    print(\"Solution is incorrect\")\n",
    "\n"
   ]
  },
  {
   "cell_type": "markdown",
   "id": "b940d63b",
   "metadata": {},
   "source": [
    "# Exercise 2\n",
    "    You will be given an array of numbers. You have to sort the odd numbers \n",
    "    in ascending order while leaving the even numbers at their original positions.\n",
    "    \n",
    "    Examples\n",
    "    \n",
    "    [7, 1]  =>  [1, 7]\n",
    "    [5, 8, 6, 3, 4]  =>  [3, 8, 6, 5, 4]\n",
    "    [9, 8, 7, 6, 5, 4, 3, 2, 1, 0]  =>  [1, 8, 3, 6, 5, 4, 7, 2, 9, 0]\n",
    "    "
   ]
  },
  {
   "cell_type": "code",
   "execution_count": null,
   "id": "73e552d5",
   "metadata": {},
   "outputs": [],
   "source": [
    "def sort_array(source_array):\n",
    "    pass\n",
    "    \n",
    "    \n",
    "try:\n",
    "    assert(sort_array([5, 3, 2, 8, 1, 4]) ==  [1, 3, 2, 8, 5, 4])\n",
    "    assert(sort_array([5, 3, 1, 8, 0])  == [1, 3, 5, 8, 0])\n",
    "    assert(sort_array([]) == [])\n",
    "    print(\"Correct\")\n",
    "except AssertionError:\n",
    "    print(\"Solution not Correct\")"
   ]
  },
  {
   "cell_type": "markdown",
   "id": "df9764b1",
   "metadata": {},
   "source": [
    "# Exercise 3:\n",
    "\n",
    "    Given an integer x, return true if x is palindrome integer.\n",
    "\n",
    "    An integer is a palindrome when it reads the same backward as forward.\n",
    "\n",
    "    For example, 121 is a palindrome while 123 is not."
   ]
  },
  {
   "cell_type": "code",
   "execution_count": null,
   "id": "a6497f85",
   "metadata": {},
   "outputs": [],
   "source": [
    "def palindrome_checker(ints):\n",
    "    pass\n",
    "    \n",
    "    \n",
    "    \n",
    "try:\n",
    "    assert(palindrome_checker(111) ==  True)\n",
    "    assert(palindrome_checker(1110) ==  False)\n",
    "    assert(palindrome_checker(100001) ==  True)\n",
    "    print(\"Correct\")\n",
    "except AssertionError:\n",
    "    print(\"Solution not Correct\")"
   ]
  },
  {
   "cell_type": "code",
   "execution_count": null,
   "id": "46ea600f",
   "metadata": {},
   "outputs": [],
   "source": []
  }
 ],
 "metadata": {
  "kernelspec": {
   "display_name": "Python 3",
   "language": "python",
   "name": "python3"
  },
  "language_info": {
   "codemirror_mode": {
    "name": "ipython",
    "version": 3
   },
   "file_extension": ".py",
   "mimetype": "text/x-python",
   "name": "python",
   "nbconvert_exporter": "python",
   "pygments_lexer": "ipython3",
   "version": "3.9.1"
  }
 },
 "nbformat": 4,
 "nbformat_minor": 5
}

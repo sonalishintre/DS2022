{
 "cells": [
  {
   "cell_type": "markdown",
   "metadata": {},
   "source": [
    "# Let's make our own custom module called Comparable.\n",
    "\n",
    "### Our module will have the following methods:\n",
    "\n",
    "```\n",
    "def compare_num(# Params: num1 -> float, num2 -> float):\n",
    "    # Compares two numbers and returns the larger number\n",
    "    # If equal, returns True\n",
    "\n",
    "def add_num(# Params: num1 -> float, num2 -> float):\n",
    "    # Adds two numbers and returns value\n",
    "\n",
    "def subtract_num(# Params: num1 -> float, num2 -> float):\n",
    "    # Subtracts two numbers and returns value\n",
    "\n",
    "def multiply_num(# Params: num1 -> float, num2 -> float):\n",
    "    # Multiplies two nums and returns value\n",
    "\n",
    "def divide_num(# Params: num1 -> float, num2 -> float):\n",
    "    # Divides two nums and returns value\n",
    "\n",
    "def modulo_num(# Params: num1 -> float, num2 -> float):\n",
    "    # Modulos two nums and returns value\n",
    "\n",
    "def get_average(# Params: *nums) -> float\n",
    "    # Returns average of numbers\n",
    "```"
   ]
  },
  {
   "cell_type": "code",
   "execution_count": 1,
   "metadata": {},
   "outputs": [],
   "source": [
    "# use the import keyword to import our custom module\n",
    "import comparable as comparable\n",
    "\n",
    "num1 = 5\n",
    "num2 = 62.7"
   ]
  },
  {
   "cell_type": "code",
   "execution_count": 2,
   "metadata": {},
   "outputs": [
    {
     "data": {
      "text/plain": [
       "67.7"
      ]
     },
     "execution_count": 2,
     "metadata": {},
     "output_type": "execute_result"
    }
   ],
   "source": [
    "# Let's use our add_num method to add our two numbers\n",
    "comparable.add_num(num1=num1, num2=num2)"
   ]
  },
  {
   "cell_type": "code",
   "execution_count": 3,
   "metadata": {},
   "outputs": [
    {
     "data": {
      "text/plain": [
       "-57.7"
      ]
     },
     "execution_count": 3,
     "metadata": {},
     "output_type": "execute_result"
    }
   ],
   "source": [
    "# Our subtract_num method\n",
    "comparable.subtract_num(num1=num1, num2=num2)"
   ]
  },
  {
   "cell_type": "code",
   "execution_count": 4,
   "metadata": {},
   "outputs": [
    {
     "data": {
      "text/plain": [
       "313.5"
      ]
     },
     "execution_count": 4,
     "metadata": {},
     "output_type": "execute_result"
    }
   ],
   "source": [
    "# Our multiply method\n",
    "comparable.multiply_num(num1=num1, num2=num2)"
   ]
  },
  {
   "cell_type": "code",
   "execution_count": 5,
   "metadata": {},
   "outputs": [
    {
     "data": {
      "text/plain": [
       "0.07974481658692184"
      ]
     },
     "execution_count": 5,
     "metadata": {},
     "output_type": "execute_result"
    }
   ],
   "source": [
    "# Our divide method\n",
    "comparable.divide_num(num1=num1, num2=num2)"
   ]
  },
  {
   "cell_type": "code",
   "execution_count": 6,
   "metadata": {},
   "outputs": [
    {
     "data": {
      "text/plain": [
       "5.0"
      ]
     },
     "execution_count": 6,
     "metadata": {},
     "output_type": "execute_result"
    }
   ],
   "source": [
    "# Our module method\n",
    "comparable.modulo_num(num1=num1, num2=num2)"
   ]
  },
  {
   "cell_type": "code",
   "execution_count": 7,
   "metadata": {},
   "outputs": [
    {
     "data": {
      "text/plain": [
       "4.5"
      ]
     },
     "execution_count": 7,
     "metadata": {},
     "output_type": "execute_result"
    }
   ],
   "source": [
    "# Our average method\n",
    "comparable.get_average(1, 2, 3, 4, 5, 6, 7, 8)"
   ]
  },
  {
   "cell_type": "markdown",
   "metadata": {},
   "source": [
    "## Now let's import some libraries already installed with Python\n",
    "\n",
    "#### Pandas, Names, Random, Numpy"
   ]
  },
  {
   "cell_type": "code",
   "execution_count": 8,
   "metadata": {},
   "outputs": [
    {
     "name": "stdout",
     "output_type": "stream",
     "text": [
      "Requirement already satisfied: names in c:\\users\\daiyan\\appdata\\local\\packages\\pythonsoftwarefoundation.python.3.9_qbz5n2kfra8p0\\localcache\\local-packages\\python39\\site-packages (0.3.0)\n",
      "Requirement already satisfied: pandas in c:\\users\\daiyan\\appdata\\local\\packages\\pythonsoftwarefoundation.python.3.9_qbz5n2kfra8p0\\localcache\\local-packages\\python39\\site-packages (1.3.4)\n",
      "Requirement already satisfied: pytz>=2017.3 in c:\\users\\daiyan\\appdata\\local\\packages\\pythonsoftwarefoundation.python.3.9_qbz5n2kfra8p0\\localcache\\local-packages\\python39\\site-packages (from pandas) (2021.3)\n",
      "Requirement already satisfied: numpy>=1.17.3 in c:\\users\\daiyan\\appdata\\local\\packages\\pythonsoftwarefoundation.python.3.9_qbz5n2kfra8p0\\localcache\\local-packages\\python39\\site-packages (from pandas) (1.21.4)\n",
      "Requirement already satisfied: python-dateutil>=2.7.3 in c:\\users\\daiyan\\appdata\\local\\packages\\pythonsoftwarefoundation.python.3.9_qbz5n2kfra8p0\\localcache\\local-packages\\python39\\site-packages (from pandas) (2.8.2)\n",
      "Requirement already satisfied: six>=1.5 in c:\\users\\daiyan\\appdata\\local\\packages\\pythonsoftwarefoundation.python.3.9_qbz5n2kfra8p0\\localcache\\local-packages\\python39\\site-packages (from python-dateutil>=2.7.3->pandas) (1.16.0)\n"
     ]
    },
    {
     "name": "stderr",
     "output_type": "stream",
     "text": [
      "ERROR: Could not find a version that satisfies the requirement random (from versions: none)\n",
      "ERROR: No matching distribution found for random\n"
     ]
    },
    {
     "name": "stdout",
     "output_type": "stream",
     "text": [
      "Requirement already satisfied: numpy in c:\\users\\daiyan\\appdata\\local\\packages\\pythonsoftwarefoundation.python.3.9_qbz5n2kfra8p0\\localcache\\local-packages\\python39\\site-packages (1.21.4)\n"
     ]
    }
   ],
   "source": [
    "# Let's install these modules into our system, it will come handy soon\n",
    "!pip install names\n",
    "!pip install pandas \n",
    "!pip install random \n",
    "!pip install numpy"
   ]
  },
  {
   "cell_type": "code",
   "execution_count": 9,
   "metadata": {},
   "outputs": [],
   "source": [
    "# use the import keyword to import our pandas. \n",
    "# We'll also use a names library to create some random psuedo names and random library to import random numbers\n",
    "# Let's also use numpy for easier manipulation of numbers and arrays\n",
    "import pandas as pd\n",
    "import names as names\n",
    "import random\n",
    "import numpy as np"
   ]
  },
  {
   "cell_type": "code",
   "execution_count": 10,
   "metadata": {},
   "outputs": [
    {
     "data": {
      "text/html": [
       "<div>\n",
       "<style scoped>\n",
       "    .dataframe tbody tr th:only-of-type {\n",
       "        vertical-align: middle;\n",
       "    }\n",
       "\n",
       "    .dataframe tbody tr th {\n",
       "        vertical-align: top;\n",
       "    }\n",
       "\n",
       "    .dataframe thead th {\n",
       "        text-align: right;\n",
       "    }\n",
       "</style>\n",
       "<table border=\"1\" class=\"dataframe\">\n",
       "  <thead>\n",
       "    <tr style=\"text-align: right;\">\n",
       "      <th></th>\n",
       "      <th>Student Names</th>\n",
       "      <th>First Semester</th>\n",
       "      <th>Second Semester</th>\n",
       "      <th>Third Semester</th>\n",
       "      <th>Fourth Semester</th>\n",
       "      <th>Faculty Name</th>\n",
       "    </tr>\n",
       "  </thead>\n",
       "  <tbody>\n",
       "    <tr>\n",
       "      <th>0</th>\n",
       "      <td>Bryan</td>\n",
       "      <td>62</td>\n",
       "      <td>98</td>\n",
       "      <td>70</td>\n",
       "      <td>98</td>\n",
       "      <td>Richard Jenkins</td>\n",
       "    </tr>\n",
       "    <tr>\n",
       "      <th>1</th>\n",
       "      <td>Donna</td>\n",
       "      <td>91</td>\n",
       "      <td>72</td>\n",
       "      <td>71</td>\n",
       "      <td>54</td>\n",
       "      <td>Nancy Smith</td>\n",
       "    </tr>\n",
       "    <tr>\n",
       "      <th>2</th>\n",
       "      <td>Jeremy</td>\n",
       "      <td>96</td>\n",
       "      <td>83</td>\n",
       "      <td>60</td>\n",
       "      <td>83</td>\n",
       "      <td>Nancy Smith</td>\n",
       "    </tr>\n",
       "    <tr>\n",
       "      <th>3</th>\n",
       "      <td>Richard</td>\n",
       "      <td>83</td>\n",
       "      <td>61</td>\n",
       "      <td>54</td>\n",
       "      <td>100</td>\n",
       "      <td>Nancy Smith</td>\n",
       "    </tr>\n",
       "    <tr>\n",
       "      <th>4</th>\n",
       "      <td>Amalia</td>\n",
       "      <td>68</td>\n",
       "      <td>64</td>\n",
       "      <td>77</td>\n",
       "      <td>55</td>\n",
       "      <td>Richard Jenkins</td>\n",
       "    </tr>\n",
       "    <tr>\n",
       "      <th>...</th>\n",
       "      <td>...</td>\n",
       "      <td>...</td>\n",
       "      <td>...</td>\n",
       "      <td>...</td>\n",
       "      <td>...</td>\n",
       "      <td>...</td>\n",
       "    </tr>\n",
       "    <tr>\n",
       "      <th>95</th>\n",
       "      <td>Catherine</td>\n",
       "      <td>80</td>\n",
       "      <td>85</td>\n",
       "      <td>65</td>\n",
       "      <td>78</td>\n",
       "      <td>Edward Bercegeay</td>\n",
       "    </tr>\n",
       "    <tr>\n",
       "      <th>96</th>\n",
       "      <td>John</td>\n",
       "      <td>71</td>\n",
       "      <td>47</td>\n",
       "      <td>100</td>\n",
       "      <td>86</td>\n",
       "      <td>Edward Bercegeay</td>\n",
       "    </tr>\n",
       "    <tr>\n",
       "      <th>97</th>\n",
       "      <td>Damon</td>\n",
       "      <td>73</td>\n",
       "      <td>98</td>\n",
       "      <td>95</td>\n",
       "      <td>56</td>\n",
       "      <td>Richard Jenkins</td>\n",
       "    </tr>\n",
       "    <tr>\n",
       "      <th>98</th>\n",
       "      <td>Luis</td>\n",
       "      <td>60</td>\n",
       "      <td>54</td>\n",
       "      <td>90</td>\n",
       "      <td>68</td>\n",
       "      <td>Richard Jenkins</td>\n",
       "    </tr>\n",
       "    <tr>\n",
       "      <th>99</th>\n",
       "      <td>Pamela</td>\n",
       "      <td>46</td>\n",
       "      <td>69</td>\n",
       "      <td>90</td>\n",
       "      <td>93</td>\n",
       "      <td>Brenda Myers</td>\n",
       "    </tr>\n",
       "  </tbody>\n",
       "</table>\n",
       "<p>100 rows × 6 columns</p>\n",
       "</div>"
      ],
      "text/plain": [
       "   Student Names  First Semester  Second Semester  Third Semester  \\\n",
       "0          Bryan              62               98              70   \n",
       "1          Donna              91               72              71   \n",
       "2         Jeremy              96               83              60   \n",
       "3        Richard              83               61              54   \n",
       "4         Amalia              68               64              77   \n",
       "..           ...             ...              ...             ...   \n",
       "95     Catherine              80               85              65   \n",
       "96          John              71               47             100   \n",
       "97         Damon              73               98              95   \n",
       "98          Luis              60               54              90   \n",
       "99        Pamela              46               69              90   \n",
       "\n",
       "    Fourth Semester      Faculty Name  \n",
       "0                98   Richard Jenkins  \n",
       "1                54       Nancy Smith  \n",
       "2                83       Nancy Smith  \n",
       "3               100       Nancy Smith  \n",
       "4                55   Richard Jenkins  \n",
       "..              ...               ...  \n",
       "95               78  Edward Bercegeay  \n",
       "96               86  Edward Bercegeay  \n",
       "97               56   Richard Jenkins  \n",
       "98               68   Richard Jenkins  \n",
       "99               93      Brenda Myers  \n",
       "\n",
       "[100 rows x 6 columns]"
      ]
     },
     "execution_count": 10,
     "metadata": {},
     "output_type": "execute_result"
    }
   ],
   "source": [
    "# Let's make a quick dataframe using pandas\n",
    "# But first, let's make a list of random names for 100 students\n",
    "\n",
    "student_names = []\n",
    "for i in range(100):\n",
    "    student_names.append(names.get_first_name())\n",
    "\n",
    "# Now let's make random grades for each student\n",
    "# to do that we need to use the random library\n",
    "first_quarter = []\n",
    "for i in range(100):\n",
    "    first_quarter.append(random.randint(45, 100))\n",
    "\n",
    "second_quarter = []\n",
    "for i in range(100):\n",
    "    second_quarter.append(random.randint(45, 100))\n",
    "\n",
    "third_quarter = []\n",
    "for i in range(100):\n",
    "    third_quarter.append(random.randint(45, 100))\n",
    "\n",
    "fourth_quarter = []\n",
    "for i in range(100):\n",
    "    fourth_quarter.append(random.randint(45, 100))\n",
    "\n",
    "\n",
    "# Let's make some Faculty members in our school\n",
    "faculty_names = []\n",
    "for i in range(5):\n",
    "    faculty_names.append(names.get_full_name())\n",
    "\n",
    "# Let's make the list larger with duplicates of the first 20 names\n",
    "faculty_names = list(np.repeat(faculty_names, 20))\n",
    "\n",
    "# We can use the shuffle method from the random library to shuffle our list and randomize it\n",
    "random.shuffle(faculty_names)\n",
    "\n",
    "\n",
    "# Let's create a dictionary of our school\n",
    "school_information = {\n",
    "    'Student Names': student_names,\n",
    "    'First Semester': first_quarter,\n",
    "    'Second Semester': second_quarter,\n",
    "    'Third Semester': third_quarter,\n",
    "    'Fourth Semester': fourth_quarter,\n",
    "    'Faculty Name' : faculty_names\n",
    "}\n",
    "\n",
    "# Now let's make a Database using our dictionary\n",
    "school = pd.DataFrame(data=school_information)\n",
    "school"
   ]
  },
  {
   "cell_type": "markdown",
   "metadata": {},
   "source": [
    "### Now, let's use our custom made Comparable library and create a new column that takes the average of all the grades for a student in a year"
   ]
  },
  {
   "cell_type": "code",
   "execution_count": 11,
   "metadata": {},
   "outputs": [
    {
     "data": {
      "text/html": [
       "<div>\n",
       "<style scoped>\n",
       "    .dataframe tbody tr th:only-of-type {\n",
       "        vertical-align: middle;\n",
       "    }\n",
       "\n",
       "    .dataframe tbody tr th {\n",
       "        vertical-align: top;\n",
       "    }\n",
       "\n",
       "    .dataframe thead th {\n",
       "        text-align: right;\n",
       "    }\n",
       "</style>\n",
       "<table border=\"1\" class=\"dataframe\">\n",
       "  <thead>\n",
       "    <tr style=\"text-align: right;\">\n",
       "      <th></th>\n",
       "      <th>Student Names</th>\n",
       "      <th>First Semester</th>\n",
       "      <th>Second Semester</th>\n",
       "      <th>Third Semester</th>\n",
       "      <th>Fourth Semester</th>\n",
       "      <th>Faculty Name</th>\n",
       "      <th>Average</th>\n",
       "    </tr>\n",
       "  </thead>\n",
       "  <tbody>\n",
       "    <tr>\n",
       "      <th>0</th>\n",
       "      <td>Bryan</td>\n",
       "      <td>62</td>\n",
       "      <td>98</td>\n",
       "      <td>70</td>\n",
       "      <td>98</td>\n",
       "      <td>Richard Jenkins</td>\n",
       "      <td>82.0</td>\n",
       "    </tr>\n",
       "    <tr>\n",
       "      <th>1</th>\n",
       "      <td>Donna</td>\n",
       "      <td>91</td>\n",
       "      <td>72</td>\n",
       "      <td>71</td>\n",
       "      <td>54</td>\n",
       "      <td>Nancy Smith</td>\n",
       "      <td>72.0</td>\n",
       "    </tr>\n",
       "    <tr>\n",
       "      <th>2</th>\n",
       "      <td>Jeremy</td>\n",
       "      <td>96</td>\n",
       "      <td>83</td>\n",
       "      <td>60</td>\n",
       "      <td>83</td>\n",
       "      <td>Nancy Smith</td>\n",
       "      <td>80.5</td>\n",
       "    </tr>\n",
       "    <tr>\n",
       "      <th>3</th>\n",
       "      <td>Richard</td>\n",
       "      <td>83</td>\n",
       "      <td>61</td>\n",
       "      <td>54</td>\n",
       "      <td>100</td>\n",
       "      <td>Nancy Smith</td>\n",
       "      <td>74.5</td>\n",
       "    </tr>\n",
       "    <tr>\n",
       "      <th>4</th>\n",
       "      <td>Amalia</td>\n",
       "      <td>68</td>\n",
       "      <td>64</td>\n",
       "      <td>77</td>\n",
       "      <td>55</td>\n",
       "      <td>Richard Jenkins</td>\n",
       "      <td>66.0</td>\n",
       "    </tr>\n",
       "    <tr>\n",
       "      <th>...</th>\n",
       "      <td>...</td>\n",
       "      <td>...</td>\n",
       "      <td>...</td>\n",
       "      <td>...</td>\n",
       "      <td>...</td>\n",
       "      <td>...</td>\n",
       "      <td>...</td>\n",
       "    </tr>\n",
       "    <tr>\n",
       "      <th>95</th>\n",
       "      <td>Catherine</td>\n",
       "      <td>80</td>\n",
       "      <td>85</td>\n",
       "      <td>65</td>\n",
       "      <td>78</td>\n",
       "      <td>Edward Bercegeay</td>\n",
       "      <td>77.0</td>\n",
       "    </tr>\n",
       "    <tr>\n",
       "      <th>96</th>\n",
       "      <td>John</td>\n",
       "      <td>71</td>\n",
       "      <td>47</td>\n",
       "      <td>100</td>\n",
       "      <td>86</td>\n",
       "      <td>Edward Bercegeay</td>\n",
       "      <td>76.0</td>\n",
       "    </tr>\n",
       "    <tr>\n",
       "      <th>97</th>\n",
       "      <td>Damon</td>\n",
       "      <td>73</td>\n",
       "      <td>98</td>\n",
       "      <td>95</td>\n",
       "      <td>56</td>\n",
       "      <td>Richard Jenkins</td>\n",
       "      <td>80.5</td>\n",
       "    </tr>\n",
       "    <tr>\n",
       "      <th>98</th>\n",
       "      <td>Luis</td>\n",
       "      <td>60</td>\n",
       "      <td>54</td>\n",
       "      <td>90</td>\n",
       "      <td>68</td>\n",
       "      <td>Richard Jenkins</td>\n",
       "      <td>68.0</td>\n",
       "    </tr>\n",
       "    <tr>\n",
       "      <th>99</th>\n",
       "      <td>Pamela</td>\n",
       "      <td>46</td>\n",
       "      <td>69</td>\n",
       "      <td>90</td>\n",
       "      <td>93</td>\n",
       "      <td>Brenda Myers</td>\n",
       "      <td>74.5</td>\n",
       "    </tr>\n",
       "  </tbody>\n",
       "</table>\n",
       "<p>100 rows × 7 columns</p>\n",
       "</div>"
      ],
      "text/plain": [
       "   Student Names  First Semester  Second Semester  Third Semester  \\\n",
       "0          Bryan              62               98              70   \n",
       "1          Donna              91               72              71   \n",
       "2         Jeremy              96               83              60   \n",
       "3        Richard              83               61              54   \n",
       "4         Amalia              68               64              77   \n",
       "..           ...             ...              ...             ...   \n",
       "95     Catherine              80               85              65   \n",
       "96          John              71               47             100   \n",
       "97         Damon              73               98              95   \n",
       "98          Luis              60               54              90   \n",
       "99        Pamela              46               69              90   \n",
       "\n",
       "    Fourth Semester      Faculty Name  Average  \n",
       "0                98   Richard Jenkins     82.0  \n",
       "1                54       Nancy Smith     72.0  \n",
       "2                83       Nancy Smith     80.5  \n",
       "3               100       Nancy Smith     74.5  \n",
       "4                55   Richard Jenkins     66.0  \n",
       "..              ...               ...      ...  \n",
       "95               78  Edward Bercegeay     77.0  \n",
       "96               86  Edward Bercegeay     76.0  \n",
       "97               56   Richard Jenkins     80.5  \n",
       "98               68   Richard Jenkins     68.0  \n",
       "99               93      Brenda Myers     74.5  \n",
       "\n",
       "[100 rows x 7 columns]"
      ]
     },
     "execution_count": 11,
     "metadata": {},
     "output_type": "execute_result"
    }
   ],
   "source": [
    "# We must use our get_average method\n",
    "# To create a new column, we simply call the dataframe and type in the new column name in brackets\n",
    "school['Average'] = comparable.get_average(school['First Semester'], school['Second Semester'], school['Third Semester'], school['Fourth Semester'])\n",
    "school"
   ]
  }
 ],
 "metadata": {
  "interpreter": {
   "hash": "f0241158d50e3e34b77f53e7a6d3f67a50c8c5a9037013305f31610104d3e5b8"
  },
  "kernelspec": {
   "display_name": "Python 3.9.9 64-bit (windows store)",
   "language": "python",
   "name": "python3"
  },
  "language_info": {
   "codemirror_mode": {
    "name": "ipython",
    "version": 3
   },
   "file_extension": ".py",
   "mimetype": "text/x-python",
   "name": "python",
   "nbconvert_exporter": "python",
   "pygments_lexer": "ipython3",
   "version": "3.9.9"
  },
  "orig_nbformat": 4
 },
 "nbformat": 4,
 "nbformat_minor": 2
}

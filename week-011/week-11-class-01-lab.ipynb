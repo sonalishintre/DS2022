{
 "cells": [
  {
   "cell_type": "markdown",
   "metadata": {},
   "source": [
    "## Question 1\n",
    "Given an array of meeting time intervals where ```intervals[i] = [starti, endi]```, determine if a person could attend all meetings within a 24 hour time period. \n",
    "> Meeting times are in hours in a 24hour clock.\n",
    "\n",
    " \n",
    "\n",
    "Example 1:\n",
    "```\n",
    "Input: intervals = [[0,3],[2,6],[13,16]]\n",
    "Output: false\n",
    "```\n",
    "Example 2:\n",
    "```\n",
    "Input: intervals = [[7,10],[2,4]]\n",
    "Output: true\n",
    "```"
   ]
  },
  {
   "cell_type": "markdown",
   "metadata": {},
   "source": [
    "## Question 2\n",
    "Design a class that takes \n",
    "- in a list of integers \n",
    "- stores the list \n",
    "- runs a sorting algorithm of your choosing \n",
    "- Run the sorting algorithm through a class object\n",
    "- Define the Big O of that algorithm"
   ]
  },
  {
   "cell_type": "markdown",
   "metadata": {},
   "source": [
    "## Question 3\n",
    "Create a class named Person with properties for:\n",
    "- first_name\n",
    "- last_name \n",
    "- print_name method\n",
    "\n",
    "Create a class named Student:\n",
    " - Inherit the properties and methods from the Person class\n",
    " - Add a property called graduation_year "
   ]
  },
  {
   "cell_type": "markdown",
   "metadata": {},
   "source": [
    "## Question 4\n",
    "Using two words explain the benefits of inheritance."
   ]
  },
  {
   "cell_type": "markdown",
   "metadata": {},
   "source": [
    "## Question 5\n",
    "\n",
    "Let's utilize our DataFrame from in class to make some visual graphs!\n",
    "- import matplotlib\n",
    "- read https://matplotlib.org/stable/api/_as_gen/matplotlib.pyplot.scatter.html on how to make scatter plots\n",
    "- read https://matplotlib.org/stable/api/_as_gen/matplotlib.pyplot.figure.html on how to make figures using matplotlib\n",
    "- create a figure of 4 scatter plots using grades from each quarter from our DataFrame as the y-axis and the Faculty Names as the x-axis.\n",
    "\n",
    "> Hints: \n",
    "> Use the add_subplot(rows, columns, position) method to add plots to your figure\n",
    "> Use set_title(string) method to add a title to your plots; ex: plot.set_title('First Quarter')"
   ]
  },
  {
   "cell_type": "markdown",
   "metadata": {},
   "source": [
    "### Your scatterplots should look like this:"
   ]
  },
  {
   "cell_type": "markdown",
   "metadata": {},
   "source": [
    "![TKH-Teachback](scatter_plots.jpg)"
   ]
  },
  {
   "cell_type": "markdown",
   "metadata": {},
   "source": [
    "### Bonus Question\n",
    "\n",
    "Using our DataFrame and the pandas library, create 5 separate DataFrames of each Faculty and their class. Then display which class has the highest average grade using our get_average method from the comparable module.\n",
    "\n",
    "> Hints:\n",
    "> Create a new DataFrame by comparing each student's Faculty member and separating them by the name of the Faculty member (there should be 20 students per faculty)"
   ]
  }
 ],
 "metadata": {
  "language_info": {
   "name": "python"
  },
  "orig_nbformat": 4
 },
 "nbformat": 4,
 "nbformat_minor": 2
}

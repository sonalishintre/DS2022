{
 "cells": [
  {
   "cell_type": "markdown",
   "metadata": {
    "id": "zndGg0rNFH7b"
   },
   "source": [
    "<div style=\"background: #000;\n",
    "            color: #FFF;\n",
    "            margin: 0px;\n",
    "                padding: 10px 0px 20px 0px;\n",
    "            text-align: center; \n",
    "                \">\n",
    "    <h1>Week 9 - Homework</h1>\n",
    "</div>"
   ]
  },
  {
   "cell_type": "markdown",
   "metadata": {},
   "source": [
    "For each question below, paste in the query or queries you used in order to answer the question. Also INCLUDE A SCREENSHOT of the results from your query.\n",
    "\n",
    "Remeber to check the ER Diagram to understand where the different pieces of information you need live: https://www.jooq.org/sakila\n",
    "\n",
    "\n",
    "1. What are the names of all the languages in the database (sorted alphabetically)?\n",
    "2. Return the full names (first and last) of actors with “SON” in their last name, ordered by their first name.\n",
    "3. Find all the addresses where the second address is not empty (i.e., contains some text), and return these second addresses sorted.\n",
    "4. Return the first and last names of actors who played in a film involving a “Crocodile” and a “Shark”, along with the release year of the movie, sorted by the actors’ last names.\n",
    "5. How many films involve a “Crocodile” and a “Shark”?\n",
    "6. Find all the film categories in which there are between 55 and 65 films. Return the names of these categories and the number of films per category, sorted by the number of films.\n",
    "7. What are the top 10 largest payments? Sort largest to smallest.\n",
    "8. Which actors have the first name ‘Scarlett’? Sort by last name descending.\n",
    "9 Which actors have the last name ‘Johansson’? Sort by first name ascending.\n",
    "10. How many distinct actors last names are there?\n",
    "11. Which last names are not repeated?\n",
    "12. Which last names appear more than once?\n",
    "13. Which actor has appeared in the most films?\n",
    "14. Is ‘Academy Dinosaur’ available for rent from Store 1?\n",
    "15. Insert a record to represent Mary Smith renting ‘Academy Dinosaur’ from Mike Hillyer at Store 1 today .\n",
    "16. When is ‘Academy Dinosaur’ due?\n",
    "17. What is that average running time of all the films in the sakila DB?\n",
    "18. What is the average running time of films by category?\n",
    "\n",
    "Bonus Question 1:\n",
    "\n",
    "Create a new table called \"theater\". It should have at least 5 attributes: one primary key, two foreign keys (from existing tables), and two other attributes of your choosing. Insert at least 5 records into the table. Paste below the query you used to make the table, and a screenshot of the table with it's data (SELECT * from it when done).\n",
    "\n",
    "Bonus Question 2:\n",
    "\n",
    "Create a new table from an existing one. Change at least three of the data types of the new table. Sort the new table by any column of your choosing and delete the last 10 rows based on however you sorted. Include all the queries you used below. Prove that you completed the steps above.\n",
    "\n",
    "\n",
    "\n"
   ]
  }
 ],
 "metadata": {
  "language_info": {
   "name": "python"
  },
  "orig_nbformat": 4
 },
 "nbformat": 4,
 "nbformat_minor": 2
}
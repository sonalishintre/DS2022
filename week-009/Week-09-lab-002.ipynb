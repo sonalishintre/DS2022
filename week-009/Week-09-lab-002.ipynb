{
 "cells": [
  {
   "cell_type": "markdown",
   "metadata": {
    "id": "zndGg0rNFH7b"
   },
   "source": [
    "<div style=\"background: #000;\n",
    "            color: #FFF;\n",
    "            margin: 0px;\n",
    "                padding: 10px 0px 20px 0px;\n",
    "            text-align: center; \n",
    "                \">\n",
    "    <h1>Week 9 - Lab 2</h1>\n",
    "</div>"
   ]
  },
  {
   "cell_type": "markdown",
   "metadata": {},
   "source": [
    "# Exercise 1\n",
    "\n",
    "Install mySQL, mySQL Workbench via the mySQL installer:\n",
    "\n",
    "https://www.simplilearn.com/tutorials/mysql-tutorial/mysql-workbench-installation\n",
    "\n",
    "Submit a screenshot of mySQL workbench connected to your mySQL instance below:\n",
    "\n"
   ]
  },
  {
   "cell_type": "markdown",
   "metadata": {},
   "source": [
    "# Exercise 2\n",
    "\n",
    "Import the included Sakila database/dataset into mySQL Workbench and submit a screenshot below. Sakila comes with the mySQL installation but might not automatically show up and you might have to manually import it. If for some reason you did not get it with the install (unlikely), you can manually download it and then import it.\n",
    "\n",
    "https://stackoverflow.com/questions/51765589/how-do-i-install-the-sakila-database-into-mysql-workbench-on-a-mac\n",
    "\n",
    "Submit screenshot below:"
   ]
  },
  {
   "cell_type": "markdown",
   "metadata": {},
   "source": [
    "# Exercise 3\n",
    "\n",
    "Submit screenshot of your ER Diagram below. Reminder - it should contain at least 5 entities (tables), each table should have attributes, and there should be defined relationships between the tables. You can either use the correct endpoints to define the relationships or you can use text boxes."
   ]
  }
 ],
 "metadata": {
  "language_info": {
   "name": "python"
  },
  "orig_nbformat": 4
 },
 "nbformat": 4,
 "nbformat_minor": 2
}
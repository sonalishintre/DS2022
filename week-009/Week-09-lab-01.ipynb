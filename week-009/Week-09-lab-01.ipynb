{
 "cells": [
  {
   "cell_type": "markdown",
   "metadata": {
    "id": "zndGg0rNFH7b"
   },
   "source": [
    "<div style=\"background: #000;\n",
    "            color: #FFF;\n",
    "            margin: 0px;\n",
    "                padding: 10px 0px 20px 0px;\n",
    "            text-align: center; \n",
    "                \">\n",
    "    <h1>Week 9 - Lab 1</h1>\n",
    "</div>"
   ]
  },
  {
   "cell_type": "markdown",
   "metadata": {},
   "source": [
    "# Exercise 1\n",
    "\n",
    "Follow the instruction given and install the Pandas Library in VS Code. After installation, input a picture to document that you have successfully installed the Pandas Library.\n",
    "\n",
    "https://pypi.org/project/pandas/\n",
    "\n",
    "In a New Terminal: Should be pypi:\n",
    "    \n",
    "    pip install pandas \n",
    "\n",
    "If you have the latest version of python:\n",
    "\n",
    "    pip3 install pandas \n",
    "\n",
    "Once you have the library create a simple dataframe of your choosing. Show your code."
   ]
  },
  {
   "cell_type": "markdown",
   "metadata": {},
   "source": [
    "# Exercise 2\n",
    "\n",
    "Create a data frame using pandas that uses a conditional statement other than if ascending = false."
   ]
  },
  {
   "cell_type": "markdown",
   "metadata": {},
   "source": [
    "# Exercise 3\n",
    "\n",
    "Create a Data Frame using pandas with Names and Age and change the datatype of age from int to str."
   ]
  },
  {
   "cell_type": "markdown",
   "metadata": {},
   "source": [
    "# Exercise 4\n",
    "\n",
    "Write a data frame using pandas that contains a dictionary of column1 of 5 strings of letters, a column2 of 5 integers, another column3 of 5 integers and a column4 of 5 strings of letters with lower and upper cases."
   ]
  },
  {
   "cell_type": "markdown",
   "metadata": {},
   "source": [
    "# Bonus Question\n",
    "\n",
    "Write a Pandas program that contains data of a student for each column (you can create as many as you think are necessary). Make sure to display the default index and set a column as an Index in the dataframe. Output only one of the columns of your choice and change its datatype. "
   ]
  }
 ],
 "metadata": {
  "language_info": {
   "name": "python"
  },
  "orig_nbformat": 4
 },
 "nbformat": 4,
 "nbformat_minor": 2
}

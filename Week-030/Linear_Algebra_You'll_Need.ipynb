{
 "cells": [
  {
   "cell_type": "code",
   "execution_count": 1,
   "id": "7dd5a804",
   "metadata": {},
   "outputs": [],
   "source": [
    "import numpy as np"
   ]
  },
  {
   "cell_type": "markdown",
   "id": "f9ef4782",
   "metadata": {},
   "source": [
    "### Matrix"
   ]
  },
  {
   "cell_type": "markdown",
   "id": "3adf4828",
   "metadata": {},
   "source": [
    "    A matrix is a rectangular array of numbers. We can define the dimensions of the vector using the following notation,\n",
    "    N X M, where N is the rows in the matrix, and M is the columns in the Matrix.\n",
    "    "
   ]
  },
  {
   "cell_type": "markdown",
   "id": "020b9089",
   "metadata": {},
   "source": [
    "    In Python we can represent the Matrix using numpy's arrays."
   ]
  },
  {
   "cell_type": "code",
   "execution_count": 2,
   "id": "ed9897c3",
   "metadata": {},
   "outputs": [
    {
     "data": {
      "text/plain": [
       "array([[1, 2, 3],\n",
       "       [4, 5, 6],\n",
       "       [7, 8, 9]])"
      ]
     },
     "execution_count": 2,
     "metadata": {},
     "output_type": "execute_result"
    }
   ],
   "source": [
    "np.array([[1,2,3],[4,5,6],[7,8,9]])"
   ]
  },
  {
   "cell_type": "markdown",
   "id": "60e24c0e",
   "metadata": {},
   "source": [
    "    Here we have a 3x3 Matrix. We have 3 columns, and 3 rows."
   ]
  },
  {
   "cell_type": "markdown",
   "id": "b060368c",
   "metadata": {},
   "source": [
    "We refer to elements by using a specific syntax. We use the subscript i,j syntax like this $A_{i,j}$. If we refer to our Matrix as the Matrix A, we can say that the $A_{1,1}$ element is the number 1. I refers to the row, whereas j refers to the column"
   ]
  },
  {
   "cell_type": "markdown",
   "id": "c9225feb",
   "metadata": {},
   "source": [
    "# Spot Check"
   ]
  },
  {
   "cell_type": "code",
   "execution_count": 3,
   "id": "38a0d2c8",
   "metadata": {},
   "outputs": [
    {
     "data": {
      "text/plain": [
       "array([[ 1,  2,  3,  4,  5,  6],\n",
       "       [ 7,  8,  9, 10, 11, 12],\n",
       "       [13, 14, 15, 16, 17, 18]])"
      ]
     },
     "execution_count": 3,
     "metadata": {},
     "output_type": "execute_result"
    }
   ],
   "source": [
    "np.array([[1,2,3,4,5,6],[7,8,9,10,11,12],[13,14,15,16,17,18]])"
   ]
  },
  {
   "cell_type": "markdown",
   "id": "645565ae",
   "metadata": {},
   "source": [
    "In this Matrix, using $A_{i,j}$ syntax,\n",
    "How do we represent the following three values?\n",
    "\n",
    "3 = $A_{1,3}$\n",
    "\n",
    "11 = $A_{2,5}$\n",
    "\n",
    "18 = $A_{3,6}$"
   ]
  },
  {
   "cell_type": "markdown",
   "id": "25a5fea8",
   "metadata": {},
   "source": [
    "# The Vector"
   ]
  },
  {
   "cell_type": "markdown",
   "id": "b00c4721",
   "metadata": {},
   "source": [
    "The vector is a special type of matrix. We can say that it is an n * 1 matrix. It will only contain 1 column, by definition. "
   ]
  },
  {
   "cell_type": "code",
   "execution_count": 4,
   "id": "e220af63",
   "metadata": {},
   "outputs": [
    {
     "data": {
      "text/plain": [
       "array([[1],\n",
       "       [2],\n",
       "       [3]])"
      ]
     },
     "execution_count": 4,
     "metadata": {},
     "output_type": "execute_result"
    }
   ],
   "source": [
    "np.array([[1],[2],[3]])"
   ]
  },
  {
   "cell_type": "markdown",
   "id": "0a8f79ef",
   "metadata": {},
   "source": [
    "We refer to this as a 3 dimensional vector? Why is that? It has three layers of depth so to speak. Vectors can be 0 indexed, or they can be 1 indexed. Think of this of the way we represent arrays in python. We use similar $Y_{i}$ to reference which element we are concerned with."
   ]
  },
  {
   "cell_type": "markdown",
   "id": "d7dbdc69",
   "metadata": {},
   "source": [
    "# Matrix Addition"
   ]
  },
  {
   "cell_type": "markdown",
   "id": "9ddc2515",
   "metadata": {},
   "source": [
    "We can add Matrices together, only when their dimensions match. As long as that much is true, we can perform addition on them. The resultant matrix will be of the same dimensions as the two component matrices. To get the resultant matrix, you need to add the elements in the same space. Let's take a look at some examples."
   ]
  },
  {
   "cell_type": "code",
   "execution_count": 5,
   "id": "19172250",
   "metadata": {},
   "outputs": [],
   "source": [
    "first_matrix = np.array([[1],[2],[3]])"
   ]
  },
  {
   "cell_type": "code",
   "execution_count": 6,
   "id": "15b5dabf",
   "metadata": {},
   "outputs": [],
   "source": [
    "second_matrix = np.array([[3],[2],[1]])"
   ]
  },
  {
   "cell_type": "code",
   "execution_count": 7,
   "id": "c60e4b27",
   "metadata": {},
   "outputs": [
    {
     "data": {
      "text/plain": [
       "array([[4],\n",
       "       [4],\n",
       "       [4]])"
      ]
     },
     "execution_count": 7,
     "metadata": {},
     "output_type": "execute_result"
    }
   ],
   "source": [
    "first_matrix+second_matrix"
   ]
  },
  {
   "cell_type": "markdown",
   "id": "401e8c97",
   "metadata": {},
   "source": [
    "### What happens if we try to add together vectors with different dimensions?"
   ]
  },
  {
   "cell_type": "code",
   "execution_count": 8,
   "id": "1a6b030d",
   "metadata": {},
   "outputs": [],
   "source": [
    "first_matrix = np.array([[1],[2],[3]])"
   ]
  },
  {
   "cell_type": "code",
   "execution_count": 9,
   "id": "0466f726",
   "metadata": {},
   "outputs": [],
   "source": [
    "second_matrix = np.array([[3],[2],[1],[5]])"
   ]
  },
  {
   "cell_type": "code",
   "execution_count": 10,
   "id": "5da25e2f",
   "metadata": {},
   "outputs": [
    {
     "ename": "ValueError",
     "evalue": "operands could not be broadcast together with shapes (3,1) (4,1) ",
     "output_type": "error",
     "traceback": [
      "\u001b[1;31m---------------------------------------------------------------------------\u001b[0m",
      "\u001b[1;31mValueError\u001b[0m                                Traceback (most recent call last)",
      "\u001b[1;32m<ipython-input-10-5b9769d07775>\u001b[0m in \u001b[0;36m<module>\u001b[1;34m\u001b[0m\n\u001b[1;32m----> 1\u001b[1;33m \u001b[0mfirst_matrix\u001b[0m\u001b[1;33m+\u001b[0m\u001b[0msecond_matrix\u001b[0m\u001b[1;33m\u001b[0m\u001b[1;33m\u001b[0m\u001b[0m\n\u001b[0m",
      "\u001b[1;31mValueError\u001b[0m: operands could not be broadcast together with shapes (3,1) (4,1) "
     ]
    }
   ],
   "source": [
    "first_matrix+second_matrix"
   ]
  },
  {
   "cell_type": "markdown",
   "id": "5cadeb15",
   "metadata": {},
   "source": [
    "### We get an error. The condition of needing the matrices to have the same dimensions must be met."
   ]
  },
  {
   "cell_type": "markdown",
   "id": "d6c1c78c",
   "metadata": {},
   "source": [
    "# Matrix and Scalar Operations"
   ]
  },
  {
   "cell_type": "markdown",
   "id": "cfa36c97",
   "metadata": {},
   "source": [
    "    When we say we are multiplying a matrix by a scalar, we are applying a constant change across all values within a matrix. Let's see it in action."
   ]
  },
  {
   "cell_type": "code",
   "execution_count": 2,
   "id": "1b59d77d",
   "metadata": {},
   "outputs": [],
   "source": [
    "matrix_scalar = np.array([[1,2,3],[3,4,5],[6,7,8]])"
   ]
  },
  {
   "cell_type": "code",
   "execution_count": null,
   "id": "2ba36e96",
   "metadata": {},
   "outputs": [],
   "source": [
    "matrix_scalar"
   ]
  },
  {
   "cell_type": "code",
   "execution_count": null,
   "id": "820b370f",
   "metadata": {},
   "outputs": [],
   "source": [
    "matrix_scalar * 5"
   ]
  },
  {
   "cell_type": "markdown",
   "id": "e3199b4f",
   "metadata": {},
   "source": [
    "### We can see that it took each value in the matrix, and it multiplied it by the scalar value."
   ]
  },
  {
   "cell_type": "markdown",
   "id": "3f3b77e6",
   "metadata": {},
   "source": [
    "    As we can multiply, we can divide as well. Remember, dividing by a scalar is the same as multiplying by 1 over said scalar."
   ]
  },
  {
   "cell_type": "code",
   "execution_count": null,
   "id": "2b047d34",
   "metadata": {},
   "outputs": [],
   "source": [
    "matrix_scalar / 5"
   ]
  },
  {
   "cell_type": "code",
   "execution_count": null,
   "id": "12c82db4",
   "metadata": {},
   "outputs": [],
   "source": [
    "matrix_scalar * .20"
   ]
  },
  {
   "cell_type": "markdown",
   "id": "c235f8ab",
   "metadata": {},
   "source": [
    "# Matrix by Vector Multiplication"
   ]
  },
  {
   "cell_type": "markdown",
   "id": "8148eb11",
   "metadata": {},
   "source": [
    "    Now let's venture into the territory of multiplying a Matrix by a Vector. Let's see the result first."
   ]
  },
  {
   "cell_type": "code",
   "execution_count": 3,
   "id": "048c70be",
   "metadata": {},
   "outputs": [],
   "source": [
    "matrix_scalar = np.array([[1,2,3],[3,4,5],[6,7,8]])"
   ]
  },
  {
   "cell_type": "code",
   "execution_count": 4,
   "id": "3762a776",
   "metadata": {},
   "outputs": [
    {
     "data": {
      "text/plain": [
       "array([[1, 2, 3],\n",
       "       [3, 4, 5],\n",
       "       [6, 7, 8]])"
      ]
     },
     "execution_count": 4,
     "metadata": {},
     "output_type": "execute_result"
    }
   ],
   "source": [
    "matrix_scalar"
   ]
  },
  {
   "cell_type": "code",
   "execution_count": 5,
   "id": "b01b2c0b",
   "metadata": {},
   "outputs": [],
   "source": [
    "vector_to_multiply = np.array([[1],[2],[3]])"
   ]
  },
  {
   "cell_type": "code",
   "execution_count": 6,
   "id": "11f6fd47",
   "metadata": {},
   "outputs": [
    {
     "data": {
      "text/plain": [
       "array([[1],\n",
       "       [2],\n",
       "       [3]])"
      ]
     },
     "execution_count": 6,
     "metadata": {},
     "output_type": "execute_result"
    }
   ],
   "source": [
    "vector_to_multiply"
   ]
  },
  {
   "cell_type": "code",
   "execution_count": 7,
   "id": "915bced0",
   "metadata": {},
   "outputs": [
    {
     "data": {
      "text/plain": [
       "array([[14],\n",
       "       [26],\n",
       "       [44]])"
      ]
     },
     "execution_count": 7,
     "metadata": {},
     "output_type": "execute_result"
    }
   ],
   "source": [
    "np.dot(matrix_scalar,vector_to_multiply)"
   ]
  },
  {
   "cell_type": "markdown",
   "id": "a7b27c39",
   "metadata": {},
   "source": [
    "# Let's see how this worked out in terms of dimensions."
   ]
  },
  {
   "cell_type": "markdown",
   "id": "588ace28",
   "metadata": {},
   "source": [
    "     Matrix scalar was a 3x3 Matrix.\n",
    "     Vector to multiply was a 3x1 Matrix.\n",
    "     Our result, was a 3x1 Matrix."
   ]
  },
  {
   "cell_type": "markdown",
   "id": "e4121be9",
   "metadata": {},
   "source": [
    "    Let's set the rules.\n",
    "    Matrix A is a Matrix of M rows and N Columns.\n",
    "    Vector X is a Matrix of N rows and 1 Columns.\n",
    "    The result is a M dimensional Vector Y.\n",
    "    \n",
    "   To get $Y_{i}$ multiply A's ith row with the elements of vector X, and add them together."
   ]
  },
  {
   "cell_type": "code",
   "execution_count": null,
   "id": "33f4f817",
   "metadata": {},
   "outputs": [],
   "source": [
    "matrix_scalar"
   ]
  },
  {
   "cell_type": "code",
   "execution_count": null,
   "id": "038d0ca2",
   "metadata": {},
   "outputs": [],
   "source": [
    "vector_to_multiply"
   ]
  },
  {
   "cell_type": "markdown",
   "id": "e4431625",
   "metadata": {},
   "source": [
    "For example, for the first row in matrix scalar we do.\n",
    "    \n",
    "(1 * 1) + (2 * 2) + (3 * 3 ) = 14\n",
    "   \n",
    "That's the first component of our Vector Y.\n",
    "\n",
    "Then we do \n",
    "\n",
    "(3 * 1) + (4 * 2) + (5 *3) = 26\n",
    "\n",
    "That's our second component\n",
    "\n",
    "Our third and last component is \n",
    "\n",
    "(6 * 1) + (7 * 2) + (8 * 3) = 44\n",
    "\n",
    "\n",
    "Our result ends up being the vector"
   ]
  },
  {
   "cell_type": "code",
   "execution_count": null,
   "id": "2d2b449c",
   "metadata": {},
   "outputs": [],
   "source": [
    "np.array([[14],[26],[44]])"
   ]
  },
  {
   "cell_type": "code",
   "execution_count": null,
   "id": "e7740996",
   "metadata": {},
   "outputs": [],
   "source": [
    "Which matches the previous result. "
   ]
  },
  {
   "cell_type": "markdown",
   "id": "ad4e4577",
   "metadata": {},
   "source": [
    "# Rule of Vector Matrix Multiplication. The amount of columns in the Matrix has to match the amount of rows in the Vector."
   ]
  },
  {
   "cell_type": "code",
   "execution_count": null,
   "id": "60b54953",
   "metadata": {},
   "outputs": [],
   "source": [
    "np.dot(matrix_scalar,np.array([[1],[2]]))"
   ]
  },
  {
   "cell_type": "markdown",
   "id": "cc072545",
   "metadata": {},
   "source": [
    "We can see that this doesn't work."
   ]
  },
  {
   "cell_type": "markdown",
   "id": "335d2e2b",
   "metadata": {},
   "source": [
    "# Spot Check "
   ]
  },
  {
   "cell_type": "code",
   "execution_count": null,
   "id": "4ec3d604",
   "metadata": {},
   "outputs": [],
   "source": [
    "matrix_to_mult = np.array([[1,2,1,5],[0,3,0,4],[-1,-2,0,0]])"
   ]
  },
  {
   "cell_type": "code",
   "execution_count": null,
   "id": "2c7ab6c5",
   "metadata": {},
   "outputs": [],
   "source": [
    "vector_to_mult = np.array([[1],[3],[2],[1]])"
   ]
  },
  {
   "cell_type": "code",
   "execution_count": null,
   "id": "8f727fc6",
   "metadata": {},
   "outputs": [],
   "source": [
    "np.dot(matrix_to_mult,vector_to_mult)"
   ]
  },
  {
   "cell_type": "code",
   "execution_count": null,
   "id": "958772b2",
   "metadata": {},
   "outputs": [],
   "source": [
    "# Why was the result a 3 dimensional Vector?"
   ]
  },
  {
   "cell_type": "markdown",
   "id": "e9325207",
   "metadata": {},
   "source": [
    "# Matrix Matrix Multiplication"
   ]
  },
  {
   "cell_type": "markdown",
   "id": "c9b227f4",
   "metadata": {},
   "source": [
    "    What if we want to multiply two Matrices together? How can we do this?"
   ]
  },
  {
   "cell_type": "code",
   "execution_count": null,
   "id": "801516a4",
   "metadata": {},
   "outputs": [],
   "source": [
    "#First let's see the result."
   ]
  },
  {
   "cell_type": "code",
   "execution_count": 8,
   "id": "19e1c014",
   "metadata": {},
   "outputs": [],
   "source": [
    "matrix_a = np.array([[1,3,2],[4,0,1]])"
   ]
  },
  {
   "cell_type": "code",
   "execution_count": 9,
   "id": "e86b0dfa",
   "metadata": {},
   "outputs": [],
   "source": [
    "matrix_b = np.array([[1,3],[0,1],[5,2]])"
   ]
  },
  {
   "cell_type": "code",
   "execution_count": 10,
   "id": "2cac0fe7",
   "metadata": {},
   "outputs": [
    {
     "data": {
      "text/plain": [
       "array([[11, 10],\n",
       "       [ 9, 14]])"
      ]
     },
     "execution_count": 10,
     "metadata": {},
     "output_type": "execute_result"
    }
   ],
   "source": [
    "np.dot(matrix_a,matrix_b)"
   ]
  },
  {
   "cell_type": "markdown",
   "id": "06756886",
   "metadata": {},
   "source": [
    "# Let's take a look once again at dimensions first."
   ]
  },
  {
   "cell_type": "markdown",
   "id": "69410dcc",
   "metadata": {},
   "source": [
    "matrix_a is  a 2 X 3 Matrix. Let's say it has M rows, and N columns.\n",
    "\n",
    "matrix_b is a 3 X 2 Matrix. Let's say it has N rows, and O columns.\n",
    "\n",
    "Our result is a 2X2 Matrix. It has M rows, and O columns."
   ]
  },
  {
   "cell_type": "markdown",
   "id": "7f300fda",
   "metadata": {},
   "source": [
    "The more formal definition is this.\n",
    "\n",
    "The ith column of the result maxtrix is obtained by multiplying Matrix_a with the ith column of B."
   ]
  },
  {
   "cell_type": "markdown",
   "id": "d26130b1",
   "metadata": {},
   "source": [
    "### Let's work through it by hand first."
   ]
  },
  {
   "cell_type": "code",
   "execution_count": null,
   "id": "6da6526e",
   "metadata": {},
   "outputs": [],
   "source": [
    "matrix_a"
   ]
  },
  {
   "cell_type": "code",
   "execution_count": null,
   "id": "38ea8384",
   "metadata": {},
   "outputs": [],
   "source": [
    "matrix_b"
   ]
  },
  {
   "cell_type": "markdown",
   "id": "964e019b",
   "metadata": {},
   "source": [
    "### B is made up of 2 Vectors. First, we take the the first vector of B. [[1],[0],[5]]. We will multiply Matrix A by this."
   ]
  },
  {
   "cell_type": "markdown",
   "id": "06f391c8",
   "metadata": {},
   "source": [
    "(1* 1) + (3 * 0) + (2 * 5) = 11\n",
    "\n",
    "That makes up the first component of the result vector.\n",
    "\n",
    "(4 * 1) + (0 * 0) + (5 * 1) = 9\n",
    "\n",
    "This makes up the second component of the result Vector. We are left with the Vector [[11],[9]]"
   ]
  },
  {
   "cell_type": "markdown",
   "id": "b5079845",
   "metadata": {},
   "source": [
    "### Now let's multiply A by the second Vector, [[3],[1],[2]]"
   ]
  },
  {
   "cell_type": "markdown",
   "id": "6bdbb68a",
   "metadata": {},
   "source": [
    "(3* 1) + (1 * 3) + (2 * 2) = 10\n",
    "\n",
    "That makes up the first component of the result vector.\n",
    "\n",
    "(4 * 3) + (1 * 0) + (1 * 2) = 14\n",
    "\n",
    "This makes up the second component of the result Vector. We are left with the Vector [[10],[14]]"
   ]
  },
  {
   "cell_type": "markdown",
   "id": "2168368d",
   "metadata": {},
   "source": [
    "### Now we can line up those vectors and what result do we get? The same Matrix as before."
   ]
  },
  {
   "cell_type": "markdown",
   "id": "85b454d8",
   "metadata": {},
   "source": [
    "# The rule of Matrix Matrix Multiplication is that the columns of the first matrix has to match with the rows of the second matrix."
   ]
  },
  {
   "cell_type": "markdown",
   "id": "00b574f7",
   "metadata": {},
   "source": [
    "# Spot Check \n",
    "\n",
    "    What is the result of the multiplying these 2 matrices together?\n",
    "    \n",
    "    \n",
    "    \n",
    "    "
   ]
  },
  {
   "cell_type": "code",
   "execution_count": null,
   "id": "6aad327b",
   "metadata": {},
   "outputs": [],
   "source": [
    "matrix_a = np.array([[1,2,3,4],[5,6,7,8]])"
   ]
  },
  {
   "cell_type": "code",
   "execution_count": null,
   "id": "593df23e",
   "metadata": {},
   "outputs": [],
   "source": [
    "matrix_b = np.array([[1,2],[3,4],[5,6],[7,8]])"
   ]
  },
  {
   "cell_type": "code",
   "execution_count": null,
   "id": "d37be0e5",
   "metadata": {},
   "outputs": [],
   "source": [
    "np.dot(matrix_a,matrix_b)"
   ]
  },
  {
   "cell_type": "markdown",
   "id": "4223acfb",
   "metadata": {},
   "source": [
    "# BREAK"
   ]
  },
  {
   "cell_type": "markdown",
   "id": "b0d0b76d",
   "metadata": {},
   "source": [
    "# Now we are going to go over some of the special cases, and some of the rules of matrices."
   ]
  },
  {
   "cell_type": "markdown",
   "id": "37b1c539",
   "metadata": {},
   "source": [
    "    Formally we say that Matrix multiplication is Associative. \n",
    "    We say that Matrix multiplication is not commutative. "
   ]
  },
  {
   "cell_type": "markdown",
   "id": "400d9fbd",
   "metadata": {},
   "source": [
    "### The Associative property of multiplication states that (A* B) * C is equal to A * (B*C)"
   ]
  },
  {
   "cell_type": "markdown",
   "id": "2bd4a92b",
   "metadata": {},
   "source": [
    "    This IS true of Matrices, and you can try it out for yourself."
   ]
  },
  {
   "cell_type": "markdown",
   "id": "f4b3af42",
   "metadata": {},
   "source": [
    "### The Commutative Property of multiplication states that A * B = B * A. This is NOT True for matrices, and you can try this our yourself. (In general this is not true, in specific cases it is.)"
   ]
  },
  {
   "cell_type": "code",
   "execution_count": null,
   "id": "78b5b3f2",
   "metadata": {},
   "outputs": [],
   "source": []
  },
  {
   "cell_type": "markdown",
   "id": "ebd48848",
   "metadata": {},
   "source": [
    "# Identity Matrix"
   ]
  },
  {
   "cell_type": "markdown",
   "id": "13e44cdf",
   "metadata": {},
   "source": [
    "This special type of matrix is a matrix that when multiplied to a matrix returns the same matrix. It's equivalent to \"multiplying the matrix by 1\". \n",
    "\n",
    "It's denoted by I or $I_{n*n}$, where n denotes the dimensions."
   ]
  },
  {
   "cell_type": "code",
   "execution_count": null,
   "id": "0116c1a4",
   "metadata": {},
   "outputs": [],
   "source": [
    "The identity matrix is as follows. "
   ]
  },
  {
   "cell_type": "code",
   "execution_count": null,
   "id": "dcb49343",
   "metadata": {},
   "outputs": [],
   "source": [
    "np.identity(2)"
   ]
  },
  {
   "cell_type": "code",
   "execution_count": null,
   "id": "e121d750",
   "metadata": {},
   "outputs": [],
   "source": [
    "np.identity(3)"
   ]
  },
  {
   "cell_type": "markdown",
   "id": "c854af70",
   "metadata": {},
   "source": [
    "We can see that it is a 1 across the diagonals, and 1 everywhere else."
   ]
  },
  {
   "cell_type": "markdown",
   "id": "2811641d",
   "metadata": {},
   "source": [
    "# Let's formally define it. "
   ]
  },
  {
   "cell_type": "markdown",
   "id": "184d21c8",
   "metadata": {},
   "source": [
    "A is some m * n Matrix.\n",
    "\n",
    "A *$I_{(n*n)}$ = $I_{(m*m)}$ * A = A"
   ]
  },
  {
   "cell_type": "markdown",
   "id": "bea31819",
   "metadata": {},
   "source": [
    "This is one of the special cases where the commutative property is true. In the case of square matrices multiplied by the identity matrix."
   ]
  },
  {
   "cell_type": "markdown",
   "id": "6cb6c2e8",
   "metadata": {},
   "source": [
    "# Inverse"
   ]
  },
  {
   "cell_type": "markdown",
   "id": "a957a073",
   "metadata": {},
   "source": [
    "    Formally defined, the Inverse of a Matrix is the matrix we can multiply a Matrix by in order to get 1. Let's think of it in Math. 3 * X = 1. What is x? X is 3^-1. What about 12 * X = 1? Well it's 12^-1"
   ]
  },
  {
   "cell_type": "markdown",
   "id": "6e89d241",
   "metadata": {},
   "source": [
    "    It follows the same type of logic in Matrix operations. What can we multiply a matrix by in order to get 1? Turns out that there are a few rules. Only Square Matrices can have inverses, and not all matrices have inverses. Why and how to get these is beyond the scope of what we're going to do.\n",
    "    "
   ]
  },
  {
   "cell_type": "markdown",
   "id": "f45c2072",
   "metadata": {},
   "source": [
    "### Formally defined it is as follows.\n",
    "    \n",
    "    \n"
   ]
  },
  {
   "cell_type": "markdown",
   "id": "f6ca862e",
   "metadata": {},
   "source": [
    "$A$ * $A^{-1}$ = $A^{-1}$ * $A$ = 1 "
   ]
  },
  {
   "cell_type": "markdown",
   "id": "e553cde6",
   "metadata": {},
   "source": [
    "We will not formally go over how to calculate the inverse. It's not particularly difficult, but if you want more context look it up. In Python we can do it in numpy."
   ]
  },
  {
   "cell_type": "code",
   "execution_count": null,
   "id": "de925b6f",
   "metadata": {},
   "outputs": [],
   "source": [
    "test_matrix = np.array([[1,2],[3,4]])"
   ]
  },
  {
   "cell_type": "code",
   "execution_count": null,
   "id": "bcc5648a",
   "metadata": {},
   "outputs": [],
   "source": [
    "np.linalg.inv(test_matrix)"
   ]
  },
  {
   "cell_type": "code",
   "execution_count": null,
   "id": "525b6f18",
   "metadata": {},
   "outputs": [],
   "source": [
    "test_inverse = np.linalg.inv(test_matrix)"
   ]
  },
  {
   "cell_type": "code",
   "execution_count": null,
   "id": "64539829",
   "metadata": {},
   "outputs": [],
   "source": [
    "np.dot(test_matrix,test_inverse)"
   ]
  },
  {
   "cell_type": "markdown",
   "id": "1da74ec7",
   "metadata": {},
   "source": [
    "#### We can see that some values are zero, while some are very close to zero this is ok. "
   ]
  },
  {
   "cell_type": "markdown",
   "id": "b7e93edf",
   "metadata": {},
   "source": [
    "# Why do we want to calculate the inverse? \n",
    "\n",
    "It's because we can't divide matrices by each other. Assume this problem.\n",
    "\n",
    "A * B = C   where these are 3 Matrices. \n",
    "\n",
    "If we have the values of Matrix A and C, how can we get the value of Matrix B?"
   ]
  },
  {
   "cell_type": "markdown",
   "id": "a7e35f2e",
   "metadata": {},
   "source": [
    "We can multiply both sides by $A^{-1}$ to get $BAA^{-1}$ = $CA^{-1}$\n",
    "\n",
    "We can reduce, and then we get. B = C$A^{-1}$"
   ]
  },
  {
   "cell_type": "markdown",
   "id": "beab859b",
   "metadata": {},
   "source": [
    "#### Some extra notes. \n",
    "\n",
    "Matrices without an inverse are called degenerate or singular matrices.\n",
    "\n",
    "One matrix that doesn't have an inverse is the matrix of all zeroes."
   ]
  },
  {
   "cell_type": "markdown",
   "id": "70d3815a",
   "metadata": {},
   "source": [
    "# Matrix Transposing"
   ]
  },
  {
   "cell_type": "markdown",
   "id": "f0537c36",
   "metadata": {},
   "source": [
    "    This is a special action we can do on a Matrix. We are flipping a matrix along a 45 degree angle and mirroring it. Let's take a look"
   ]
  },
  {
   "cell_type": "code",
   "execution_count": 11,
   "id": "e3e35458",
   "metadata": {},
   "outputs": [],
   "source": [
    "matrix_to_transpose = np.array([[1,2,0],[3,5,9]])"
   ]
  },
  {
   "cell_type": "code",
   "execution_count": 12,
   "id": "37eb0a94",
   "metadata": {},
   "outputs": [
    {
     "data": {
      "text/plain": [
       "array([[1, 3],\n",
       "       [2, 5],\n",
       "       [0, 9]])"
      ]
     },
     "execution_count": 12,
     "metadata": {},
     "output_type": "execute_result"
    }
   ],
   "source": [
    "np.transpose(matrix_to_transpose)"
   ]
  },
  {
   "cell_type": "markdown",
   "id": "8f5c406a",
   "metadata": {},
   "source": [
    "This is a bit difficult to visualize but imagine that 45 Degree line. Then you're mirroring across it and flipping it."
   ]
  },
  {
   "cell_type": "markdown",
   "id": "ca342d21",
   "metadata": {},
   "source": [
    "More formally it is defined as follows.\n",
    "\n",
    "Let A be an m*n matrix and let B = $A^{T}$ \n",
    "\n",
    "B is an n*m matrix, and  $B_{i,j} = A_{j,i}$"
   ]
  }
 ],
 "metadata": {
  "kernelspec": {
   "display_name": "Python 3",
   "language": "python",
   "name": "python3"
  },
  "language_info": {
   "codemirror_mode": {
    "name": "ipython",
    "version": 3
   },
   "file_extension": ".py",
   "mimetype": "text/x-python",
   "name": "python",
   "nbconvert_exporter": "python",
   "pygments_lexer": "ipython3",
   "version": "3.9.1"
  }
 },
 "nbformat": 4,
 "nbformat_minor": 5
}

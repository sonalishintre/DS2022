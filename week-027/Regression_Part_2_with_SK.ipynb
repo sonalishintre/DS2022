{
 "cells": [
  {
   "cell_type": "code",
   "execution_count": 1,
   "id": "1d08fd10",
   "metadata": {},
   "outputs": [],
   "source": [
    "import matplotlib.pyplot as plt"
   ]
  },
  {
   "cell_type": "markdown",
   "id": "6abcf8af",
   "metadata": {},
   "source": [
    "# So we have gone over MSE as a cost function that can be optimized with Gradient Descent, but MSE has some weaknesses. Using L2 loss leaves the line sensitive to outliers. Let's try to understand why."
   ]
  },
  {
   "cell_type": "code",
   "execution_count": 60,
   "id": "3cbf5a08",
   "metadata": {},
   "outputs": [],
   "source": [
    "x_set = [1,2,3,4,5,6,7,8,9,10,11,12,13,14,15,16,17,18,19,20]\n",
    "y_set = [1,2,3,4,30,6,7,20,40,10,11,12,400,14,30,16,80,18,10,500]"
   ]
  },
  {
   "cell_type": "code",
   "execution_count": 61,
   "id": "a5d90fe6",
   "metadata": {},
   "outputs": [
    {
     "data": {
      "image/png": "[encoded data removed]",
      "text/plain": [
       "<Figure size 432x288 with 1 Axes>"
      ]
     },
     "metadata": {
      "needs_background": "light"
     },
     "output_type": "display_data"
    }
   ],
   "source": [
    "plt.scatter(x_set,y_set)\n",
    "plt.show()"
   ]
  },
  {
   "cell_type": "markdown",
   "id": "fce62bcd",
   "metadata": {},
   "source": [
    "Outliers will try to pull the gradient descent in their direction. The line of best fit here is clearly going to be situated near the 4 points that fall along the same line. The outlier will surely affect the line, but it shouldn't have as large as a pull as we are going to demonstrate.\n"
   ]
  },
  {
   "cell_type": "code",
   "execution_count": 131,
   "id": "f4df5ae0",
   "metadata": {},
   "outputs": [],
   "source": [
    "def gradient_descent(x,y,alpha,tolerance,iterations,theta_0=0,theta_1=0):\n",
    "        i = 0\n",
    "        list_of_theta_0s = [0]\n",
    "        list_of_theta_1s = [0]\n",
    "        mean_squared_error = sum([(theta_0 + (theta_1*x[i]) - y[i])**2 for i in range(len(x))])\n",
    "        list_of_errors = []\n",
    "        \n",
    "        avg = 1/(len(x))\n",
    "        while i < iterations:   \n",
    "            \n",
    "            \n",
    "            #Calculate average of the partial derivative of theta_0  \n",
    "            sum_of_MSE_theta_0 = 0                  \n",
    "            for counter,value in enumerate(x):\n",
    "                sum_of_MSE_theta_0 += ( (theta_0 + (theta_1*x[counter])) - y[counter])\n",
    "                 \n",
    "            \n",
    "            #Calculate average of the partial derivative of theta_1    \n",
    "            sum_of_MSE_theta_1 = 0                  \n",
    "            for counter,value in enumerate(x):\n",
    "                sum_of_MSE_theta_1 += (((theta_0 +(theta_1* x[counter])) - y[counter]) *   x[counter]   ) \n",
    "            \n",
    "            \n",
    "            \n",
    "            \n",
    "            #Update the value of theta_0\n",
    "            new_theta_0 =  theta_0 - ((alpha * avg) * sum_of_MSE_theta_0)\n",
    "            list_of_theta_0s.append(new_theta_0)\n",
    "            \n",
    "            #Update the value of theta_1\n",
    "            new_theta_1 =  theta_1 - ((alpha * avg) * sum_of_MSE_theta_1)\n",
    "            list_of_theta_1s.append(new_theta_1)\n",
    "            \n",
    "            \n",
    "            new_mean_squared_error = sum([(theta_0 + (theta_1*x[i]) - y[i])**2 for i in range(len(x))])\n",
    "            list_of_errors.append(mean_squared_error)\n",
    "            if abs(new_mean_squared_error-mean_squared_error) <= tolerance:\n",
    "                return new_theta_0,new_theta_1,list_of_theta_0s,list_of_theta_1s,list_of_errors,i\n",
    "            mean_squred_error = new_mean_squared_error\n",
    "            theta_0 = new_theta_0\n",
    "            theta_1 = new_theta_1\n",
    "            i+=1\n",
    "            \n",
    "            \n",
    "        return new_theta_0,new_theta_1,list_of_theta_0s,list_of_theta_1s,list_of_errors,i\n",
    "      \n",
    "        "
   ]
  },
  {
   "cell_type": "code",
   "execution_count": 132,
   "id": "acca0977",
   "metadata": {},
   "outputs": [],
   "source": [
    "mse_theta_0,mse_theta_1,list_of_thetha_0s,list_of_theta_1s,list_of_errors,i = gradient_descent(x_set,y_set,0.001,0.0001,1000,theta_0=0,theta_1=1)"
   ]
  },
  {
   "cell_type": "code",
   "execution_count": 133,
   "id": "e9726484",
   "metadata": {},
   "outputs": [],
   "source": [
    "#Let's graph this line that was generated by MSE + Gradient Descent\n",
    "\n",
    "list_to_plot = [mse_theta_0 + mse_theta_1 * x for x in x_set]"
   ]
  },
  {
   "cell_type": "code",
   "execution_count": 143,
   "id": "2c689451",
   "metadata": {},
   "outputs": [
    {
     "data": {
      "text/plain": [
       "0.0502"
      ]
     },
     "execution_count": 143,
     "metadata": {},
     "output_type": "execute_result"
    }
   ],
   "source": [
    "mse_theta_0"
   ]
  },
  {
   "cell_type": "code",
   "execution_count": 144,
   "id": "18793d34",
   "metadata": {},
   "outputs": [
    {
     "data": {
      "text/plain": [
       "1.8128000000000002"
      ]
     },
     "execution_count": 144,
     "metadata": {},
     "output_type": "execute_result"
    }
   ],
   "source": [
    "mse_theta_1"
   ]
  },
  {
   "cell_type": "code",
   "execution_count": 134,
   "id": "faee54a3",
   "metadata": {},
   "outputs": [
    {
     "data": {
      "text/plain": [
       "<matplotlib.collections.PathCollection at 0x23f148ae5b0>"
      ]
     },
     "execution_count": 134,
     "metadata": {},
     "output_type": "execute_result"
    },
    {
     "data": {
      "image/png": "[encoded data removed]",
      "text/plain": [
       "<Figure size 432x288 with 1 Axes>"
      ]
     },
     "metadata": {
      "needs_background": "light"
     },
     "output_type": "display_data"
    }
   ],
   "source": [
    "plt.plot(x_set,list_to_plot,color='red')\n",
    "plt.scatter(x_set,y_set)"
   ]
  },
  {
   "cell_type": "markdown",
   "id": "fc512c0a",
   "metadata": {},
   "source": [
    "We can see that we've generated a line that doesn't really give us a good look at our data set. Now, we could easily just remove the outliers, and call it a day, but what happens if we come across outliers that can't be easily removed? We need some way to create a predictive algorithm that allows for these outliers."
   ]
  },
  {
   "cell_type": "markdown",
   "id": "a524dd8f",
   "metadata": {},
   "source": [
    "# Alternative Cost Functions"
   ]
  },
  {
   "cell_type": "markdown",
   "id": "eda2f9b6",
   "metadata": {},
   "source": [
    "Our issue here is that our cost function is squaring the error. This means that the error generated by outliers is so large, that in order the minimize overall error(remember it's mean), we have to have the line pulled in that direction. This has a huge impact on the reliability of our model. One other cost function that we can apply is called MAE."
   ]
  },
  {
   "cell_type": "markdown",
   "id": "b68143a9",
   "metadata": {},
   "source": [
    "# Mean Absolute Error"
   ]
  },
  {
   "cell_type": "markdown",
   "id": "fedf8b04",
   "metadata": {},
   "source": [
    "    In this cost function we are going to use the MAE to calculate the line of best fit.\n",
    "    This is called L1 Loss. This is the appropriate estimator to use when we have outliers, or a ton of noise."
   ]
  },
  {
   "cell_type": "markdown",
   "id": "b7826376",
   "metadata": {},
   "source": [
    "### Loss function"
   ]
  },
  {
   "cell_type": "markdown",
   "id": "be232c59",
   "metadata": {},
   "source": [
    "$|Y_{predicted}-Y_{actual}|$"
   ]
  },
  {
   "cell_type": "markdown",
   "id": "37a47bca",
   "metadata": {},
   "source": [
    "This is going to serve as our Loss function instead of the MSE."
   ]
  },
  {
   "cell_type": "markdown",
   "id": "2d05225f",
   "metadata": {},
   "source": [
    "### Cost Function"
   ]
  },
  {
   "cell_type": "markdown",
   "id": "7182c832",
   "metadata": {},
   "source": [
    "$MAE = \\frac{1}{m}\\sum^{m}_{i=0}|Y^{i}_{predicted}-Y^{i}_{actual}|$"
   ]
  },
  {
   "cell_type": "code",
   "execution_count": 139,
   "id": "7ca9894e",
   "metadata": {},
   "outputs": [],
   "source": [
    "def gradient_descent_with_MAE(x,y,alpha,tolerance,iterations,theta_0=0,theta_1=0):\n",
    "    avg = 1/(len(x))\n",
    "    \n",
    "    total_error = sum([abs(theta_0+(theta_1*x[i]) -y[i]) for i in range(len(x))])\n",
    "    \n",
    "    for i in range(0,iterations):\n",
    "        \n",
    "        sum_of_theta_1s = 0\n",
    "        sum_of_theta_0s = 0\n",
    "        \n",
    "        for i in range(0,len(x)):\n",
    "            \n",
    "            sum_of_theta_1s += -x[i] * ((y[i]-(theta_1*x[i] + theta_0))/(abs(y[i]-(theta_1*x[i]-theta_0))))\n",
    "            sum_of_theta_0s += -((y[i]-(theta_1*x[i] + theta_0))/(abs(y[i]-(theta_1*x[i]-theta_0))))\n",
    "        \n",
    "        new_theta_1 = theta_1 - (avg * sum_of_theta_1s * alpha)\n",
    "        new_theta_0 = theta_0 - (avg * sum_of_theta_0s * alpha)\n",
    "        \n",
    "        new_total_error = sum([abs(new_theta_0 + (new_theta_1*x[i]) - y[i]) for i in range(len(x))])\n",
    "        \n",
    "        if abs(total_error-new_total_error) <= tolerance:\n",
    "            return new_theta_0,new_theta_1\n",
    "        \n",
    "        total_error = new_total_error\n",
    "        theta_0 = new_theta_0\n",
    "        theta_1 = new_theta_1\n",
    "        \n",
    "    return new_theta_0,new_theta_1"
   ]
  },
  {
   "cell_type": "code",
   "execution_count": 140,
   "id": "4dd0de15",
   "metadata": {},
   "outputs": [],
   "source": [
    "mae_theta_0,mae_theta_1 = gradient_descent_with_MAE(x_set,y_set,0.001,0.001,1000,theta_0=0,theta_1=0)"
   ]
  },
  {
   "cell_type": "code",
   "execution_count": 141,
   "id": "f29a2267",
   "metadata": {},
   "outputs": [],
   "source": [
    "list_to_plot = [mae_theta_0 + mae_theta_1 * x for x in x_set]"
   ]
  },
  {
   "cell_type": "code",
   "execution_count": 142,
   "id": "1d1d3ac5",
   "metadata": {},
   "outputs": [
    {
     "data": {
      "text/plain": [
       "<matplotlib.collections.PathCollection at 0x23f146be550>"
      ]
     },
     "execution_count": 142,
     "metadata": {},
     "output_type": "execute_result"
    },
    {
     "data": {
      "image/png": "[encoded data removed]",
      "text/plain": [
       "<Figure size 432x288 with 1 Axes>"
      ]
     },
     "metadata": {
      "needs_background": "light"
     },
     "output_type": "display_data"
    }
   ],
   "source": [
    "plt.plot(x_set,list_to_plot,color='red')\n",
    "plt.scatter(x_set,y_set)"
   ]
  },
  {
   "cell_type": "code",
   "execution_count": 120,
   "id": "4885b294",
   "metadata": {},
   "outputs": [
    {
     "data": {
      "text/plain": [
       "0.09512418381760417"
      ]
     },
     "execution_count": 120,
     "metadata": {},
     "output_type": "execute_result"
    }
   ],
   "source": [
    "mae_theta_0"
   ]
  },
  {
   "cell_type": "code",
   "execution_count": 121,
   "id": "b36f0e41",
   "metadata": {},
   "outputs": [
    {
     "data": {
      "text/plain": [
       "0.9982481558882396"
      ]
     },
     "execution_count": 121,
     "metadata": {},
     "output_type": "execute_result"
    }
   ],
   "source": [
    "mae_theta_1"
   ]
  },
  {
   "cell_type": "code",
   "execution_count": null,
   "id": "238a7736",
   "metadata": {},
   "outputs": [],
   "source": []
  },
  {
   "cell_type": "markdown",
   "id": "77b7092c",
   "metadata": {},
   "source": [
    "### Now we have a predictor line that is more robust to outliers. We can see though, that we do lose quite a bit accuracy in termsof outliers. We have opened ourself up to another issue though. One that occurs in special cases."
   ]
  },
  {
   "cell_type": "code",
   "execution_count": 145,
   "id": "f29d1a2c",
   "metadata": {},
   "outputs": [],
   "source": [
    "x_set_test = [1,2,3,4,5,6,7,8,9,10,11,12,13,14,15,16,17,18,19,20]\n",
    "y_set_test = [1,2,3,4,30,1,7,20,40,10,11,12,400,14,30,16,80,18,10,500]"
   ]
  },
  {
   "cell_type": "code",
   "execution_count": 146,
   "id": "9c51a49f",
   "metadata": {},
   "outputs": [],
   "source": [
    "mae_theta_0,mae_theta_1 = gradient_descent_with_MAE(x_set,y_set,0.001,0.001,1000,theta_0=0,theta_1=0)"
   ]
  },
  {
   "cell_type": "code",
   "execution_count": null,
   "id": "cd8e29c4",
   "metadata": {},
   "outputs": [],
   "source": []
  },
  {
   "cell_type": "code",
   "execution_count": null,
   "id": "e5bc7cc8",
   "metadata": {},
   "outputs": [],
   "source": []
  },
  {
   "cell_type": "markdown",
   "id": "da65d53c",
   "metadata": {},
   "source": [
    "# Huber Loss\n"
   ]
  },
  {
   "cell_type": "markdown",
   "id": "9eec4c6c",
   "metadata": {},
   "source": [
    "Huber M combines the Robustness at the outside, with the ability to be differentiated in the zero cases. It introduces\n",
    "some hyperparameter Delta. Delta allows us to tell huber Loss when to use squared, and when to use absolute."
   ]
  },
  {
   "cell_type": "code",
   "execution_count": null,
   "id": "7278b0f3",
   "metadata": {},
   "outputs": [],
   "source": [
    "https://scikit-learn.org/stable/modules/generated/sklearn.linear_model.SGDRegressor.html#sklearn.linear_model.SGDRegressor"
   ]
  },
  {
   "cell_type": "code",
   "execution_count": 147,
   "id": "51c226b9",
   "metadata": {},
   "outputs": [],
   "source": [
    "from sklearn.linear_model import SGDRegressor\n"
   ]
  },
  {
   "cell_type": "code",
   "execution_count": 175,
   "id": "abcaadee",
   "metadata": {},
   "outputs": [],
   "source": [
    "SGDR = SGDRegressor(loss='huber',penalty=None,alpha=0.0001,max_iter=1000,epsilon=0.1)"
   ]
  },
  {
   "cell_type": "code",
   "execution_count": 176,
   "id": "31d563a8",
   "metadata": {},
   "outputs": [],
   "source": [
    "x_set_test = [[1],[2],[3],[4],[5],[6],[7],[8],[9],[10],[11],[12],[13],[14],[15],[16],[17],[18],[19],[20]]\n",
    "y_set_test = [1,2,3,4,30,1,7,20,40,10,11,12,400,14,30,16,80,18,10,500]"
   ]
  },
  {
   "cell_type": "code",
   "execution_count": 177,
   "id": "fa12fb4b",
   "metadata": {},
   "outputs": [
    {
     "data": {
      "text/plain": [
       "SGDRegressor(loss='huber', penalty=None)"
      ]
     },
     "execution_count": 177,
     "metadata": {},
     "output_type": "execute_result"
    }
   ],
   "source": [
    "SGDR.fit(x_set_test,y_set_test)"
   ]
  },
  {
   "cell_type": "code",
   "execution_count": 178,
   "id": "1c2cb77f",
   "metadata": {
    "scrolled": true
   },
   "outputs": [
    {
     "data": {
      "text/plain": [
       "array([0.99615878])"
      ]
     },
     "execution_count": 178,
     "metadata": {},
     "output_type": "execute_result"
    }
   ],
   "source": [
    "SGDR.coef_"
   ]
  },
  {
   "cell_type": "code",
   "execution_count": 179,
   "id": "bc7db73d",
   "metadata": {},
   "outputs": [
    {
     "data": {
      "text/plain": [
       "array([0.09041235])"
      ]
     },
     "execution_count": 179,
     "metadata": {},
     "output_type": "execute_result"
    }
   ],
   "source": [
    "SGDR.intercept_"
   ]
  },
  {
   "cell_type": "code",
   "execution_count": 180,
   "id": "d9f15a44",
   "metadata": {},
   "outputs": [
    {
     "data": {
      "text/plain": [
       "array([29.97517574])"
      ]
     },
     "execution_count": 180,
     "metadata": {},
     "output_type": "execute_result"
    }
   ],
   "source": [
    "SGDR.predict([[30]])"
   ]
  },
  {
   "cell_type": "code",
   "execution_count": null,
   "id": "c4c21b13",
   "metadata": {},
   "outputs": [],
   "source": []
  }
 ],
 "metadata": {
  "kernelspec": {
   "display_name": "Python 3",
   "language": "python",
   "name": "python3"
  },
  "language_info": {
   "codemirror_mode": {
    "name": "ipython",
    "version": 3
   },
   "file_extension": ".py",
   "mimetype": "text/x-python",
   "name": "python",
   "nbconvert_exporter": "python",
   "pygments_lexer": "ipython3",
   "version": "3.9.1"
  }
 },
 "nbformat": 4,
 "nbformat_minor": 5
}

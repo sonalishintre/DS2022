{
 "cells": [
  {
   "cell_type": "code",
   "execution_count": 12,
   "id": "88b68f13",
   "metadata": {},
   "outputs": [],
   "source": [
    "import math\n",
    "import matplotlib.pyplot as plt"
   ]
  },
  {
   "cell_type": "code",
   "execution_count": 5,
   "id": "c72f70de",
   "metadata": {},
   "outputs": [],
   "source": [
    "def naive_gradient_descent(x_set,y_set,alpha,tolerance,iterations,theta_1=0):\n",
    "    list_of_thetas = [0]\n",
    "    \n",
    "    for i in range(0,iterations):\n",
    "        \n",
    "        \n",
    "        \n",
    "        #represents our 1 over m component\n",
    "        avg = 1/(len(x_set))\n",
    "        \n",
    "        \n",
    "        \n",
    "        #Initialize the sum of the MSE\n",
    "        sum_of_MSE = 0\n",
    "        \n",
    "        #Get the sum of the MSE\n",
    "        for counter,value in enumerate(x_set):\n",
    "            sum_of_MSE += (( (theta_1 *x_set[counter]) - y_set[counter])*x_set[counter])\n",
    "        \n",
    "        \n",
    "        #Calculate the new value of theta_1\n",
    "        new_theta_1 = theta_1 - (alpha * avg * sum_of_MSE)\n",
    "        \n",
    "        \n",
    "        #Add the new theta to the list of theta\n",
    "        list_of_thetas.append(new_theta_1)\n",
    "        \n",
    "        \n",
    "        #breaks the function if convergence is reached\n",
    "        if abs(theta_1-new_theta_1) <= tolerance:\n",
    "            return new_theta_1,list_of_thetas\n",
    "        \n",
    "        theta_1 = new_theta_1\n",
    "        \n",
    "        \n",
    "    return new_theta_1,list_of_thetas"
   ]
  },
  {
   "cell_type": "code",
   "execution_count": 7,
   "id": "d2df22ba",
   "metadata": {},
   "outputs": [
    {
     "data": {
      "text/plain": [
       "(0.9999962585558084,\n",
       " [0,\n",
       "  0.2,\n",
       "  0.36,\n",
       "  0.488,\n",
       "  0.5904,\n",
       "  0.67232,\n",
       "  0.7378560000000001,\n",
       "  0.7902848,\n",
       "  0.83222784,\n",
       "  0.865782272,\n",
       "  0.8926258176,\n",
       "  0.9141006540800001,\n",
       "  0.931280523264,\n",
       "  0.9450244186112,\n",
       "  0.95601953488896,\n",
       "  0.9648156279111679,\n",
       "  0.9718525023289344,\n",
       "  0.9774820018631475,\n",
       "  0.981985601490518,\n",
       "  0.9855884811924144,\n",
       "  0.9884707849539315,\n",
       "  0.9907766279631451,\n",
       "  0.9926213023705162,\n",
       "  0.9940970418964129,\n",
       "  0.9952776335171303,\n",
       "  0.9962221068137043,\n",
       "  0.9969776854509634,\n",
       "  0.9975821483607707,\n",
       "  0.9980657186886166,\n",
       "  0.9984525749508932,\n",
       "  0.9987620599607145,\n",
       "  0.9990096479685716,\n",
       "  0.9992077183748573,\n",
       "  0.9993661746998859,\n",
       "  0.9994929397599087,\n",
       "  0.999594351807927,\n",
       "  0.9996754814463416,\n",
       "  0.9997403851570732,\n",
       "  0.9997923081256586,\n",
       "  0.9998338465005269,\n",
       "  0.9998670772004215,\n",
       "  0.9998936617603371,\n",
       "  0.9999149294082696,\n",
       "  0.9999319435266157,\n",
       "  0.9999455548212925,\n",
       "  0.9999564438570341,\n",
       "  0.9999651550856272,\n",
       "  0.9999721240685018,\n",
       "  0.9999776992548014,\n",
       "  0.9999821594038412,\n",
       "  0.9999857275230729,\n",
       "  0.9999885820184583,\n",
       "  0.9999908656147667,\n",
       "  0.9999926924918133,\n",
       "  0.9999941539934507,\n",
       "  0.9999953231947606,\n",
       "  0.9999962585558084])"
      ]
     },
     "execution_count": 7,
     "metadata": {},
     "output_type": "execute_result"
    }
   ],
   "source": [
    " naive_gradient_descent([1,2,3,4,5,6,7],[1,2,3,4,5,6,7],0.01,0.000001,1000)"
   ]
  },
  {
   "cell_type": "code",
   "execution_count": 18,
   "id": "6a5570d0",
   "metadata": {},
   "outputs": [],
   "source": [
    "x,y = naive_gradient_descent([1,2,3,4,5,6,7],[1,2,3,4,5,6,7],0.01,0.000001,1000,theta_1=2)"
   ]
  },
  {
   "cell_type": "code",
   "execution_count": 19,
   "id": "5f1bd541",
   "metadata": {},
   "outputs": [
    {
     "data": {
      "text/plain": [
       "[0,\n",
       " 1.8,\n",
       " 1.6400000000000001,\n",
       " 1.512,\n",
       " 1.4096,\n",
       " 1.32768,\n",
       " 1.262144,\n",
       " 1.2097152,\n",
       " 1.16777216,\n",
       " 1.1342177279999999,\n",
       " 1.1073741823999999,\n",
       " 1.08589934592,\n",
       " 1.068719476736,\n",
       " 1.0549755813888,\n",
       " 1.04398046511104,\n",
       " 1.035184372088832,\n",
       " 1.0281474976710656,\n",
       " 1.0225179981368524,\n",
       " 1.0180143985094818,\n",
       " 1.0144115188075855,\n",
       " 1.0115292150460684,\n",
       " 1.0092233720368546,\n",
       " 1.0073786976294836,\n",
       " 1.005902958103587,\n",
       " 1.0047223664828695,\n",
       " 1.0037778931862955,\n",
       " 1.0030223145490365,\n",
       " 1.0024178516392293,\n",
       " 1.0019342813113834,\n",
       " 1.0015474250491068,\n",
       " 1.0012379400392855,\n",
       " 1.0009903520314283,\n",
       " 1.0007922816251427,\n",
       " 1.0006338253001141,\n",
       " 1.0005070602400914,\n",
       " 1.0004056481920731,\n",
       " 1.0003245185536584,\n",
       " 1.0002596148429268,\n",
       " 1.0002076918743414,\n",
       " 1.0001661534994732,\n",
       " 1.0001329227995785,\n",
       " 1.0001063382396629,\n",
       " 1.0000850705917304,\n",
       " 1.0000680564733844,\n",
       " 1.0000544451787075,\n",
       " 1.000043556142966,\n",
       " 1.0000348449143728,\n",
       " 1.0000278759314982,\n",
       " 1.0000223007451985,\n",
       " 1.0000178405961588,\n",
       " 1.000014272476927,\n",
       " 1.0000114179815416,\n",
       " 1.0000091343852333,\n",
       " 1.0000073075081866,\n",
       " 1.0000058460065493,\n",
       " 1.0000046768052395,\n",
       " 1.0000037414441916]"
      ]
     },
     "execution_count": 19,
     "metadata": {},
     "output_type": "execute_result"
    }
   ],
   "source": [
    "y"
   ]
  },
  {
   "cell_type": "code",
   "execution_count": 20,
   "id": "04499246",
   "metadata": {},
   "outputs": [
    {
     "data": {
      "text/plain": [
       "[<matplotlib.lines.Line2D at 0x273ae4c0dc0>]"
      ]
     },
     "execution_count": 20,
     "metadata": {},
     "output_type": "execute_result"
    },
    {
     "data": {
      "image/png": "[encoded data removed]",
      "text/plain": [
       "<Figure size 432x288 with 1 Axes>"
      ]
     },
     "metadata": {
      "needs_background": "light"
     },
     "output_type": "display_data"
    }
   ],
   "source": [
    "plt.plot([x for x in range(len(y))], y )"
   ]
  },
  {
   "cell_type": "code",
   "execution_count": null,
   "id": "04eadae6",
   "metadata": {},
   "outputs": [],
   "source": []
  }
 ],
 "metadata": {
  "kernelspec": {
   "display_name": "Python 3",
   "language": "python",
   "name": "python3"
  },
  "language_info": {
   "codemirror_mode": {
    "name": "ipython",
    "version": 3
   },
   "file_extension": ".py",
   "mimetype": "text/x-python",
   "name": "python",
   "nbconvert_exporter": "python",
   "pygments_lexer": "ipython3",
   "version": "3.9.1"
  }
 },
 "nbformat": 4,
 "nbformat_minor": 5
}

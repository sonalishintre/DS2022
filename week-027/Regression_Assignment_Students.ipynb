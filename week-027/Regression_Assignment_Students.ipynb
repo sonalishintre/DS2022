{
 "cells": [
  {
   "cell_type": "markdown",
   "id": "9d74b4e3",
   "metadata": {},
   "source": [
    "# Question 1"
   ]
  },
  {
   "cell_type": "markdown",
   "id": "d6b58907",
   "metadata": {},
   "source": [
    "    Define Gradient Descent using your own words."
   ]
  },
  {
   "cell_type": "code",
   "execution_count": null,
   "id": "0a03465c",
   "metadata": {},
   "outputs": [],
   "source": []
  },
  {
   "cell_type": "markdown",
   "id": "fbfc4c6c",
   "metadata": {},
   "source": [
    "# Question 2"
   ]
  },
  {
   "cell_type": "markdown",
   "id": "fedf0ba0",
   "metadata": {},
   "source": [
    "    Define what a loss function is, and what it is used for."
   ]
  },
  {
   "cell_type": "code",
   "execution_count": null,
   "id": "c10c2d81",
   "metadata": {},
   "outputs": [],
   "source": []
  },
  {
   "cell_type": "markdown",
   "id": "60c700ae",
   "metadata": {},
   "source": [
    "# Question 3"
   ]
  },
  {
   "cell_type": "markdown",
   "id": "76fb3455",
   "metadata": {},
   "source": [
    "    We talked about 3 common loss functions. Please write down the loss function, the cost function built out of the loss function, and the benfits and negatives of using a particular loss function. Remember, loss function is the measure of error at a singular point, the COST is the measure of error across the entire dataset."
   ]
  },
  {
   "cell_type": "markdown",
   "id": "c44d153f",
   "metadata": {},
   "source": [
    "### L1 Loss"
   ]
  },
  {
   "cell_type": "code",
   "execution_count": null,
   "id": "ad6873e3",
   "metadata": {},
   "outputs": [],
   "source": []
  },
  {
   "cell_type": "markdown",
   "id": "5ea47cd2",
   "metadata": {},
   "source": [
    "### L2 Loss"
   ]
  },
  {
   "cell_type": "code",
   "execution_count": null,
   "id": "fc81ceae",
   "metadata": {},
   "outputs": [],
   "source": []
  },
  {
   "cell_type": "markdown",
   "id": "a35b20d0",
   "metadata": {},
   "source": [
    "### Huber Loss"
   ]
  },
  {
   "cell_type": "code",
   "execution_count": null,
   "id": "12474388",
   "metadata": {},
   "outputs": [],
   "source": []
  },
  {
   "cell_type": "markdown",
   "id": "ac0acb04",
   "metadata": {},
   "source": [
    "# Question 4"
   ]
  },
  {
   "cell_type": "markdown",
   "id": "01a2f7a0",
   "metadata": {},
   "source": [
    "    Why is Stochastic Gradient Descent preferable to Batch Gradient Descent?"
   ]
  },
  {
   "cell_type": "code",
   "execution_count": null,
   "id": "6bc0c547",
   "metadata": {},
   "outputs": [],
   "source": []
  },
  {
   "cell_type": "markdown",
   "id": "46d3e50c",
   "metadata": {},
   "source": [
    "# Question 5"
   ]
  },
  {
   "cell_type": "markdown",
   "id": "f855c565",
   "metadata": {},
   "source": [
    "    There are four assumptions about our data before we do linear regression. What are they?"
   ]
  },
  {
   "cell_type": "code",
   "execution_count": null,
   "id": "96404254",
   "metadata": {},
   "outputs": [],
   "source": []
  },
  {
   "cell_type": "markdown",
   "id": "dc8a1bb3",
   "metadata": {},
   "source": [
    "# Question 6"
   ]
  },
  {
   "cell_type": "markdown",
   "id": "44d4aec0",
   "metadata": {},
   "source": [
    "    Using SKLearn, create three Regression Lines for the x's and y's provided. Use the three different cost functions.\n",
    "    \n",
    "    Create a plot that shows your Regression Lines plotted against the data set. \n",
    "    (hint: Remember, you can get theta_0 and theta_1 from your SGDRegressor. Use that to build out your line.)"
   ]
  },
  {
   "cell_type": "code",
   "execution_count": 547,
   "id": "2c62b85f",
   "metadata": {},
   "outputs": [],
   "source": [
    "from sklearn.linear_model import SGDRegressor"
   ]
  },
  {
   "cell_type": "code",
   "execution_count": 514,
   "id": "f5cac625",
   "metadata": {},
   "outputs": [],
   "source": [
    "x_set_to_use = [[83],[42],[23],[54],[57],[69],[47],[69],[80],[41],[24],[11],[4],[52],[39],[43],[19],[53],[1],[18],[10],[11],[78],[66]]"
   ]
  },
  {
   "cell_type": "code",
   "execution_count": 515,
   "id": "b4a8d016",
   "metadata": {},
   "outputs": [],
   "source": [
    "y_set_to_use = [19,73,51,54,47,48,37,15,4,89,50,88,91,77,57,36,96,61,91,71,87,99,11,39]"
   ]
  }
 ],
 "metadata": {
  "kernelspec": {
   "display_name": "Python 3",
   "language": "python",
   "name": "python3"
  },
  "language_info": {
   "codemirror_mode": {
    "name": "ipython",
    "version": 3
   },
   "file_extension": ".py",
   "mimetype": "text/x-python",
   "name": "python",
   "nbconvert_exporter": "python",
   "pygments_lexer": "ipython3",
   "version": "3.9.1"
  }
 },
 "nbformat": 4,
 "nbformat_minor": 5
}

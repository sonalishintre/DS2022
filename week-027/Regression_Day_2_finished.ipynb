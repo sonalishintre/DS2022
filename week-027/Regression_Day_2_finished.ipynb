{
 "cells": [
  {
   "cell_type": "code",
   "execution_count": 17,
   "id": "da6d880b",
   "metadata": {},
   "outputs": [],
   "source": [
    "def naive_gradient_descent_with_MSE(x,y,alpha=0.001,iterations=1000,tolerance=0.0001,theta_1=0):\n",
    "    \n",
    "    #this represents 1/m\n",
    "    avg = 1/(len(x))\n",
    "    \n",
    "    # Set up our loop to handle the case where we fail to converge\n",
    "    for i in range(iterations):\n",
    "        \n",
    "        # Start the process for calculating the Mean Squared Error\n",
    "        MSE = 0\n",
    "        \n",
    "        for counter in range(len(x)):            \n",
    "            MSE +=  ( (theta_1 * x[counter]) - y[counter]) * x[counter]\n",
    "        \n",
    "        #update theta        \n",
    "        new_theta_1 = theta_1 -(alpha*avg*MSE)\n",
    "        \n",
    "        #If we converge, break the loop\n",
    "        if abs(theta_1-new_theta_1) < tolerance:\n",
    "            return new_theta_1\n",
    "        \n",
    "        #update the values of theta\n",
    "        theta_1 = new_theta_1\n",
    "        \n",
    "    #if we don't converge, we need to handle it\n",
    "    print('Failed to converge')\n",
    "    "
   ]
  },
  {
   "cell_type": "code",
   "execution_count": 18,
   "id": "963832d4",
   "metadata": {},
   "outputs": [],
   "source": [
    "test_set_x = [i for i in range(1,11)]\n",
    "test_set_y = [i for i in range(1,11)]"
   ]
  },
  {
   "cell_type": "code",
   "execution_count": 21,
   "id": "fd9b31be",
   "metadata": {},
   "outputs": [
    {
     "data": {
      "text/plain": [
       "0.9998416011282122"
      ]
     },
     "execution_count": 21,
     "metadata": {},
     "output_type": "execute_result"
    }
   ],
   "source": [
    "naive_gradient_descent_with_MSE(test_set_x,test_set_y,alpha=0.01,tolerance=0.0001)"
   ]
  },
  {
   "cell_type": "markdown",
   "id": "a73d288d",
   "metadata": {},
   "source": [
    "# True cost function"
   ]
  },
  {
   "cell_type": "markdown",
   "id": "3dc6743e",
   "metadata": {},
   "source": [
    "$\\textbf{Cost function: }$ $J_{(\\theta_0,\\theta_1)} = \\frac{1}{m}\\sum\\limits_{i=1}^{m}(Y_{true}^{(i)}-Y_{predicted}^{(i)})^{2}$"
   ]
  },
  {
   "cell_type": "markdown",
   "id": "eb2d49ef",
   "metadata": {},
   "source": [
    "$\\textbf{Cost function: }$ $J_{(\\theta_0,\\theta_1)} = \\frac{1}{2m}\\sum\\limits_{i=1}^{m}(y^{(i)}-h_{\\theta}(x^{(i)}))^{2}$"
   ]
  },
  {
   "cell_type": "markdown",
   "id": "b6658ce4",
   "metadata": {},
   "source": [
    "# Partial Derivative of $\\theta_{1}$"
   ]
  },
  {
   "cell_type": "markdown",
   "id": "86d9aa58",
   "metadata": {},
   "source": [
    "$\\frac{\\partial}{\\partial_{\\theta_{1}}}J(\\theta_{0},\\theta_{1})$ = $\\frac{1}{m}\\sum^{m}_{i=1}(h_{\\theta}(x^{(i)})-y^{(i)}) * x^{(i)}$"
   ]
  },
  {
   "cell_type": "markdown",
   "id": "76f426fd",
   "metadata": {},
   "source": [
    "$\\frac{\\partial}{\\partial_{\\theta_{1}}}J(\\theta_{0},\\theta_{1})$ = $\\frac{1}{m}\\sum^{m}_{i=1}((\\theta_{0}+\\theta_1x^{(i)})-y^{(i)}) * x^{(i)}$"
   ]
  },
  {
   "cell_type": "markdown",
   "id": "9774d808",
   "metadata": {},
   "source": [
    "# Partial Derivative of $\\theta_{0}$"
   ]
  },
  {
   "cell_type": "markdown",
   "id": "e3bdde09",
   "metadata": {},
   "source": [
    "$\\frac{\\partial}{\\partial_{\\theta_{0}}}J(\\theta_{0},\\theta_{1})$ = $\\frac{1}{m}\\sum^{m}_{i=1}((\\theta_{0}+\\theta_1x^{(i)})-y^{(i)})$"
   ]
  },
  {
   "cell_type": "code",
   "execution_count": 39,
   "id": "dc54a80c",
   "metadata": {},
   "outputs": [],
   "source": [
    "def gradient_descent_with_MSE(x,y,alpha=0.001,iterations=1000,tolerance=0.0001,theta_0=0,theta_1=0):\n",
    "    \n",
    "    #define the average \n",
    "    avg = 1/(len(x))\n",
    "    total_error = sum([(theta_0 + (theta_1*x[i]) - y[i])**2 for i in range(len(x))])\n",
    "    \n",
    "    # Set up our loop to handle the case where we fail to converge\n",
    "    for i in range(iterations):\n",
    "        \n",
    "        \n",
    "        \n",
    "        MSE_theta_0 = 0\n",
    "        MSE_theta_1 = 0\n",
    "        \n",
    "        \n",
    "        for counter in range(len(x)):            \n",
    "            MSE_theta_1 +=   ((theta_0 + theta_1 * x[counter]) - y[counter]) * x[counter]\n",
    "        for counter in range(len(x)):            \n",
    "            MSE_theta_0 +=   ((theta_0 + theta_1 * x[counter]) - y[counter])\n",
    "            \n",
    "        new_theta_1 = theta_1 - ( alpha * avg* MSE_theta_1)\n",
    "        new_theta_0 = theta_0 - (alpha * avg * MSE_theta_0)\n",
    "        \n",
    "        new_total_error = sum([(new_theta_0 + (new_theta_1*x[i]) - y[i])**2 for i in range(len(x))])\n",
    "        \n",
    "        if abs(total_error-new_total_error) <=tolerance:\n",
    "            return new_theta_0,new_theta_1,i\n",
    "        total_error = new_total_error\n",
    "        theta_0 = new_theta_0\n",
    "        theta_1 = new_theta_1\n",
    "    \n",
    "    \n",
    "    return new_theta_0,new_theta_1"
   ]
  },
  {
   "cell_type": "code",
   "execution_count": 40,
   "id": "966fd77a",
   "metadata": {},
   "outputs": [],
   "source": [
    "x_grad = [2,4,6,8,10,12,14,16,18,20] \n",
    "y_grad = [5,7,9,11,13,15,17,19,21,23]"
   ]
  },
  {
   "cell_type": "code",
   "execution_count": 44,
   "id": "6478750c",
   "metadata": {},
   "outputs": [
    {
     "data": {
      "text/plain": [
       "(2.9669717880244453, 1.0023624285269603, 2098)"
      ]
     },
     "execution_count": 44,
     "metadata": {},
     "output_type": "execute_result"
    }
   ],
   "source": [
    "gradient_descent_with_MSE(x_grad,y_grad,alpha=0.01,iterations=10000,tolerance=0.00001)"
   ]
  },
  {
   "cell_type": "code",
   "execution_count": 58,
   "id": "971627a5",
   "metadata": {},
   "outputs": [],
   "source": [
    "import random "
   ]
  },
  {
   "cell_type": "code",
   "execution_count": 154,
   "id": "06f72656",
   "metadata": {},
   "outputs": [],
   "source": [
    "def stochastic_descent_with_MSE(x,y,alpha=0.001,iterations=1000,tolerance=0.0001,theta_0=0,theta_1=0):\n",
    "    \n",
    "    #define the average \n",
    "    grabber = random.randint(0, len(x)-1 )  \n",
    "    total_error = (theta_0 + (theta_1*x[z]) - y[z])**2\n",
    "    \n",
    "    # Set up our loop to handle the case where we fail to converge\n",
    "    for i in range(iterations):\n",
    "        \n",
    "        grabber = random.randint(0, len(x)-1 )  \n",
    "        \n",
    "        MSE_theta_1 =   ((theta_0 + (theta_1 * x[grabber])) - y[grabber]) * x[grabber]         \n",
    "        MSE_theta_0 =   (theta_0 + (theta_1 * x[grabber])) - y[grabber]\n",
    "            \n",
    "        new_theta_1 = theta_1 - (alpha * MSE_theta_1)\n",
    "        new_theta_0 = theta_0 - (alpha *  MSE_theta_0)\n",
    "        \n",
    "        new_total_error = (new_theta_0 + (new_theta_1*x[grabber]) - y[grabber])**2\n",
    "        \n",
    "        if abs(total_error-new_total_error) <= tolerance:\n",
    "            return new_theta_0 ,new_theta_1\n",
    "        \n",
    "        \n",
    "        total_error = new_total_error\n",
    "        theta_0 = new_theta_0\n",
    "        theta_1 = new_theta_1\n",
    "    \n",
    "    \n",
    "    return new_theta_0,new_theta_1"
   ]
  },
  {
   "cell_type": "code",
   "execution_count": 155,
   "id": "7f42c5c2",
   "metadata": {},
   "outputs": [],
   "source": [
    "x_grad = [2,4,6,8,10,12,14,16,18,20] \n",
    "y_grad = [5,7,9,11,13,15,17,19,21,23]"
   ]
  },
  {
   "cell_type": "code",
   "execution_count": 156,
   "id": "6a8d93c3",
   "metadata": {},
   "outputs": [
    {
     "ename": "NameError",
     "evalue": "name 'z' is not defined",
     "output_type": "error",
     "traceback": [
      "\u001b[1;31m---------------------------------------------------------------------------\u001b[0m",
      "\u001b[1;31mNameError\u001b[0m                                 Traceback (most recent call last)",
      "\u001b[1;32m<ipython-input-156-d7d0d4a70fb9>\u001b[0m in \u001b[0;36m<module>\u001b[1;34m\u001b[0m\n\u001b[0;32m      2\u001b[0m \u001b[0my_avg\u001b[0m \u001b[1;33m=\u001b[0m \u001b[1;33m[\u001b[0m\u001b[1;33m]\u001b[0m\u001b[1;33m\u001b[0m\u001b[1;33m\u001b[0m\u001b[0m\n\u001b[0;32m      3\u001b[0m \u001b[1;32mfor\u001b[0m \u001b[0mi\u001b[0m \u001b[1;32min\u001b[0m \u001b[0mrange\u001b[0m\u001b[1;33m(\u001b[0m\u001b[1;36m0\u001b[0m\u001b[1;33m,\u001b[0m\u001b[1;36m100\u001b[0m\u001b[1;33m)\u001b[0m\u001b[1;33m:\u001b[0m\u001b[1;33m\u001b[0m\u001b[1;33m\u001b[0m\u001b[0m\n\u001b[1;32m----> 4\u001b[1;33m     \u001b[0mx\u001b[0m\u001b[1;33m,\u001b[0m\u001b[0my\u001b[0m \u001b[1;33m=\u001b[0m \u001b[0mstochastic_descent_with_MSE\u001b[0m\u001b[1;33m(\u001b[0m\u001b[0mx_grad\u001b[0m\u001b[1;33m,\u001b[0m\u001b[0my_grad\u001b[0m\u001b[1;33m,\u001b[0m\u001b[0malpha\u001b[0m\u001b[1;33m=\u001b[0m\u001b[1;36m0.01\u001b[0m\u001b[1;33m,\u001b[0m\u001b[0miterations\u001b[0m\u001b[1;33m=\u001b[0m\u001b[1;36m1000000\u001b[0m\u001b[1;33m,\u001b[0m\u001b[0mtolerance\u001b[0m\u001b[1;33m=\u001b[0m\u001b[1;36m0.0001\u001b[0m\u001b[1;33m)\u001b[0m\u001b[1;33m\u001b[0m\u001b[1;33m\u001b[0m\u001b[0m\n\u001b[0m\u001b[0;32m      5\u001b[0m     \u001b[0mx_avg\u001b[0m\u001b[1;33m.\u001b[0m\u001b[0mappend\u001b[0m\u001b[1;33m(\u001b[0m\u001b[0mx\u001b[0m\u001b[1;33m)\u001b[0m\u001b[1;33m\u001b[0m\u001b[1;33m\u001b[0m\u001b[0m\n\u001b[0;32m      6\u001b[0m     \u001b[0my_avg\u001b[0m\u001b[1;33m.\u001b[0m\u001b[0mappend\u001b[0m\u001b[1;33m(\u001b[0m\u001b[0my\u001b[0m\u001b[1;33m)\u001b[0m\u001b[1;33m\u001b[0m\u001b[1;33m\u001b[0m\u001b[0m\n",
      "\u001b[1;32m<ipython-input-154-c8fe12426c91>\u001b[0m in \u001b[0;36mstochastic_descent_with_MSE\u001b[1;34m(x, y, alpha, iterations, tolerance, theta_0, theta_1)\u001b[0m\n\u001b[0;32m      3\u001b[0m     \u001b[1;31m#define the average\u001b[0m\u001b[1;33m\u001b[0m\u001b[1;33m\u001b[0m\u001b[1;33m\u001b[0m\u001b[0m\n\u001b[0;32m      4\u001b[0m \u001b[1;33m\u001b[0m\u001b[0m\n\u001b[1;32m----> 5\u001b[1;33m     \u001b[0mtotal_error\u001b[0m \u001b[1;33m=\u001b[0m \u001b[1;33m(\u001b[0m\u001b[0mtheta_0\u001b[0m \u001b[1;33m+\u001b[0m \u001b[1;33m(\u001b[0m\u001b[0mtheta_1\u001b[0m\u001b[1;33m*\u001b[0m\u001b[0mx\u001b[0m\u001b[1;33m[\u001b[0m\u001b[0mz\u001b[0m\u001b[1;33m]\u001b[0m\u001b[1;33m)\u001b[0m \u001b[1;33m-\u001b[0m \u001b[0my\u001b[0m\u001b[1;33m[\u001b[0m\u001b[0mz\u001b[0m\u001b[1;33m]\u001b[0m\u001b[1;33m)\u001b[0m\u001b[1;33m**\u001b[0m\u001b[1;36m2\u001b[0m\u001b[1;33m\u001b[0m\u001b[1;33m\u001b[0m\u001b[0m\n\u001b[0m\u001b[0;32m      6\u001b[0m \u001b[1;33m\u001b[0m\u001b[0m\n\u001b[0;32m      7\u001b[0m     \u001b[1;31m# Set up our loop to handle the case where we fail to converge\u001b[0m\u001b[1;33m\u001b[0m\u001b[1;33m\u001b[0m\u001b[1;33m\u001b[0m\u001b[0m\n",
      "\u001b[1;31mNameError\u001b[0m: name 'z' is not defined"
     ]
    }
   ],
   "source": [
    "x_avg = []\n",
    "y_avg = []\n",
    "for i in range(0,100):\n",
    "    x,y = stochastic_descent_with_MSE(x_grad,y_grad,alpha=0.01,iterations=1000000,tolerance=0.0001)\n",
    "    x_avg.append(x)\n",
    "    y_avg.append(y)\n",
    "\n",
    "(sum(x_avg)/len(x_avg),sum(y_avg)/len(y_avg))"
   ]
  },
  {
   "cell_type": "code",
   "execution_count": null,
   "id": "b558ddd5",
   "metadata": {},
   "outputs": [],
   "source": []
  }
 ],
 "metadata": {
  "kernelspec": {
   "display_name": "Python 3",
   "language": "python",
   "name": "python3"
  },
  "language_info": {
   "codemirror_mode": {
    "name": "ipython",
    "version": 3
   },
   "file_extension": ".py",
   "mimetype": "text/x-python",
   "name": "python",
   "nbconvert_exporter": "python",
   "pygments_lexer": "ipython3",
   "version": "3.9.1"
  }
 },
 "nbformat": 4,
 "nbformat_minor": 5
}

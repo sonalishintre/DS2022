{
 "cells": [
  {
   "cell_type": "markdown",
   "id": "5b5ef78b",
   "metadata": {},
   "source": [
    "### You will be given a series of 20 problems.\n",
    "These 20 questions are real world, interview questions, and programming problems. There is no expectation of you to finish these 20 questions within the class. The expectation is that you work with your group to finish as many as you can. Focus on understanding, and working within a group for this assignment. All that is expected of you to hand in is the first 5 solved, by next Monday, the 24th. Please work through these problems in your own time, and try your best to master them"
   ]
  },
  {
   "cell_type": "markdown",
   "id": "fd1ddcb2",
   "metadata": {},
   "source": [
    "### Exercise 1:\n",
    "\n",
    "Given a list of positive integers of size, reverse every sub-array group of size K. Do not use built-ins.\n",
    "If the list cannot be reversed at all, return -1"
   ]
  },
  {
   "cell_type": "code",
   "execution_count": null,
   "id": "48856e23",
   "metadata": {},
   "outputs": [],
   "source": [
    "\n",
    "\n"
   ]
  },
  {
   "cell_type": "markdown",
   "id": "30a7a230",
   "metadata": {},
   "source": [
    "### Exercise 2:\n",
    "\n",
    "Given a list, write a function that returns true if there is a triplet (a, b, c) that satisfies a2 + b2 = c2, otherwise false.\n",
    "Do not use anything but sqrt, from that math library.\n"
   ]
  },
  {
   "cell_type": "code",
   "execution_count": null,
   "id": "2e1c3b8f",
   "metadata": {},
   "outputs": [],
   "source": []
  },
  {
   "cell_type": "markdown",
   "id": "c3aa6a26",
   "metadata": {},
   "source": [
    "### Exercise 3:\n",
    "\n",
    "Given a string S, find the longest palindromic substring in S. \n",
    "\n",
    "\n"
   ]
  },
  {
   "cell_type": "code",
   "execution_count": null,
   "id": "dffee421",
   "metadata": {},
   "outputs": [],
   "source": []
  },
  {
   "cell_type": "markdown",
   "id": "c9fa530f",
   "metadata": {},
   "source": [
    "### Exercise 4:\n",
    "\n",
    "Please create the code to make a linked list.\n",
    "\n",
    "\n",
    "Given a singly linked list of N nodes.\n",
    "The task is to find the middle of the linked list. For example, if the linked list is\n",
    "1-> 2->3->4->5, then the middle node of the list is 3.\n",
    "If there are two middle nodes(in case, when N is even), print the second middle element.\n",
    "For example, if the linked list given is 1->2->3->4->5->6, then the middle node of the list is 4."
   ]
  },
  {
   "cell_type": "code",
   "execution_count": null,
   "id": "81715cbe",
   "metadata": {},
   "outputs": [],
   "source": []
  },
  {
   "cell_type": "markdown",
   "id": "85cca66d",
   "metadata": {},
   "source": [
    "### Exercise 5:\n",
    "\n",
    "Given a Binary Tree, print Left view of it. Left view of a Binary Tree is set of nodes visible when tree is visited from Left side. The task is to complete the function leftView(), which accepts root of the tree as argument.\n",
    "\n",
    "Left view of following tree is 1 2 4 8."
   ]
  },
  {
   "cell_type": "code",
   "execution_count": null,
   "id": "671e5960",
   "metadata": {},
   "outputs": [],
   "source": []
  },
  {
   "cell_type": "markdown",
   "id": "871dbd55",
   "metadata": {},
   "source": [
    "### Exercise 6:\n",
    "\n",
    "Given two binary trees, the task is to find if both of them are identical or not. "
   ]
  },
  {
   "cell_type": "code",
   "execution_count": null,
   "id": "44fea93d",
   "metadata": {},
   "outputs": [],
   "source": []
  },
  {
   "cell_type": "markdown",
   "id": "6373ab77",
   "metadata": {},
   "source": [
    "### Exercise 7:\n",
    "\n",
    "Given a binary tree, find its height."
   ]
  },
  {
   "cell_type": "code",
   "execution_count": null,
   "id": "bde95fc7",
   "metadata": {},
   "outputs": [],
   "source": []
  },
  {
   "cell_type": "markdown",
   "id": "0c6dc161",
   "metadata": {},
   "source": [
    "### Exercise 8:\n",
    "\n",
    "What is heapsort? Implement the algorithm in python.\n"
   ]
  },
  {
   "cell_type": "code",
   "execution_count": null,
   "id": "2df1a6f6",
   "metadata": {},
   "outputs": [],
   "source": []
  },
  {
   "cell_type": "markdown",
   "id": "045504e9",
   "metadata": {},
   "source": [
    "### Exercise 9:\n",
    "\n",
    "Given K sorted linked lists of different sizes. The task is to merge them in such a way that after merging they will be a single sorted linked list."
   ]
  },
  {
   "cell_type": "code",
   "execution_count": null,
   "id": "dd037ef2",
   "metadata": {},
   "outputs": [],
   "source": []
  },
  {
   "cell_type": "markdown",
   "id": "fd980b30",
   "metadata": {},
   "source": [
    "### Exercise 10:\n",
    "Given an array of integers and another number. Find all the unique quadruple from the given array that sums up to the given number."
   ]
  },
  {
   "cell_type": "code",
   "execution_count": null,
   "id": "a32cbddf",
   "metadata": {},
   "outputs": [],
   "source": []
  },
  {
   "cell_type": "markdown",
   "id": "c9e300ba",
   "metadata": {},
   "source": [
    "### Exercise 11:\n",
    "\n",
    "Given a string str and another string patt. Find the first position (considering 0-based indexing) of the character in patt that is present at the minimum index in str."
   ]
  },
  {
   "cell_type": "code",
   "execution_count": null,
   "id": "5cbbff31",
   "metadata": {},
   "outputs": [],
   "source": []
  },
  {
   "cell_type": "markdown",
   "id": "d69306fc",
   "metadata": {},
   "source": [
    "### Exercise 12:\n",
    "\n",
    "There is one meeting room in a firm. There are N meetings in the form of (start[i], end[i]) where start[i] is start time of meeting i and end[i] is finish time of meeting i.\n",
    "What is the maximum number of meetings that can be accommodated in the meeting room when only one meeting can be held in the meeting room at a particular time?"
   ]
  },
  {
   "cell_type": "code",
   "execution_count": null,
   "id": "a85988e6",
   "metadata": {},
   "outputs": [],
   "source": []
  },
  {
   "cell_type": "markdown",
   "id": "1bb6292c",
   "metadata": {},
   "source": [
    "### Exercise 13:\n",
    "\n",
    " You have 5 jars of pills. Each pill weighs 10 grams, except for contaminated pills contained in one jar, where each pill weighs 9 grams. Given a scale, how could you tell which jar had the contaminated pills in just one measurement?\n"
   ]
  },
  {
   "cell_type": "code",
   "execution_count": null,
   "id": "57037caf",
   "metadata": {},
   "outputs": [],
   "source": []
  },
  {
   "cell_type": "markdown",
   "id": "5fe2bd88",
   "metadata": {},
   "source": [
    "### Exercise 14:\n",
    "\n",
    "How to remove duplicate nodes in an unsorted linked list"
   ]
  },
  {
   "cell_type": "code",
   "execution_count": null,
   "id": "e57dd2a4",
   "metadata": {},
   "outputs": [],
   "source": []
  },
  {
   "cell_type": "markdown",
   "id": "23af9999",
   "metadata": {},
   "source": [
    "### Exercise 15:\n",
    "GIVEN AN ARRAY OF INTEGERS, EVERY ELEMENT APPEARS TWICE EXCEPT FOR ONE. FIND THAT ONE.\n"
   ]
  },
  {
   "cell_type": "code",
   "execution_count": null,
   "id": "69ceeeeb",
   "metadata": {},
   "outputs": [],
   "source": []
  },
  {
   "cell_type": "markdown",
   "id": "c7f8610a",
   "metadata": {},
   "source": [
    "### Exercise 16:\n",
    "GIVEN A BINARY TREE, PRINT THE BOTTOM VIEW FROM LEFT TO RIGHT."
   ]
  },
  {
   "cell_type": "code",
   "execution_count": null,
   "id": "50df318e",
   "metadata": {},
   "outputs": [],
   "source": []
  },
  {
   "cell_type": "markdown",
   "id": "ef889415",
   "metadata": {},
   "source": [
    "### Exercise 17:\n",
    "\n",
    "DESIGN A PARKING LOT USING OBJECT-ORIENTED PRINCIPLES"
   ]
  },
  {
   "cell_type": "code",
   "execution_count": null,
   "id": "5d43c202",
   "metadata": {},
   "outputs": [],
   "source": []
  },
  {
   "cell_type": "markdown",
   "id": "cbee4376",
   "metadata": {},
   "source": [
    "### Exercise 18:\n",
    "\n",
    "A Russian gangster kidnaps you. He puts two bullets in consecutive order in an empty six-round revolver, spins it, points it at your head and shoots. *click* You’re still alive. He then asks you, “do you want me to spin it again and fire or pull the trigger again right away?” For each option, what is the probability that you’ll be shot?"
   ]
  },
  {
   "cell_type": "code",
   "execution_count": null,
   "id": "231794a1",
   "metadata": {},
   "outputs": [],
   "source": []
  },
  {
   "cell_type": "markdown",
   "id": "3250d57c",
   "metadata": {},
   "source": [
    "### Exercise 19:\n",
    "\n",
    "According to the story, four prisoners are arrested for a crime, but the jail is full and the jailer has nowhere to put them. He eventually comes up with the solution of giving them a puzzle so if they succeed they can go free but if they fail they are executed.\n",
    "\n",
    "The jailer seats three of the men into a line. B faces the wall, C faces B, and D faces C and B. The fourth man, A, is put behind a screen (or in a separate room). The jailer gives all four men party hats. He explains that there are two black hats and two white hats, that each prisoner is wearing one of the hats, and that each of the prisoners see only the hats in front of him but neither on himself nor behind him. The fourth man behind the screen can't see or be seen by any other prisoner. No communication among the prisoners is allowed.\n",
    "\n",
    "If any prisoner can figure out what color hat he has on his own head with 100% certainty (without guessing) he must then announce it, and all four prisoners go free. If any prisoner suggests an incorrect answer, all four prisoners are executed. The puzzle is to find how the prisoners can escape."
   ]
  },
  {
   "cell_type": "code",
   "execution_count": null,
   "id": "2810026e",
   "metadata": {},
   "outputs": [],
   "source": []
  },
  {
   "cell_type": "markdown",
   "id": "8a239793",
   "metadata": {},
   "source": [
    "### Exercise 20:\n",
    "\n",
    "You are standing before two doors. One of the path leads to heaven and the other one leads to hell. There are two guardians, one by each door. You know one of them always tells the truth and the other always lies, but you don’t know who is the honest one and who is the liar. You can only ask one question to one of them in order to find the way to heaven. What is the question?"
   ]
  },
  {
   "cell_type": "code",
   "execution_count": null,
   "id": "6012e21d",
   "metadata": {},
   "outputs": [],
   "source": []
  }
 ],
 "metadata": {
  "kernelspec": {
   "display_name": "Python 3",
   "language": "python",
   "name": "python3"
  },
  "language_info": {
   "codemirror_mode": {
    "name": "ipython",
    "version": 3
   },
   "file_extension": ".py",
   "mimetype": "text/x-python",
   "name": "python",
   "nbconvert_exporter": "python",
   "pygments_lexer": "ipython3",
   "version": "3.9.1"
  }
 },
 "nbformat": 4,
 "nbformat_minor": 5
}

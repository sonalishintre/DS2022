{
 "cells": [
  {
   "cell_type": "code",
   "execution_count": 1,
   "metadata": {},
   "outputs": [],
   "source": [
    " import pandas as pd"
   ]
  },
  {
   "cell_type": "markdown",
   "metadata": {},
   "source": [
    "# Python Fundamentals"
   ]
  },
  {
   "cell_type": "markdown",
   "metadata": {},
   "source": [
    "Question 1:\n",
    "\n",
    "    Given a list of strings, return another array containing all of its longest strings.\n",
    "  \n",
    "\n",
    "\n",
    "\n",
    "    Example\n",
    "    \n",
    "    For list_of_strings = ['123','abc','ab','a'] the returned value should be ['123','abc']\n",
    "\n",
    "\n",
    "\n",
    "    For this problem Time and Space Complexity will be taken into account. This can be solved in N time.\n",
    "    "
   ]
  },
  {
   "cell_type": "code",
   "execution_count": 2,
   "metadata": {},
   "outputs": [],
   "source": [
    "def solution(inputArray):\n"
   ]
  },
  {
   "cell_type": "markdown",
   "metadata": {},
   "source": [
    "Question 2:"
   ]
  },
  {
   "cell_type": "markdown",
   "metadata": {},
   "source": [
    "Ticket numbers consist of an even number of digits. A ticket number is considered lucky if the sum of the first half of the digits is equal to the sum of the second half.\n",
    "\n",
    "Given a ticket number n, print True if it's lucky, false otherwise.\n",
    "\n",
    "    For n = 1230, the output should be\n",
    "    true;\n",
    "    For n = 239017, the output should be\n",
    "    false."
   ]
  },
  {
   "cell_type": "code",
   "execution_count": null,
   "metadata": {},
   "outputs": [],
   "source": [
    "def solution(n):\n",
    "\n",
    "    "
   ]
  },
  {
   "cell_type": "markdown",
   "metadata": {},
   "source": [
    "# Pandas and Visualization Fundamentals"
   ]
  },
  {
   "cell_type": "markdown",
   "metadata": {},
   "source": [
    "Question 1:\n",
    "\n",
    "    Given the supplied DataFrame, Create a plot that displays the outliers of the sqft_living column. \n",
    "    Then, create a dataframe that removes the rows that contain outliers.\n",
    "\n",
    "    Clear labels and diagrams please."
   ]
  },
  {
   "cell_type": "code",
   "execution_count": 3,
   "metadata": {},
   "outputs": [],
   "source": [
    "df = pd.read_csv('kc_house_data.csv')"
   ]
  },
  {
   "cell_type": "markdown",
   "metadata": {},
   "source": [
    "Question 2:\n",
    "\n",
    "    Create a sub-dataframe with the following constraints.\n",
    "\n",
    "    It should only contain the following columns sqft_living,bathroom,grade,and bedrooms.\n",
    "\n",
    "    It should only contain rows that contain 2-3 bathrooms, and 3-4 bedrooms."
   ]
  },
  {
   "cell_type": "code",
   "execution_count": null,
   "metadata": {},
   "outputs": [],
   "source": []
  },
  {
   "cell_type": "markdown",
   "metadata": {},
   "source": [
    "# Machine Learning Fundamentals"
   ]
  },
  {
   "cell_type": "markdown",
   "metadata": {},
   "source": [
    "Question 1:\n",
    "\n",
    "    With Y as our output feature, which columns would be appropriate to use as our X Input features for Linear Regression? \n",
    "    Justify your reasoning for the features, and include diagrams as well as writeups."
   ]
  },
  {
   "cell_type": "code",
   "execution_count": null,
   "metadata": {},
   "outputs": [],
   "source": [
    "df = pd.read_csv('kc_house_data.csv')"
   ]
  },
  {
   "cell_type": "code",
   "execution_count": null,
   "metadata": {},
   "outputs": [],
   "source": []
  },
  {
   "cell_type": "markdown",
   "metadata": {},
   "source": [
    "Question 2:\n",
    "\n",
    "Create a model that performs Linear Regression on the Dataset.\n",
    "\n",
    "Expecatations. \n",
    "\n",
    "\n",
    "    Cross-Validatation. Ensure you build a Test Train Split.\n",
    "\n",
    "    Feature Scaling(if necessary). Ensure you scale your features of your input features if needed. Justify your changes.\n",
    "\n",
    "    Handling of Nulls and NaNs. If there are nulls or NaNs, please correct them and give reasoning as to your changes.\n",
    "\n",
    "    Comments and Segementation. A non technical person should be able to work through your notebook and understand the results, and the analysis. Include high quality comments as well as visualizations.\n",
    "\n",
    "    Score your results using Score, RMSE, RMAE. Ensure that you have an appropriate score.\n",
    "\n",
    "    Give insight as to which features impacted the model the most, as well as future features that you believe would help your model perform better.\n",
    "    \n",
    "\n"
   ]
  },
  {
   "cell_type": "code",
   "execution_count": null,
   "metadata": {},
   "outputs": [],
   "source": []
  }
 ],
 "metadata": {
  "interpreter": {
   "hash": "b9241fd27195c076a887a7247bca52aec369aec042cc90ebeea98b57c6f016b7"
  },
  "kernelspec": {
   "display_name": "Python 3.9.1 64-bit",
   "language": "python",
   "name": "python3"
  },
  "language_info": {
   "codemirror_mode": {
    "name": "ipython",
    "version": 3
   },
   "file_extension": ".py",
   "mimetype": "text/x-python",
   "name": "python",
   "nbconvert_exporter": "python",
   "pygments_lexer": "ipython3",
   "version": "3.9.1"
  }
 },
 "nbformat": 4,
 "nbformat_minor": 2
}

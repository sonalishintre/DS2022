{
 "cells": [
  {
   "cell_type": "markdown",
   "id": "4a66ec39",
   "metadata": {},
   "source": [
    "# Linear Algebra\n",
    "\n",
    "    As a person who values knowledge that has real world application,\n",
    "    I will preface this lesson with a  brief introduction\n",
    "    into Linear Algebra.\n"
   ]
  },
  {
   "cell_type": "markdown",
   "id": "3e443a77",
   "metadata": {},
   "source": [
    "# What does Linear Algebra look to do? "
   ]
  },
  {
   "cell_type": "markdown",
   "id": "1eb80a6e",
   "metadata": {},
   "source": [
    "    The answer to this is simpler than you think. It's a system of doing math \n",
    "    that allows us to solve n linear equations\n",
    "    in n dimensional space. That might seem complicated, but it's not. \n",
    "    Linear Algebra can be used to solve problems that deal with lines in any\n",
    "    dimension. Be it two, three, four or five, it's arbitrary.\n",
    "        \n",
    "        Linear Algebra also tries to simplify things.\n",
    "        It tries to give us a simple and concrete way to describe lines. \n",
    "        It is easy to describe a line in two dimensional space. \n",
    "        This is something that we learned to do in Algebra way back\n",
    "        in the day. \n",
    "        We all know that lines can be represented in the form y = mx + b.\n",
    "        This is great, and this is useful, but it becomes less useful as we increase dimensions. \n",
    "        As we move into 3D space, we can no longer use this, and as we move into\n",
    "        4D space we can no longer use it either. Linear Algebra gives us a simple way to represent these lines."
   ]
  },
  {
   "cell_type": "markdown",
   "id": "055b2b31",
   "metadata": {},
   "source": [
    "# The Basics"
   ]
  },
  {
   "cell_type": "markdown",
   "id": "6645002e",
   "metadata": {},
   "source": [
    " The most basic unit that we have in Linear Algebra is the Vector. A Vector is similar to a line, but it has one\n",
    "    important distinction. In addition to a magnitude, it has a direction. A Line is said to be scalar. This means that a line\n",
    "    has a magnitude, but it does not have a direction. \n",
    "    \n",
    "    \n",
    "    What does it mean to have a direction? This means that our line has to \"point\" to a certain place. Our line isn't\n",
    "    just how far away it is from an arbitrary point, it's \"How far away, and in what direction from an arbitrary point do we\n",
    "    go?\"\n",
    "    \n",
    "    What does it mean to have a direction? It's more easy to visualize than it is to explain, so I will do it right now.\n",
    "    \n",
    "    \"Demo the scalar versus the Vector\"\n",
    "    \n",
    "    Now that we know about the Vector, let's talk about how we can represent the Vector. Here was are going to use some\n",
    "    terminology, but as Computer Programmers, we should understand what we are talking about. A formal definition of a Vector\n",
    "    is an ordered two tuple pair of values. We can represent the vector as a tuple pair, and it looks exactly like it does in\n",
    "    Python. Important thing to note is that this is an ORDERED pair. What it means, is that order is quite important to our \n",
    "    tuple. For example, (2,3) is not the same as (3,2). The other way to represent a Vector, and the way that we will be\n",
    "    using most often is the matrix notation. This is once again ordered, and each component gets a seperate line in the \n",
    "    matrix. (2,3) is equivalent to [2,3].\n",
    "    \n",
    "    This is pivotal to Linear Algebra that we are clear about this, and clear about what they are, so please, \n",
    "    if you have any questions, please ask now.\n",
    "    \n",
    "    Another common way to represent Vectors is through Unit notation. With this, we are going to be introduced to two\n",
    "    new variables in mathematics. We are going to have i hat, and j hat. These are used to boil down all of Vectors\n",
    "    into forms that look very similar. The Vector [2,3] for example can be represented in Unit notation using 2i+j3.\n",
    "    These are all useful, and you can commonly see all of them used in your studies, so I suggest getting comfortable\n",
    "    with all of them.\n",
    "    \n",
    "    \n",
    "    \n",
    "    \n",
    "\n",
    "    Another important topic to understand is the plane that we are operating in. Generally we are said to exist in the plane(s)\n",
    "    of all REAL numbers. You might see this as a big bold R, or an R with an extra backing. This is the cartesian plane.\n",
    "    \n",
    "    \n",
    "\n",
    "    Enough about theory, let's get into some of the basic operations that we can do with Vectors. The first things that\n",
    "    we are going to tackle is Vector Addition, and Vector Multiplication by a Scalar. Let's tackle things visually in addition\n",
    "    to tackling something arithmetically. Let's say that we want to add the two vectors together, 2i+5j, and 5i and 6j.\n",
    "    Let's first draw these out on a graph. \n",
    "    \n",
    "    Now let's see what it means to \"add\" to vectors together. So in Vector Addition, what we do is simple. We take the \n",
    "    numerical values before the Is, and the numerical values before the Js and we add them together. We get, 7i+11j as our\n",
    "    result. Let's plot that out as well. \n",
    "    \n",
    "    Now, what is the result of addition? It's taking the two vectors and adding them tail to head. We put one vectors head\n",
    "    at the tail of the other. What's special about this line that we make? \n",
    "    \n",
    "    Correct, it completes a triangle! This is something important to note. While we can't cover it too in depth, just know that the magnitude of addition can be computed by finding the length of the third side of a triangle. \n",
    "    \n",
    "    \n",
    "    Before we move on, is everybody clear on what it means to add two Vectors? Does everyone feel comfortable adding two \n",
    "    vectors?\n",
    "    \n",
    "    \n",
    "    \n",
    "    \n",
    "\n",
    "    Now let's see what it means to multiply a vector by a scalar. The result is fairly simple, but it's important to see\n",
    "    what it is doing. Let's take the Vector [5,5]. What happens when we multiply it by 2? What we do, is we multiply each\n",
    "    component by the scalar. 2*[5,5] becomes [10,10]. What does this look like geometrically? Yes we can see that we are \n",
    "    \"scaling\" the vector. We are making it point in the same direction, but it's magnitude is changing. Something very \n",
    "    interesting happens when we multiply it by a negative number. What happens when we take that same vector [5.5] and we\n",
    "    multiply it by -1? Let's do that same operation. We get [-5,-5]. What does that look like algebreically? Well it \n",
    "    flips the Vector. It puts it in th eopposite quadrant in the 2 dimeional plane.\n",
    "    \n",
    "    \n",
    "    \n",
    "    Both of these operations are pivotal to understanding Linear Algebra, so lets cut out some time to make sure that we are\n",
    "    all on the same page.\n",
    "    \n",
    "    \n",
    "\n",
    "    The last thing that we are going to cover is subtraction. What does it mean to subtract vectors from each other?\n",
    "    Well subtraction can be abstracted from addition and multiplication, so how can we use that knowledge to subtract \n",
    "    two vectors? \n",
    "    \n",
    "    Given the vectors, v = [2,5] and b = [5,10], \n",
    "    What is the result of b-v?\n",
    "    What is the result of v-b?\n",
    "    \n",
    "    How can we get to these answers, and what do they look like graphically?\n",
    "    \n",
    "    \n",
    "    We can do 2-3 = 1 for the x componenent, and 5-5 = 0 for the y component, so our resultant vector is [3,5]\n",
    "    \n",
    "    \n",
    "    Let's graph all three of the result, and see what we get. What does Vector Represent? It represents the vector needed\n",
    "    to connect both heads of the vectors.\n",
    "    \n",
    "    What about v-b? We get [-3,-5]\n",
    "    \n",
    "    We can see that it is the same Vector, but flipped! We know that then this is what it takes to get from the\n",
    "    head of v to b, and the head of b to v.\n",
    "    \n",
    "    Before we move on, let's do a quick check for understanding. Is anyone confused as to what the evaluated vectors are or what they represent? Do we understand the \"questions\" or \"changes\" we are committing.\n",
    "    \n",
    "    "
   ]
  },
  {
   "cell_type": "markdown",
   "id": "9ba1c201",
   "metadata": {},
   "source": [
    "# Parametric Representation of a line"
   ]
  },
  {
   "cell_type": "code",
   "execution_count": null,
   "id": "5d9c4141",
   "metadata": {},
   "outputs": [],
   "source": []
  },
  {
   "cell_type": "code",
   "execution_count": null,
   "id": "5dd81569",
   "metadata": {},
   "outputs": [],
   "source": []
  }
 ],
 "metadata": {
  "kernelspec": {
   "display_name": "Python 3",
   "language": "python",
   "name": "python3"
  },
  "language_info": {
   "codemirror_mode": {
    "name": "ipython",
    "version": 3
   },
   "file_extension": ".py",
   "mimetype": "text/x-python",
   "name": "python",
   "nbconvert_exporter": "python",
   "pygments_lexer": "ipython3",
   "version": "3.9.1"
  }
 },
 "nbformat": 4,
 "nbformat_minor": 5
}

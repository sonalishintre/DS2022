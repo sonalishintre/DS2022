{
 "cells": [
  {
   "cell_type": "markdown",
   "id": "0fd83662-d6d4-4a09-9c3b-270ce1e1d430",
   "metadata": {
    "tags": []
   },
   "source": [
    "<div style=\"background: #000;\n",
    "            color: #FFF;\n",
    "            margin: 0px;\n",
    "                padding: 10px 0px 20px 0px;\n",
    "            text-align: center; \n",
    "                \">\n",
    "    <span style=\"margin-left: -15px;\"><img src=\"https://tkhv2-static.s3.amazonaws.com/static-final/assets/img/sec_logo2sec.png\"></img></span>\n",
    "    <h2 style=\"margin: 0; padding: 0;\">Data Science Fellowship</h2>\n",
    "    <h1 style=\"padding: 2220px 210px -30px 0px;\">Week  - Lab - 03/02/22</h1>\n",
    "</div>"
   ]
  },
  {
   "cell_type": "code",
   "execution_count": 4,
   "id": "f6a40ada-e01c-4f25-b85a-722348056ecb",
   "metadata": {},
   "outputs": [],
   "source": [
    "import pandas as pd\n",
    "import numpy as np\n",
    "import matplotlib.pyplot as plt"
   ]
  },
  {
   "cell_type": "markdown",
   "id": "0497a727-202c-4239-8514-db935e122b3d",
   "metadata": {
    "tags": []
   },
   "source": [
    "# Part 1 - Python\n",
    "\n",
    "Use the following cell to complete the exercises."
   ]
  },
  {
   "cell_type": "code",
   "execution_count": null,
   "id": "684a81ce-0e47-43d9-bb4d-39c9b0b12c21",
   "metadata": {},
   "outputs": [],
   "source": [
    "# this imports the random module from the python standard library\n",
    "import random\n",
    "\n",
    "# this returns random integers between 0 and 9\n",
    "# e.c.: what purpose does this function have? why would we use it?\n",
    "def randint():\n",
    "    return random.randint(0,9)\n",
    "\n",
    "# this returns a list of random integers of random size\n",
    "def random_list():\n",
    "    # e.c.: what is the `_` doing in the following line?\n",
    "    return [randint() for _ in range(randint() * 10)]\n",
    "\n",
    "# this is the `random_list` you'll use\n",
    "random_list = random_list()\n",
    "# e.c: Why do we `list` this?\n",
    "print(random_list)"
   ]
  },
  {
   "cell_type": "markdown",
   "id": "16d770af-d2a5-44f3-8619-89641e32e4d6",
   "metadata": {},
   "source": [
    "### Exercise 1\n",
    "\n",
    "Create a function below that calculates the arithmetic mean of the `random_list`.\n",
    "\n",
    "Formula for the arithmetic mean:\n",
    "\n",
    "$$\\mu = {\\frac {1}{n}}\\sum _{i=1}^{n}a_{i}={\\frac {a_{1}+a_{2}+\\cdots +a_{n}}{n}}$$"
   ]
  },
  {
   "cell_type": "code",
   "execution_count": null,
   "id": "b06160be-d3c8-416f-923a-f8bf7fd95f7e",
   "metadata": {},
   "outputs": [],
   "source": [
    "# Try to not use any built in methods or libraries.\n",
    "def mean(nums: list[int] = random_list) -> int:\n",
    "    ... # in this context `...` is the same as `pass`\n",
    "    \n",
    "mean()"
   ]
  },
  {
   "cell_type": "code",
   "execution_count": null,
   "id": "c612be46-c327-467a-939f-bb6e4efd86ba",
   "metadata": {},
   "outputs": [],
   "source": [
    "# to test your code for exercise 1:\n",
    "try:\n",
    "    import numpy as np\n",
    "    assert(mean() == np.mean(random_list))\n",
    "    print(\"solution is correct\")\n",
    "except AssertionError:\n",
    "    print(\"solution is incorrect\")\n",
    "except ImportError:\n",
    "    print(\"You need numpy.\")\n",
    "    print(\"In a separate cell, please run:\\n\\n!python3 -m pip install numpy\")"
   ]
  },
  {
   "cell_type": "markdown",
   "id": "01b53671-e0c5-4792-8640-e4f0ecc8c61d",
   "metadata": {},
   "source": [
    "<hr>"
   ]
  },
  {
   "cell_type": "markdown",
   "id": "c3bb0110-4606-41b0-8f6c-07a7298ba070",
   "metadata": {},
   "source": [
    "### Exercise 2\n",
    "\n",
    "Create a function that calculates the median of the `random_list`. "
   ]
  },
  {
   "cell_type": "code",
   "execution_count": null,
   "id": "01976c77-9e72-4006-bea3-1dedeb195c6d",
   "metadata": {},
   "outputs": [],
   "source": [
    "from typing import List, Union\n",
    "\n",
    "# e.c.: Do you understand what the type hints mean?\n",
    "def median(nums: List[int] = random_list) -> Union[int, float]:\n",
    "    ...\n",
    "\n",
    "median()"
   ]
  },
  {
   "cell_type": "code",
   "execution_count": null,
   "id": "2bab47af-6aaf-4d79-b1ab-9f51abcfd5c2",
   "metadata": {},
   "outputs": [],
   "source": [
    "# to test your code for exercise 2:\n",
    "try:\n",
    "    import numpy as np\n",
    "    assert(median() == np.median(random_list))\n",
    "    print(\"solution is correct\")\n",
    "except AssertionError:\n",
    "    print(\"solution is incorrect\")\n",
    "except ImportError:\n",
    "    print(\"You need numpy.\")\n",
    "    print(\"In a separate cell, please run:\\n\\n!python3 -m pip install numpy\")"
   ]
  },
  {
   "cell_type": "markdown",
   "id": "13ee42d5-f7ac-40bd-86b0-d12fc0c22ddb",
   "metadata": {},
   "source": [
    "<hr>"
   ]
  },
  {
   "cell_type": "markdown",
   "id": "dfd0abce-bcf1-4ce9-a2b3-235e70df4fa6",
   "metadata": {},
   "source": [
    "### Exercise 3\n",
    "\n",
    "Create a function that calculates the mode of the `random_list`.\n"
   ]
  },
  {
   "cell_type": "code",
   "execution_count": null,
   "id": "5c5ad740-1d3a-4e6b-9a48-9fa98c151255",
   "metadata": {},
   "outputs": [],
   "source": [
    "# Try not to use any built in python function or standard library module.\n",
    "# hint: what sort of fun can we have with dictionaries and iteration?\n",
    "def mode(nums: list[int] = random_list) -> Union[int, list[int]]:\n",
    "    ...\n",
    "\n",
    "mode()"
   ]
  },
  {
   "cell_type": "code",
   "execution_count": null,
   "id": "214b092c-844d-4f83-a480-a5193cdab649",
   "metadata": {},
   "outputs": [],
   "source": [
    "# to test your code for exercise 3:\n",
    "try:\n",
    "    from collections import Counter\n",
    "    # e.c. There is a bug in this code. Can you figure out what it is? (hint: look at the type hints)\n",
    "    assert(mode() == Counter(random_list).most_common(1)[0][0])\n",
    "    print(\"solution is correct\")\n",
    "except AssertionError:\n",
    "    print(\"solution is incorrect\")\n",
    "except ImportError:\n",
    "    print(\"You need numpy.\")\n",
    "    print(\"In a separate cell, please run:\\n\\n!python3 -m pip install numpy\")"
   ]
  },
  {
   "cell_type": "markdown",
   "id": "2b479f29-753a-4c7d-b19a-2b55c35cf371",
   "metadata": {},
   "source": [
    "<hr>"
   ]
  },
  {
   "cell_type": "markdown",
   "id": "f4727358-b6dc-4ea8-91c9-c810b263276f",
   "metadata": {},
   "source": [
    "### Exercise 4\n",
    "\n",
    "Create a function that calculates the variance of the `random_list`.\n",
    "\n",
    "Formula for variance:\n",
    "\n",
    "$$ \\sigma^{2} = \\frac{\\Sigma{(x_i - \\mu)^{2}}}{n} $$\n",
    "where:  \n",
    "$\\mu$ is the arithmetic mean of our list  \n",
    "$n$ is the total number of elements in our list  \n",
    "$x_i ... x_n$ are each of the $n$ elements of the list   \n",
    "\n",
    "Note: We already have a method to calculate the mean. Might be useful.\n",
    "\n",
    "Extra Credit: Notice that our formula is calculating the population variance but our function takes an argument `dof` for 'degrees of freedom' in case we need to calculate a sample variance. How can we adjust the formula to account for degrees of freedom? If you can solve that, then try editing our test code to test for degrees of freedom."
   ]
  },
  {
   "cell_type": "code",
   "execution_count": null,
   "id": "f47fa227-0bb6-487e-b8b3-2d13540562ff",
   "metadata": {},
   "outputs": [],
   "source": [
    "def variance(nums: list[int] = random_list, dof=0) -> float:\n",
    "    ...\n",
    "    \n",
    "variance()"
   ]
  },
  {
   "cell_type": "code",
   "execution_count": null,
   "id": "2bc74669-8767-4ecc-98cd-fd9964682b2a",
   "metadata": {},
   "outputs": [],
   "source": [
    "# to test your code for exercise 4:\n",
    "try:\n",
    "    assert(variance() == np.var(random_list))\n",
    "    print(\"solution is correct\")\n",
    "except AssertionError:\n",
    "    print(\"solution is incorrect\")\n",
    "except ImportError:\n",
    "    print(\"You need numpy.\")\n",
    "    print(\"In a separate cell, please run:\\n\\n!python3 -m pip install numpy\")"
   ]
  },
  {
   "cell_type": "markdown",
   "id": "1558e3f6-d743-42ed-bb14-9ad82be9e784",
   "metadata": {},
   "source": [
    "<hr>"
   ]
  },
  {
   "cell_type": "markdown",
   "id": "2750a783-8d52-47b2-a5a3-c4cf1360a8fc",
   "metadata": {},
   "source": [
    "### Exercise 5\n",
    "\n",
    "Create a function that calculates the standard deviation of the `random_list`. \n",
    "\n",
    "Formula for standard deviation:\n",
    "\n",
    "\n",
    "$$ \\sigma = \\sqrt{\\frac{\\Sigma{(x_i - \\mu)^{2}}}{n}} $$\n",
    "where:  \n",
    "$\\mu$ is the arithmetic mean of our list  \n",
    "$x_i ... x_n$ are the $n$ values of the list  \n",
    "$n$ is the total number of elements in our list  \n",
    "\n",
    "hint: Note that the standard deviation is the square root of the variance. How can we use function composition or currying to solve this simply?\n",
    "\n",
    "Extra Credit: Notice that our formula is calculating the population standard deviation but our function takes an argument `dof` for 'degrees of freedom' in case we need to calculate a sample variance. How can we adjust the formula to account for degrees of freedom? If you can solve that, then try editing our test code to test for degrees of freedom."
   ]
  },
  {
   "cell_type": "code",
   "execution_count": null,
   "id": "5c435b24-78e6-4392-87e4-7d15604eff99",
   "metadata": {},
   "outputs": [],
   "source": [
    "def stddev(nums: list[int] = random_list, dof: int = 0) -> float:\n",
    "    ...\n",
    "    \n",
    "stddev()"
   ]
  },
  {
   "cell_type": "code",
   "execution_count": null,
   "id": "6df829e9-40a0-44c0-b67a-dfb41040d1a1",
   "metadata": {},
   "outputs": [],
   "source": [
    "# to test your code for exercise 5:\n",
    "try:\n",
    "    from collections import Counter\n",
    "    # e.c. There is a bug in this testing logic. Can you figure out what it is? (hint: look at the type hints)\n",
    "    assert(stddev() == np.std(random_list))\n",
    "    print(\"solution is correct\")\n",
    "except AssertionError:\n",
    "    print(\"solution is incorrect\")\n",
    "except ImportError:\n",
    "    print(\"You need numpy.\")\n",
    "    print(\"In a separate cell, please run:\\n\\n!python3 -m pip install numpy\")"
   ]
  },
  {
   "cell_type": "markdown",
   "id": "b97f5696-2cbb-4254-91bb-a37383f51a66",
   "metadata": {},
   "source": [
    "<hr>"
   ]
  },
  {
   "cell_type": "markdown",
   "id": "570162ff-d1fb-452d-bd58-1e922afc58f3",
   "metadata": {},
   "source": [
    "## Part 2 - Numpy Problems\n",
    "\n",
    "Some of these questions are vague and not well composed. Do your best and ask questions if confused. Obviously, do not hard code anything. Use `numpy` methods."
   ]
  },
  {
   "cell_type": "markdown",
   "id": "298f0c5d-3830-4204-a969-b341a8eda7ec",
   "metadata": {},
   "source": [
    "### Exercise 1\n",
    "\n",
    "Using numpy, create an array that contains the values of $y$ for each of the $x$ values ranging from 0 to 100.\n",
    "\n",
    "$$ y = 12x+4  $$"
   ]
  },
  {
   "cell_type": "code",
   "execution_count": null,
   "id": "432352a0-5b8c-46f7-88ed-6a1ae03faa28",
   "metadata": {},
   "outputs": [],
   "source": []
  },
  {
   "cell_type": "markdown",
   "id": "f7766212-9ffd-48e2-9cbc-b3cfc4b39a4f",
   "metadata": {},
   "source": [
    "### Exercise 2\n",
    "\n",
    "Create a 2-dimensional numpy array that contains the numbers from 1 to 20 with even numbers in the first column and odd numbers in the second."
   ]
  },
  {
   "cell_type": "code",
   "execution_count": null,
   "id": "22e097db-716c-42d5-a0ac-cb9fc9192ff0",
   "metadata": {},
   "outputs": [],
   "source": []
  },
  {
   "cell_type": "markdown",
   "id": "71eb80d5-159d-4cb5-8835-66636380549f",
   "metadata": {},
   "source": [
    "### Exercise 3\n",
    "\n",
    "Create a numpy array with random numbers between 0 and 1."
   ]
  },
  {
   "cell_type": "code",
   "execution_count": null,
   "id": "04be4d2d-4979-49c1-ad0b-c18cbf32391b",
   "metadata": {},
   "outputs": [],
   "source": []
  },
  {
   "cell_type": "markdown",
   "id": "aacc4994-5732-4bfb-a3e5-3bc8abc406ad",
   "metadata": {},
   "source": [
    "### Exercise 4\n",
    "\n",
    "Create an array that contains 100 numbers. All of them between 0 and 5. Then add that to an array that contains the numbers from 0 to 99."
   ]
  },
  {
   "cell_type": "code",
   "execution_count": null,
   "id": "970e7ba1-b118-434f-90e8-2f96cf142483",
   "metadata": {},
   "outputs": [],
   "source": []
  },
  {
   "cell_type": "markdown",
   "id": "01373162-0f47-45cc-b611-fc9085384cfb",
   "metadata": {},
   "source": [
    "### Exercise 5\n",
    "\n",
    "Create a 10 by 10 matrix containing zeros. Then create a 10 by 10 matrix containing ones. Combine the two matrices so that the new dimensions are 20 by 10."
   ]
  },
  {
   "cell_type": "code",
   "execution_count": null,
   "id": "dd0584f3-287c-43bd-999f-fb8bff5bc4b7",
   "metadata": {},
   "outputs": [],
   "source": []
  },
  {
   "cell_type": "markdown",
   "id": "6d43773a-e3a5-4f23-9683-c786824109f2",
   "metadata": {},
   "source": [
    "### Exercise 6\n",
    "\n",
    "Given the following numpy array, find the cumulative sum along the rows. Then find the cumulative sum along the columns. Then output the 2nd (1st index) column but only the first 10 rows. You should get a very recognizable pattern."
   ]
  },
  {
   "cell_type": "code",
   "execution_count": 57,
   "id": "df168eab-572c-431f-86b4-f1688b3d75eb",
   "metadata": {},
   "outputs": [
    {
     "data": {
      "text/plain": [
       "array([3, 6, 9])"
      ]
     },
     "execution_count": 57,
     "metadata": {},
     "output_type": "execute_result"
    }
   ],
   "source": [
    "a = np.array([[1,2,3],[4,5,6],[7,8,9]])\n",
    "\n",
    "a[:,2]\n"
   ]
  },
  {
   "cell_type": "markdown",
   "id": "44e0a1c5-a4f4-49e7-bf59-7111e5067260",
   "metadata": {},
   "source": [
    "### Exercise 7\n",
    "\n",
    "Using the following string. Turn it into a numpy array where all the letters are their own element."
   ]
  },
  {
   "cell_type": "code",
   "execution_count": null,
   "id": "d374b630-58be-480b-b244-1ba8d42627db",
   "metadata": {},
   "outputs": [],
   "source": [
    "s = \"helloworld\""
   ]
  },
  {
   "cell_type": "markdown",
   "id": "166a372c-2f34-41f4-8f27-e986a08b4788",
   "metadata": {},
   "source": [
    "### Exercise 8\n",
    "\n",
    "How would we flatten the following array?"
   ]
  },
  {
   "cell_type": "code",
   "execution_count": null,
   "id": "d73c385b-51c4-48ed-a895-3a54a17c8a88",
   "metadata": {},
   "outputs": [],
   "source": [
    "a = np.eye(10)"
   ]
  },
  {
   "cell_type": "markdown",
   "id": "0d0fb020-2dc9-440a-b217-e66e586a4a04",
   "metadata": {},
   "source": [
    "<hr>"
   ]
  },
  {
   "cell_type": "markdown",
   "id": "2a62f64a-2a75-4e45-98a1-848a8c2a61b2",
   "metadata": {},
   "source": [
    "## Part 3 - Pandas Problems"
   ]
  },
  {
   "cell_type": "markdown",
   "id": "40c3a481-4896-421d-a14f-f4a5302b6d2c",
   "metadata": {},
   "source": [
    "**1.** Create a dataframe using the following:"
   ]
  },
  {
   "cell_type": "code",
   "execution_count": null,
   "id": "d552c30d-9090-48b2-818f-2447784a04c5",
   "metadata": {},
   "outputs": [],
   "source": [
    "lst = [['Red',4],['Blue',6],['Green',1],\\\n",
    "       ['Yellow',5],['White',3],['Black',2],]\n"
   ]
  },
  {
   "cell_type": "markdown",
   "id": "d60528f4-10b2-4254-9c63-82c90e9b3a72",
   "metadata": {},
   "source": [
    "**2.** Create a dataframe using the following:"
   ]
  },
  {
   "cell_type": "code",
   "execution_count": null,
   "id": "6252ed36-505d-42b2-9d26-758bcb8f5baa",
   "metadata": {},
   "outputs": [],
   "source": [
    "dct = {'red':4, 'blue':6, 'green':1,\\\n",
    "       'yellow':5, 'white':3, 'black':2 }\n"
   ]
  },
  {
   "cell_type": "markdown",
   "id": "31daee94-acd4-4110-8bc0-5f195e1094c9",
   "metadata": {},
   "source": [
    "**The following exercises will use the dataset imported below:**\n"
   ]
  },
  {
   "cell_type": "code",
   "execution_count": null,
   "id": "4c9e5aac-e76d-4ac4-9082-3d786b514dd9",
   "metadata": {},
   "outputs": [],
   "source": [
    "df = pd.DataFrame([[np.nan,'Toyota','Camry',336978, 24765,np.nan],[2019,'Toyota','Corolla',304850, np.nan,4560556],[2019,'Toyota','Supra',np.nan, 35545,102511.78],[2019,np.nan,'Avalon',np.nan ,36480,1012940.16]])\n",
    "df.columns = ['year', 'make', 'model', 'number sold', 'price', 'revenue (in thousands)']\n",
    "df"
   ]
  },
  {
   "cell_type": "markdown",
   "id": "21be421a-b131-4871-8b56-88cb569f4a71",
   "metadata": {},
   "source": [
    "### Exercise 4\n",
    "\n",
    "Fix the `year` column in the dataframe by replacing missing values with the average value of that column."
   ]
  },
  {
   "cell_type": "code",
   "execution_count": null,
   "id": "146a46ec-1d86-45a2-9401-76dba6e7943f",
   "metadata": {},
   "outputs": [],
   "source": []
  },
  {
   "cell_type": "markdown",
   "id": "704cd38c-5fd5-4632-bb70-7f47d5d8e0fb",
   "metadata": {},
   "source": [
    "### Exercise 5\n",
    "\n",
    "Fix the `'make'` column by replacing the missing value with the value that occurred most frequently (mode)."
   ]
  },
  {
   "cell_type": "code",
   "execution_count": null,
   "id": "b7074adb-8204-490b-89ae-05cd1aff6d42",
   "metadata": {},
   "outputs": [],
   "source": []
  },
  {
   "cell_type": "markdown",
   "id": "9203bca0-a61f-423d-a844-88d8d1379a84",
   "metadata": {},
   "source": [
    "### Exercise 6\n",
    "\n",
    "Fix the `'revenue (in thousands)'` column by calculating the approximate revenue. Remember that the value of `'revenue'` is in the 1000s.\n",
    "\n",
    "$$ \\textrm{revenue} = \\textrm{number sold} * \\textrm{price} $$"
   ]
  },
  {
   "cell_type": "code",
   "execution_count": null,
   "id": "36016860-82ee-4e34-b81e-7cefb31002fb",
   "metadata": {},
   "outputs": [],
   "source": []
  },
  {
   "cell_type": "markdown",
   "id": "15299b5f-d228-479d-af0b-aac1080c8985",
   "metadata": {},
   "source": [
    "### Exercise 7\n",
    "\n",
    "Fix the `'price'` column by calculating the approximate price.\n",
    "\n",
    "$$ \\textrm{price} = \\frac{\\textrm{revenue}}{\\textrm{number sold}} $$"
   ]
  },
  {
   "cell_type": "code",
   "execution_count": null,
   "id": "b28b43db-25b3-4e42-aeed-07a079aaf0e4",
   "metadata": {},
   "outputs": [],
   "source": []
  },
  {
   "cell_type": "markdown",
   "id": "1f4de12a-84c3-4528-aa25-b68d37557e4b",
   "metadata": {},
   "source": [
    "### Exercise 8\n",
    "\n",
    "Fix the `'number sold'` column by calculating the approximate number of vehicles sold.\n",
    "\n",
    "$$ \\textrm{number sold} = \\frac{\\textrm{revenue}}{\\textrm{price}} $$"
   ]
  },
  {
   "cell_type": "markdown",
   "id": "bf86c7d7-3abe-4106-9a41-091d070aadc5",
   "metadata": {},
   "source": [
    "### Exercise 9\n",
    "\n",
    "We'd like to analyze the `SNAP_history_1969_2019.csv` dataset, however it's missing some data. Find the missing values. Fix incorrect entries as well.\n",
    "\n",
    "Some helpful formulas:\n",
    "\n",
    "$ \\texttt{Total Costs} = \\texttt{Total Benefits} + \\texttt{Other Costs} $\n",
    "\n",
    "$ \\texttt{Total Benefits} = \\texttt{Total Costs} - \\texttt{Other Costs} $\n",
    "\n",
    "$ \\texttt{Other Costs} = \\texttt{Total Costs} - \\texttt{Total Benefits} $\n",
    "\n",
    "$ \\texttt{Average Participation} = \\frac{\\texttt{Total Benefits}}{\\texttt{Average Benefits Per Person}}$\n",
    "\n",
    "$ \\texttt{Average Benefits Per Person} = \\frac{\\texttt{Total Benefits}}{\\texttt{Average Participation}}$\n",
    "\n",
    "$ \\texttt{Total Benefits} = \\texttt{Average Benefits Per Person} * \\texttt{Average Participation}$\n",
    "\n",
    "Hint: Think about how we can filter for specific columns that are null and apply a fix for those missing values.\n",
    "\n",
    "Notes:\n",
    "* `Average Participation` is in the thousands and all costs  are in the millions.\n",
    "* There may be issues with this data as it was sloppily dirtied. Please let us know if there are any issues."
   ]
  },
  {
   "cell_type": "code",
   "execution_count": 1,
   "id": "6cb7b3e8-57a6-4294-8ff4-2eeb368e7535",
   "metadata": {},
   "outputs": [
    {
     "ename": "NameError",
     "evalue": "name 'pd' is not defined",
     "output_type": "error",
     "traceback": [
      "\u001b[1;31m---------------------------------------------------------------------------\u001b[0m",
      "\u001b[1;31mNameError\u001b[0m                                 Traceback (most recent call last)",
      "\u001b[1;32m<ipython-input-1-d4963ce95d7f>\u001b[0m in \u001b[0;36m<module>\u001b[1;34m\u001b[0m\n\u001b[0;32m      1\u001b[0m \u001b[1;31m# calling it s_df to not confuse it with the others\u001b[0m\u001b[1;33m\u001b[0m\u001b[1;33m\u001b[0m\u001b[1;33m\u001b[0m\u001b[0m\n\u001b[0;32m      2\u001b[0m \u001b[1;31m# and because `snap_df` is too much to constantly write\u001b[0m\u001b[1;33m\u001b[0m\u001b[1;33m\u001b[0m\u001b[1;33m\u001b[0m\u001b[0m\n\u001b[1;32m----> 3\u001b[1;33m \u001b[0ms_df\u001b[0m \u001b[1;33m=\u001b[0m \u001b[0mpd\u001b[0m\u001b[1;33m.\u001b[0m\u001b[0mread_csv\u001b[0m\u001b[1;33m(\u001b[0m\u001b[1;34m'SNAP_history_1969_2019.csv'\u001b[0m\u001b[1;33m)\u001b[0m\u001b[1;33m\u001b[0m\u001b[1;33m\u001b[0m\u001b[0m\n\u001b[0m\u001b[0;32m      4\u001b[0m \u001b[0ms_df\u001b[0m\u001b[1;33m\u001b[0m\u001b[1;33m\u001b[0m\u001b[0m\n",
      "\u001b[1;31mNameError\u001b[0m: name 'pd' is not defined"
     ]
    }
   ],
   "source": [
    "# calling it s_df to not confuse it with the others \n",
    "# and because `snap_df` is too much to constantly write\n",
    "s_df = pd.read_csv('SNAP_history_1969_2019.csv')\n",
    "s_df"
   ]
  },
  {
   "cell_type": "code",
   "execution_count": null,
   "id": "9fe0725b-b2d9-4016-8c1e-cf92f74c0ea8",
   "metadata": {},
   "outputs": [],
   "source": [
    "s_df.info()"
   ]
  },
  {
   "cell_type": "code",
   "execution_count": null,
   "id": "abfffa7e-be6c-4c57-ae3a-dacdd3b1b369",
   "metadata": {},
   "outputs": [],
   "source": [
    "s_df[s_df.isnull().any(axis=1)]"
   ]
  },
  {
   "cell_type": "code",
   "execution_count": null,
   "id": "b0e5ffad-bf06-4192-811f-bc58b5b0f5d9",
   "metadata": {},
   "outputs": [],
   "source": []
  },
  {
   "cell_type": "markdown",
   "id": "79a82731-ea93-45bf-b3c2-a9d23ebc8d62",
   "metadata": {},
   "source": [
    "# Part 4 - Data Visualization"
   ]
  },
  {
   "cell_type": "markdown",
   "id": "e76e2a1d-9ddc-4fb7-b613-40ec6344a994",
   "metadata": {},
   "source": [
    "We'd like to do some analysis on a `grades.csv` dataset.\n",
    "\n",
    "Using the following dataframe, do some exploratory analysis and then plot, at least, one chart using matplotlib (with title, axes labeled and anything else that would make it look professional)."
   ]
  },
  {
   "cell_type": "code",
   "execution_count": null,
   "id": "38d2edad-7cda-4767-b312-e811a45a4421",
   "metadata": {},
   "outputs": [],
   "source": [
    "# calling it g_df to not confuse it with the others \n",
    "# and because `grades_df` is too much to constantly write\n",
    "g_df = pd.read_csv('./datasets/grades.csv')\n",
    "g_df"
   ]
  },
  {
   "cell_type": "code",
   "execution_count": null,
   "id": "b0376511-1659-4eb9-bdd7-477f9075762a",
   "metadata": {},
   "outputs": [],
   "source": []
  }
 ],
 "metadata": {
  "kernelspec": {
   "display_name": "Python 3",
   "language": "python",
   "name": "python3"
  },
  "language_info": {
   "codemirror_mode": {
    "name": "ipython",
    "version": 3
   },
   "file_extension": ".py",
   "mimetype": "text/x-python",
   "name": "python",
   "nbconvert_exporter": "python",
   "pygments_lexer": "ipython3",
   "version": "3.9.1"
  }
 },
 "nbformat": 4,
 "nbformat_minor": 5
}

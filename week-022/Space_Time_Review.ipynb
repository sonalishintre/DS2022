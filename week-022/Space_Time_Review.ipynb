{
 "cells": [
  {
   "cell_type": "markdown",
   "id": "f99d1a0c",
   "metadata": {},
   "source": [
    "# Space and Time Complexity"
   ]
  },
  {
   "cell_type": "code",
   "execution_count": 1,
   "id": "1453d749",
   "metadata": {},
   "outputs": [],
   "source": [
    "# We need a generic way to express the Growth Rate of our Algorithm\n",
    "\n",
    "# We need to capture how much space in memory our algo is going to take\n",
    "\n",
    "# We need to capture the amount of operations. (Loops)"
   ]
  },
  {
   "cell_type": "code",
   "execution_count": 2,
   "id": "3fd0c689",
   "metadata": {},
   "outputs": [],
   "source": [
    "import random\n",
    "\n",
    "def create_random_arr(size):\n",
    "    return [random.randrange(101) for x in range(size+1)]"
   ]
  },
  {
   "cell_type": "markdown",
   "id": "d278a605",
   "metadata": {},
   "source": [
    "# Bubble Sort\n",
    "\n"
   ]
  },
  {
   "cell_type": "code",
   "execution_count": 30,
   "id": "3752dc68",
   "metadata": {},
   "outputs": [],
   "source": [
    "def bubblesort(arr):\n",
    "    arr_len = len(arr)\n",
    "    n = 0\n",
    "    count = 0\n",
    "    while len(arr[0:arr_len-1-n]) >= 1:\n",
    "        i=0\n",
    "        j=1\n",
    "        swaps = 0\n",
    "        while j <= len(arr)-1-n:\n",
    "            if arr[i] > arr[j]:\n",
    "                arr[i],arr[j]=arr[j],arr[i]\n",
    "                swaps+=1\n",
    "            i+=1\n",
    "            j+=1\n",
    "            count+=1\n",
    "        if swaps == 0:\n",
    "            return arr,count\n",
    "        n+=1\n",
    "    return arr,count\n",
    "\n",
    "\n",
    "# What is the time complexity? O(n^2) Quadratic time\n",
    "# What is the space complexity? O(1) Constant Space\n",
    "# What is the best case scenario? Already Sorted (n)\n",
    "# What is the worst case scenario? Opposite Order (n^2)\n",
    "# What is the average scenario? n^2"
   ]
  },
  {
   "cell_type": "code",
   "execution_count": 32,
   "id": "82bfea3c",
   "metadata": {},
   "outputs": [
    {
     "data": {
      "text/plain": [
       "([1, 2, 3, 4, 5, 6, 7, 8, 9, 10], 9)"
      ]
     },
     "execution_count": 32,
     "metadata": {},
     "output_type": "execute_result"
    }
   ],
   "source": [
    "bubblesort([1,2,3,4,5,6,7,8,9,10])"
   ]
  },
  {
   "cell_type": "markdown",
   "id": "a789d058",
   "metadata": {},
   "source": [
    "# Selection Sort"
   ]
  },
  {
   "cell_type": "code",
   "execution_count": 34,
   "id": "b96d66a7",
   "metadata": {},
   "outputs": [],
   "source": [
    "def selection_sort(arr):\n",
    "    len_arr = len(arr)\n",
    "    n = 0\n",
    "    count=0    \n",
    "    while len(arr[n:]) > 1:      \n",
    "        i=0+n\n",
    "        j=1+n\n",
    "        flip = False\n",
    "        while j <= len(arr)-1 :\n",
    "            if arr[i] > arr[j]:\n",
    "                arr[i],arr[j] = arr[j],arr[i]\n",
    "                flip=True\n",
    "            \n",
    "            j+=1 \n",
    "            count+=1\n",
    "        if flip==False:\n",
    "            return arr,count\n",
    "        n+=1\n",
    "        \n",
    "    return arr,count\n",
    "\n",
    "#What is the worst case scenario? O(n^2), Array is in reverse\n",
    "#What is the best cast scenario? O(n) , Array is sorted already\n",
    "# What is the space complexity? Constant Space O(n)\n",
    "# What is the time complexity? O(n^2) Quadratic Time\n",
    "# What is the average case? n^2"
   ]
  },
  {
   "cell_type": "code",
   "execution_count": 35,
   "id": "1de9ba3c",
   "metadata": {},
   "outputs": [
    {
     "data": {
      "text/plain": [
       "([1, 2, 3, 4, 5, 6, 7, 8, 9, 10], 9)"
      ]
     },
     "execution_count": 35,
     "metadata": {},
     "output_type": "execute_result"
    }
   ],
   "source": [
    "selection_sort([1,2,3,4,5,6,7,8,9,10])"
   ]
  },
  {
   "cell_type": "code",
   "execution_count": null,
   "id": "c7e05205",
   "metadata": {},
   "outputs": [],
   "source": []
  }
 ],
 "metadata": {
  "kernelspec": {
   "display_name": "Python 3",
   "language": "python",
   "name": "python3"
  },
  "language_info": {
   "codemirror_mode": {
    "name": "ipython",
    "version": 3
   },
   "file_extension": ".py",
   "mimetype": "text/x-python",
   "name": "python",
   "nbconvert_exporter": "python",
   "pygments_lexer": "ipython3",
   "version": "3.9.1"
  }
 },
 "nbformat": 4,
 "nbformat_minor": 5
}

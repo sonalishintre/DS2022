{
 "cells": [
  {
   "cell_type": "code",
   "execution_count": null,
   "metadata": {},
   "outputs": [],
   "source": []
  },
  {
   "cell_type": "markdown",
   "metadata": {},
   "source": [
    "<div style=\"background: #000;\n",
    "            color: #FFF;\n",
    "            margin: 0px;\n",
    "            padding: 20px 0px 0px 0px;\">\n",
    "    <h1><center>Phase 1 Assessment</center></h1>\n",
    "</div>\n",
    "\n",
    "### Instructions:\n",
    "1. Rename this notebook to include your name in the following format: firstname_lastname_phase1assessment.ipynb (files submitted without names will be docked 20 points).\n",
    "2. Do NOT commit your solutions to github. Submit this file to google classroom __(automatic failure if you push this to github)__.\n",
    "3. Do NOT plagerize. Submit your own work (partial credit will be generous) __(automatic failure if caught)__.\n",
    "4. Please private message any questions to either members of staff so that any vagueness/uncertainty can be addressed.\n"
   ]
  },
  {
   "cell_type": "markdown",
   "metadata": {},
   "source": [
    "### Exercise 1\n",
    "#### Subject: Algorithms, Python Core Concepts\n",
    "    Write a function that creates a tree pattern, with height equal to n. The tree should be right aligned.\n",
    "    \n",
    "    I.E. \n",
    "    when n = 2 ->  *\n",
    "                  **\n",
    "             \n",
    "\n",
    "\n",
    "    when n = 3 ->  *\n",
    "                  **\n",
    "                 ***\n",
    "\n",
    "\n",
    "    Ensure that each tree has the proper white spacing \n",
    "    "
   ]
  },
  {
   "cell_type": "code",
   "execution_count": null,
   "metadata": {},
   "outputs": [],
   "source": [
    "def make_tree(n):\n",
    "    "
   ]
  },
  {
   "cell_type": "markdown",
   "metadata": {},
   "source": [
    "### Exercise 2\n",
    "\n",
    "    Write a function that reverses a string.\n",
    "    Do not use built-in methods/functions. No .reverse() and no [::-1], please use an iterative loop.\n",
    "#### Subject: Python Core Concepts\n"
   ]
  },
  {
   "cell_type": "code",
   "execution_count": null,
   "metadata": {},
   "outputs": [],
   "source": [
    "def reverse_string(string):\n",
    "   #fill in code\n",
    "\n",
    "\n",
    "try:\n",
    "    assert(reverse_string(\"Hello\") == \"olleH\")\n",
    "    assert(reverse_string(\"Goodbye\") == \"eybdooG\")\n",
    "    assert(reverse_string(\"Water\") == \"retaW\")\n",
    "    print(\"solution is correct\")\n",
    "except AssertionError:\n",
    "    print(\"Solution is incorrect\")"
   ]
  },
  {
   "cell_type": "markdown",
   "metadata": {},
   "source": [
    "### Exercise 3\n",
    "\n",
    "Write a function that takes in 2 paramters. The first is a list of integers, and the second is a target value.\n",
    "The function should return all pairs that equal the target values as a list of a list.\n",
    "If no pairs are found, return \"No matches found\"\n",
    "\n",
    "#### Subject: Python Core Concepts"
   ]
  },
  {
   "cell_type": "code",
   "execution_count": null,
   "metadata": {},
   "outputs": [],
   "source": [
    "def find_pairs(arr,target):\n",
    "\n",
    "\n",
    "try:\n",
    "    assert(find_pairs([2,4,6,8],8) == [[2,6]] )\n",
    "    assert(find_pairs([1,1,2,4],3) == [[1,2],[1,2]])\n",
    "    assert(find_pairs([1,4,5,7],12) == [[5,7]])\n",
    "    assert(find_pairs([1,2,3,4],100) == \"No matches found\")\n",
    "    print(\"solution is correct\")\n",
    "except AssertionError:\n",
    "    print(\"Solution is incorrect\")\n",
    "    \n",
    "    "
   ]
  },
  {
   "cell_type": "markdown",
   "metadata": {},
   "source": [
    "### Exercise 4\n",
    "Given the class Vector, which should take 2 parameters, an X value, and a Y Value,\n",
    "Overload the following methods.\n",
    "\n",
    "The addition method, which should take 2 vectors and return a new Vector where the values are x1+x2, y1+y2\n",
    "\n",
    "\n",
    "A dot product method, which overloads the multiplication method, and returns a value equal to x1*x2 +y1+y2\n",
    "\n",
    "\n",
    "A comparison method which checks to see whether or not 2 vectors are equal\n",
    "\n",
    "The print method, which should print a vector as follows \"Vector(x,y)\"\n",
    "\n",
    "\n",
    "The methods to override are add, mul, eq, and str.\n",
    "\n",
    "\n",
    "#### Subject: Object Oriented Programming, Python Core Concepts\n",
    "    \n",
    "    \n",
    "    \n",
    "   "
   ]
  },
  {
   "cell_type": "code",
   "execution_count": null,
   "metadata": {},
   "outputs": [],
   "source": [
    "class Vector():\n",
    "    "
   ]
  },
  {
   "cell_type": "markdown",
   "metadata": {},
   "source": [
    "### Exercise 5\n",
    "\n",
    "Given the 2 classes, fill in the methods.\n",
    "    \n",
    "    \n",
    "    \n",
    "For the Student Class\n",
    "    \n",
    "    \n",
    "The Student add_grade method should add a grade to an object that contains all of the students grades.    \n",
    "The grade should have a name, and a score attached.    \n",
    "I.E.\n",
    "{\"Geometry Lab 1\":99}\n",
    "    \n",
    "    \n",
    "The return_grades method should return that object \n",
    "    \n",
    "    \n",
    "The return_mean should return the mean of that students assignments.\n",
    "    \n",
    "    \n",
    "    \n",
    "For the Class_of_Students\n",
    "    \n",
    "The add_student() method should add a Student object to an object that can hold multiple students\n",
    "    \n",
    "the get_mean() method should return the mean of all students within the class_of_students object.\n",
    "    \n",
    "the get_mean_of_assignment() should return the mean of a particular assignment\n",
    "\n",
    "#### Subject: Object Oriented Programming, Python Core Concepts\n",
    "    \n"
   ]
  },
  {
   "cell_type": "code",
   "execution_count": null,
   "metadata": {},
   "outputs": [],
   "source": [
    "class Student():\n",
    "    def __init__():\n",
    "        \n",
    "    def add_grade()\n",
    "    \n",
    "    def return_grades():\n",
    "        \n",
    "    def return_mean():\n",
    "        \n",
    "        \n",
    "        \n",
    "        \n",
    "        \n",
    "class Class_of_Students():\n",
    "    def __init__():\n",
    "    \n",
    "    def add_student():\n",
    "    \n",
    "    def get_mean():\n",
    "    \n",
    "    def get_mean_of_assignment():\n",
    "    "
   ]
  },
  {
   "cell_type": "markdown",
   "metadata": {},
   "source": [
    "### Exercise 6\n",
    "\n",
    "The class Vehicle should take in 3 parameters, name, max_speed,mileage, and capacity.\n",
    "It should contain a method called seating_capacity() which returns the string \n",
    "\"The max seating capacity of {Vehicle} is {capacity}\"\n",
    "\n",
    "The Bus class should inherit from the Vehicle class, but it has a fixed capacity of 50.\n",
    "\n",
    "Use inheritance to avoid repeating code.\n",
    "\n",
    "\n",
    "#### Subject: Object Oriented Programming"
   ]
  },
  {
   "cell_type": "code",
   "execution_count": null,
   "metadata": {},
   "outputs": [],
   "source": [
    "class Vehicle:\n",
    "    def __init__():\n",
    "    \n",
    "    def seating_capacity():\n",
    "\n",
    "        \n",
    "class Bus():\n"
   ]
  },
  {
   "cell_type": "markdown",
   "metadata": {},
   "source": [
    "### Exercise 7\n",
    "\n",
    "Write a function that returns the LCM of any number of integers.\n",
    "\n",
    "Do not use built ins.\n",
    "\n",
    "#### Subject: Python Core Concepts\n",
    "\n"
   ]
  },
  {
   "cell_type": "code",
   "execution_count": null,
   "metadata": {},
   "outputs": [],
   "source": [
    "\n",
    "def calculate_LCM(*args):\n",
    "    #insert code here\n",
    "\n",
    "try:\n",
    "    assert(calculate_LCM(12,15,75) == 300)\n",
    "    assert(calculate_LCM(100,5,10) == 100)\n",
    "    assert(calculate_LCM(12,16,58) == 1392)\n",
    "    print(\"Solution is correct\")\n",
    "except AssertionError:\n",
    "    print(\"solution is incorrect\")"
   ]
  },
  {
   "cell_type": "markdown",
   "metadata": {},
   "source": [
    "### Exercise 8\n",
    "Write a function called letter_subtraction that takes in two inputs. The first input should be a starting value and the second input should be the value for conversion. If the conversion value contains all characters (alphabetical only), convert each character to unicode and subtract each value from the starting value. If the conversion value is not all characters, return the starting_value.\n",
    "\n",
    "#### Subject: Functions, Loops"
   ]
  },
  {
   "cell_type": "code",
   "execution_count": null,
   "metadata": {},
   "outputs": [],
   "source": [
    "def letter_subtr(starting_val, conversion_val):\n",
    "    #fill in code here\n",
    "\n",
    "try:\n",
    "    assert(letter_subtr(100, 'a') == 3)\n",
    "    assert(letter_subtr(100, 'a2') == 100)\n",
    "    assert(letter_subtr(563, 'zhty') == 100)\n",
    "\n",
    "    print(\"solution is correct\")\n",
    "except AssertionError:\n",
    "    print(\"solution is incorrect\")"
   ]
  },
  {
   "cell_type": "markdown",
   "metadata": {},
   "source": [
    "### Exercise 9\n",
    "Write a function called even_odd that takes a list as input and outputs a dictionary. The function should count the number of even and odd numbers from the input list and output a dictionary in the following format: {even: # of evens, odd: # of odds}. Any values in the input list that are not integers should be ignored. \n",
    "\n",
    "#### Subject: Functions, Conditionals, Loops"
   ]
  },
  {
   "cell_type": "code",
   "execution_count": null,
   "metadata": {},
   "outputs": [],
   "source": [
    "def even_odd(lst):\n",
    "    #fill in code here\n",
    "    \n",
    "try:\n",
    "    assert(even_odd([1,2,3,4]) == {'even': 2, 'odd': 2})\n",
    "    assert(even_odd([1,'a',2,'b',3,'c',4]) == {'even': 2, 'odd': 2})\n",
    "    assert(even_odd(['a','b','c']) == {'even': 0, 'odd': 0})\n",
    "    print(\"solution is correct\")\n",
    "    \n",
    "except:\n",
    "    print(\"solution is incorrect\")\n",
    "\n"
   ]
  },
  {
   "cell_type": "markdown",
   "metadata": {},
   "source": [
    "### Exercise 10\n",
    "Write a function called list_to_sentence that should take a list as input and concatenate all the items together. The function should return a string. If the item in the list is punctuation that normally ends a sentence ('.','?','!'), then add a space afterwards while concatenating. \n",
    "\n",
    "#### Subject: Functions, Loops, Conditionals"
   ]
  },
  {
   "cell_type": "code",
   "execution_count": null,
   "metadata": {},
   "outputs": [],
   "source": [
    "def list_to_sentence:\n",
    "    #fill in code here\n",
    "\n",
    "try:\n",
    "    assert(list_to_sentence(['s','l','i','m',' ','j','i','m','s']) == 'slim jims')\n",
    "    assert(list_to_sentence(['s','l','i','m',' ','j','i','m','s', '.', 'am I right?']) == 'slim jims. Am I right?')\n",
    "    print(\"solution is probably correct\")\n",
    "except:\n",
    "    print(\"solution is incorrect\")\n",
    "\n"
   ]
  },
  {
   "cell_type": "markdown",
   "metadata": {},
   "source": [
    "### Exercise 11\n",
    "Create a function that takes an integer input from a user and returns a output of that number multipled by every number from 15 to 105 in multiples of 15. Your function must use a while loop and the input function. Example output:\n",
    "\n",
    "Enter any number  : 4 <br>\n",
    "4  *  15  =  60 <br>\n",
    "4  *  30  =  120 <br>\n",
    "4  *  45  =  180 <br>\n",
    "4  *  60  =  240 <br>\n",
    "4  *  75  =  300 <br>\n",
    "4  *  90  =  360 <br>\n",
    "4  *  105 =  420 <br>\n",
    "\n",
    "#### Subject: Functions, Loops"
   ]
  },
  {
   "cell_type": "code",
   "execution_count": null,
   "metadata": {},
   "outputs": [],
   "source": []
  },
  {
   "cell_type": "markdown",
   "metadata": {},
   "source": [
    "### Exercise 12\n",
    "Create a function below that overall operates in cubic run-time (O(n^3)). Comment your code to explain what it is doing and provide justification for it's run-time. Bonus: if there are subcompenents that operate in different run-times comment what those run-times would be individually.\n",
    "\n",
    "#### Subject: Big O"
   ]
  },
  {
   "cell_type": "code",
   "execution_count": null,
   "metadata": {},
   "outputs": [],
   "source": []
  },
  {
   "cell_type": "markdown",
   "metadata": {},
   "source": [
    "### Exercise 13\n",
    "Given the code below, what is Big O run-time for the algorithm? Choose from the following choices and explain: Expotential, Constant, Linear, Logorithmic, or Polynomial.\n",
    "\n",
    "#### Subject: Big O"
   ]
  },
  {
   "cell_type": "code",
   "execution_count": null,
   "metadata": {},
   "outputs": [],
   "source": [
    "def searchFunction(alist, item):\n",
    "    beginning = 0\n",
    "    end = len(alist)-1\n",
    "    done = False\n",
    "\n",
    "    while beginning <= end and not done:\n",
    "        midpoint = (beginning + end)//2\n",
    "        if alist[midpoint] == item:\n",
    "            done = True\n",
    "        else:\n",
    "            if item < alist[midpoint]:\n",
    "                end = midpoint-1\n",
    "            else:\n",
    "                beginning = midpoint+1\n",
    "\n",
    "    return done"
   ]
  },
  {
   "cell_type": "code",
   "execution_count": null,
   "metadata": {},
   "outputs": [],
   "source": []
  },
  {
   "cell_type": "markdown",
   "metadata": {},
   "source": [
    "### Exercise 14\n",
    "\n",
    "Given the Entity Relationship Diagram (ERD) for the sakila database (which can be found at https://www.jooq.org/sakila), write a query that will return the customers within each country in the database. The results should be in ascending order based on the count of customers within a country. Only include the top 10 countries in the output. Include the query and an image of the data output. If you have issues running mySQL, go to the following link to execute: https://demo.phpmyadmin.net/master-config/index.php?route=/database/sql&db=sakila.\n",
    "\n",
    "\n",
    "#### Subject: SQL"
   ]
  },
  {
   "cell_type": "code",
   "execution_count": null,
   "metadata": {},
   "outputs": [],
   "source": []
  },
  {
   "cell_type": "markdown",
   "metadata": {},
   "source": [
    "### Exercise 15\n",
    "\n",
    "#### Subject: SQL\n",
    "\n",
    "\n",
    "You were recently hired to work at Gamestop, where you are in charge of predicting video game sales (as well as investing in $GME to the mooooooon). In order for any data science algorithms to be used against the data, it needs to be stored in a relational database. You have been tasked with creating the logic behind how the database should be created/organized. \n",
    "\n",
    "Luckily, you know there are only going to be 4 entities (tables) required to capture the data: Employees, Stores, Inventory, and Transactions. Each table must contain at least 4 attributes and at least one primary key. Primary keys should be marked specifically, and all attributes should have data types specified. Finally, define the relationships between tables (one-to-one, one-to-many, or many-to-many). You can do the description of table relationships here instead of in your ERD if you wish. \n",
    "\n",
    "Deliverable: upload an image of your Entity Relationship Diagram (ERD) with the requirements listed above, as well as 3-5 sentences describing your logic behind the database that you have designed.\n",
    "\n"
   ]
  },
  {
   "cell_type": "code",
   "execution_count": null,
   "metadata": {},
   "outputs": [],
   "source": []
  },
  {
   "cell_type": "markdown",
   "metadata": {},
   "source": [
    "### Exercise 16\n",
    "\n",
    "Your fellow colleague is new to ERD diagrams. He asks you what the lines between tables means in an ERD diagram. you decide to use the Entity Relationship Diagram (ERD) for the sakila database (which can be found at https://www.jooq.org/sakila), and in your example you explain the relationship between each of the following tables: Payment, Rental, and Customer.  Include that explanation below:\n",
    "\n",
    "#### Subject: SQL"
   ]
  },
  {
   "cell_type": "code",
   "execution_count": null,
   "metadata": {},
   "outputs": [],
   "source": []
  }
 ],
 "metadata": {
  "kernelspec": {
   "display_name": "Python 3",
   "language": "python",
   "name": "python3"
  },
  "language_info": {
   "codemirror_mode": {
    "name": "ipython",
    "version": 3
   },
   "file_extension": ".py",
   "mimetype": "text/x-python",
   "name": "python",
   "nbconvert_exporter": "python",
   "pygments_lexer": "ipython3",
   "version": "3.8.8"
  }
 },
 "nbformat": 4,
 "nbformat_minor": 4
}
